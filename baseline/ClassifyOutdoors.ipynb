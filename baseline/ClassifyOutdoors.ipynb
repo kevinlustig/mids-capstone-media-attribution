{
 "cells": [
  {
   "cell_type": "code",
   "execution_count": 24,
   "id": "7add87ba",
   "metadata": {},
   "outputs": [],
   "source": [
    "import os\n",
    "from PIL import Image\n",
    "import pandas as pd\n",
    "from matplotlib import pyplot as plt\n",
    "from IPython.display import clear_output"
   ]
  },
  {
   "cell_type": "code",
   "execution_count": 25,
   "id": "aa3ae6fe",
   "metadata": {},
   "outputs": [],
   "source": [
    "OUTDOOR_DIR = \"../outdoor\"\n",
    "IMAGES_DIR = f\"{OUTDOOR_DIR}/images\"\n",
    "\n",
    "###From: https://towardsdatascience.com/label-your-images-easily-using-this-jupyter-notebook-code-4102037b7821\n",
    "\n",
    "def create_labels(path):\n",
    "\n",
    "    labels = []\n",
    "    path = path + '/'\n",
    "    val_for = ['jpg', 'jpeg', 'png']\n",
    "    img_list = os.listdir(path)\n",
    "    img_list = [i for i in img_list if i.split('.')[-1] in val_for]\n",
    "    \n",
    "    for i in img_list:\n",
    "        im = Image.open(path + i)\n",
    "        plt.imshow(im)\n",
    "        plt.show()\n",
    "        inp = input()\n",
    "        labels.append(int(inp))\n",
    "        clear_output(wait=True)\n",
    "        \n",
    "    data = {'Image':img_list, 'Label':labels}\n",
    "    df = pd.DataFrame(data)\n",
    "    df.to_csv(f\"{path}/labels.csv\") \n",
    "    \n",
    "    print('\\nlabels.csv saved!')\n",
    "    return (df)"
   ]
  },
  {
   "cell_type": "markdown",
   "id": "9230de6a",
   "metadata": {},
   "source": [
    "# For each image, input a number for whether the image is indoors/outdoors\n",
    "## 0 = indoors\n",
    "## 1 = outdoors"
   ]
  },
  {
   "cell_type": "code",
   "execution_count": 27,
   "id": "b8affee9",
   "metadata": {},
   "outputs": [
    {
     "name": "stdout",
     "output_type": "stream",
     "text": [
      "\n",
      "labels.csv saved!\n"
     ]
    },
    {
     "data": {
      "text/html": [
       "<div>\n",
       "<style scoped>\n",
       "    .dataframe tbody tr th:only-of-type {\n",
       "        vertical-align: middle;\n",
       "    }\n",
       "\n",
       "    .dataframe tbody tr th {\n",
       "        vertical-align: top;\n",
       "    }\n",
       "\n",
       "    .dataframe thead th {\n",
       "        text-align: right;\n",
       "    }\n",
       "</style>\n",
       "<table border=\"1\" class=\"dataframe\">\n",
       "  <thead>\n",
       "    <tr style=\"text-align: right;\">\n",
       "      <th></th>\n",
       "      <th>Image</th>\n",
       "      <th>Label</th>\n",
       "    </tr>\n",
       "  </thead>\n",
       "  <tbody>\n",
       "    <tr>\n",
       "      <th>0</th>\n",
       "      <td>4650143588.jpg</td>\n",
       "      <td>0</td>\n",
       "    </tr>\n",
       "    <tr>\n",
       "      <th>1</th>\n",
       "      <td>4648427466.jpg</td>\n",
       "      <td>1</td>\n",
       "    </tr>\n",
       "  </tbody>\n",
       "</table>\n",
       "</div>"
      ],
      "text/plain": [
       "            Image  Label\n",
       "0  4650143588.jpg      0\n",
       "1  4648427466.jpg      1"
      ]
     },
     "execution_count": 27,
     "metadata": {},
     "output_type": "execute_result"
    }
   ],
   "source": [
    "create_labels(f\"{IMAGES_DIR}/test\")"
   ]
  },
  {
   "cell_type": "code",
   "execution_count": null,
   "id": "0f6275b7",
   "metadata": {},
   "outputs": [],
   "source": []
  }
 ],
 "metadata": {
  "kernelspec": {
   "display_name": "Python 3 (ipykernel)",
   "language": "python",
   "name": "python3"
  },
  "language_info": {
   "codemirror_mode": {
    "name": "ipython",
    "version": 3
   },
   "file_extension": ".py",
   "mimetype": "text/x-python",
   "name": "python",
   "nbconvert_exporter": "python",
   "pygments_lexer": "ipython3",
   "version": "3.8.10"
  }
 },
 "nbformat": 4,
 "nbformat_minor": 5
}
