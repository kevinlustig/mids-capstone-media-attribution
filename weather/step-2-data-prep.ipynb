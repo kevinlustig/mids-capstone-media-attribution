{
 "cells": [
  {
   "cell_type": "code",
   "execution_count": 1,
   "metadata": {
    "id": "wsKLhVswOONp",
    "tags": []
   },
   "outputs": [],
   "source": [
    "import pandas as pd\n",
    "import numpy as np\n",
    "import gc\n",
    "import swifter\n",
    "from tqdm.auto import tqdm\n",
    "import math\n",
    "#import dask.dataframe as dd\n",
    "\n",
    "latitude_dtype = np.int8\n",
    "longitude_dtype = np.int16"
   ]
  },
  {
   "cell_type": "markdown",
   "metadata": {
    "jp-MarkdownHeadingCollapsed": true,
    "tags": []
   },
   "source": [
    "### Process Image metadata\n",
    "\n",
    "- Round the geocode for accuracy level to 111km\n",
    "- Keep images 2007-2012\n",
    "- Drop images with geocode as 0,0\n",
    "- Store the result to csv to use with dask dataframes"
   ]
  },
  {
   "cell_type": "code",
   "execution_count": 2,
   "metadata": {
    "id": "U8ZsVcGPZwoN",
    "tags": []
   },
   "outputs": [],
   "source": [
    "import re\n",
    "import datetime\n",
    "\n",
    "def format_usaf(code):\n",
    "    return str(int(re.sub('\\D', '', str(code))))\n",
    "\n",
    "def year_moda_to_date(year, moda):\n",
    "    try:\n",
    "        return datetime.datetime(year,int(moda[:-2]), int(moda[-2:])).date()\n",
    "    except:\n",
    "        return None"
   ]
  },
  {
   "cell_type": "code",
   "execution_count": null,
   "metadata": {
    "id": "Q7L12duPQqe1",
    "tags": []
   },
   "outputs": [],
   "source": [
    "#read and filter the images by accuracy for training?\n",
    "df_images = pd.read_csv('data/photo_metadata.csv', \n",
    "                        usecols = ['id', 'latitude', 'longitude','date_taken'])"
   ]
  },
  {
   "cell_type": "code",
   "execution_count": null,
   "metadata": {
    "id": "RnkovbO7zI-n",
    "tags": []
   },
   "outputs": [],
   "source": [
    "df_images['latitude']=df_images['latitude'].round().astype(latitude_dtype)\n",
    "df_images['longitude']=df_images['longitude'].round().astype(longitude_dtype)\n",
    "df_images['geo'] = list(zip(df_images.latitude, df_images.longitude))"
   ]
  },
  {
   "cell_type": "code",
   "execution_count": null,
   "metadata": {
    "id": "CsDCbuo64Ze6",
    "tags": []
   },
   "outputs": [],
   "source": [
    "#Filter out missing geocode values\n",
    "#optimize how the rows are filtered to reduce memory usage\n",
    "drop_indexes = df_images[(df_images.latitude==0)&(df_images.longitude==0)].index\n",
    "df_images = df_images.drop(drop_indexes)\n",
    "drop_indexes = None"
   ]
  },
  {
   "cell_type": "code",
   "execution_count": null,
   "metadata": {
    "id": "2xqaV2yE5qsA",
    "tags": []
   },
   "outputs": [],
   "source": [
    "df_images['date_taken'] = pd.to_datetime(df_images['date_taken'], errors = 'coerce').map(lambda t: t.date())\n",
    "df_images['date_taken_year'] = df_images['date_taken'].map(lambda t: t.year)"
   ]
  },
  {
   "cell_type": "code",
   "execution_count": null,
   "metadata": {
    "id": "Ko_1omt1ZoAP",
    "tags": []
   },
   "outputs": [],
   "source": [
    "df_images = df_images[df_images.date_taken_year.isin([2007,2008,2009,2010,2011,2012])]\n",
    "#df_images = df_images[df_images.date_taken_year.isin([2007])]"
   ]
  },
  {
   "cell_type": "code",
   "execution_count": null,
   "metadata": {
    "colab": {
     "base_uri": "https://localhost:8080/"
    },
    "id": "dINhGRX3ERXn",
    "outputId": "c56b5369-62eb-4992-b514-14e5f0bf6111",
    "tags": []
   },
   "outputs": [],
   "source": [
    "df_images.drop(columns=['date_taken_year'], inplace=True)"
   ]
  },
  {
   "cell_type": "code",
   "execution_count": null,
   "metadata": {
    "colab": {
     "base_uri": "https://localhost:8080/"
    },
    "id": "YUNtrviR660c",
    "outputId": "0f6a9d4c-d8dd-480f-bef2-2be81dfda19f",
    "tags": []
   },
   "outputs": [],
   "source": [
    "df_images.info()"
   ]
  },
  {
   "cell_type": "code",
   "execution_count": null,
   "metadata": {
    "tags": []
   },
   "outputs": [],
   "source": [
    "df_images.to_pickle(\"data/images_2007_2012.pickle\")"
   ]
  },
  {
   "cell_type": "code",
   "execution_count": null,
   "metadata": {},
   "outputs": [],
   "source": []
  },
  {
   "cell_type": "code",
   "execution_count": 3,
   "metadata": {},
   "outputs": [],
   "source": [
    "df_images = pd.read_pickle(\"data/images_2007_2012.pickle\")"
   ]
  },
  {
   "cell_type": "code",
   "execution_count": null,
   "metadata": {},
   "outputs": [],
   "source": []
  },
  {
   "cell_type": "code",
   "execution_count": null,
   "metadata": {
    "tags": []
   },
   "outputs": [],
   "source": [
    "#df_images.to_csv(\"data/images_processed.csv\", index_label=False)"
   ]
  },
  {
   "cell_type": "code",
   "execution_count": null,
   "metadata": {
    "tags": []
   },
   "outputs": [],
   "source": [
    "#df_images = dd.read_csv(\"data/images_processed.csv\")"
   ]
  },
  {
   "cell_type": "code",
   "execution_count": null,
   "metadata": {},
   "outputs": [],
   "source": []
  },
  {
   "cell_type": "code",
   "execution_count": null,
   "metadata": {},
   "outputs": [],
   "source": []
  },
  {
   "cell_type": "code",
   "execution_count": null,
   "metadata": {},
   "outputs": [],
   "source": []
  },
  {
   "cell_type": "markdown",
   "metadata": {
    "jp-MarkdownHeadingCollapsed": true,
    "tags": []
   },
   "source": [
    "### Process stations metadata\n",
    "\n",
    "- Round the geocode for accuracy level to 111km\n",
    "- Remove the stations that doesn't have any image\n",
    "- Remove the stations without USAF"
   ]
  },
  {
   "cell_type": "code",
   "execution_count": null,
   "metadata": {
    "id": "oQpcYNfUZoC5",
    "tags": []
   },
   "outputs": [],
   "source": [
    "station_df= pd.read_csv('data/isd-history.csv',\n",
    "                        usecols = ['USAF', 'LAT', 'LON'])  "
   ]
  },
  {
   "cell_type": "code",
   "execution_count": null,
   "metadata": {
    "id": "bKuGPjlR8BX1",
    "tags": []
   },
   "outputs": [],
   "source": [
    "station_df.fillna(0, inplace=True)"
   ]
  },
  {
   "cell_type": "code",
   "execution_count": null,
   "metadata": {
    "id": "c5zzy03r7KnB",
    "tags": []
   },
   "outputs": [],
   "source": [
    "station_df['LAT']=station_df['LAT'].round().astype(latitude_dtype)\n",
    "station_df['LON']=station_df['LON'].round().astype(longitude_dtype)\n",
    "station_df['geo'] = list(zip(station_df.LAT, station_df.LON))"
   ]
  },
  {
   "cell_type": "code",
   "execution_count": null,
   "metadata": {
    "colab": {
     "base_uri": "https://localhost:8080/"
    },
    "id": "QyHQaG_5F1af",
    "outputId": "6ab8bf22-4b45-4686-8a85-c0ebb31e1373",
    "tags": []
   },
   "outputs": [],
   "source": [
    "#filter out the stations that doesn't have any image taken near by\n",
    "print(\"Shape before filter\", station_df.shape)\n",
    "\n",
    "drop_indexes = station_df[~station_df.geo.isin(df_images.geo)].index\n",
    "station_df = station_df.drop(drop_indexes)\n",
    "drop_indexes = None\n",
    "\n",
    "print(\"Shape after filter\", station_df.shape)"
   ]
  },
  {
   "cell_type": "code",
   "execution_count": null,
   "metadata": {},
   "outputs": [],
   "source": [
    "station_df = station_df[station_df['USAF']!='999999']"
   ]
  },
  {
   "cell_type": "code",
   "execution_count": null,
   "metadata": {
    "colab": {
     "base_uri": "https://localhost:8080/",
     "height": 143
    },
    "id": "-bpBmrruZwr8",
    "outputId": "34dd24a1-3331-4f52-bfa9-59df314477d7",
    "tags": []
   },
   "outputs": [],
   "source": [
    "station_df['USAF'] = station_df.USAF.swifter.progress_bar(True).apply(format_usaf)\n",
    "station_df['USAF'] = station_df['USAF'].astype(int)\n",
    "station_df.head(3)"
   ]
  },
  {
   "cell_type": "code",
   "execution_count": null,
   "metadata": {
    "tags": []
   },
   "outputs": [],
   "source": [
    "station_df.to_pickle(\"data/stations.pickle\")"
   ]
  },
  {
   "cell_type": "code",
   "execution_count": null,
   "metadata": {},
   "outputs": [],
   "source": []
  },
  {
   "cell_type": "code",
   "execution_count": null,
   "metadata": {
    "tags": []
   },
   "outputs": [],
   "source": [
    "station_df = pd.read_pickle(\"data/stations.pickle\")"
   ]
  },
  {
   "cell_type": "code",
   "execution_count": null,
   "metadata": {
    "tags": []
   },
   "outputs": [],
   "source": [
    "#station_df.to_csv(\"data/station_processed.csv\", index_label=False)"
   ]
  },
  {
   "cell_type": "code",
   "execution_count": null,
   "metadata": {
    "tags": []
   },
   "outputs": [],
   "source": [
    "#station_df = pd.read_csv(\"data/station_processed.csv\")"
   ]
  },
  {
   "cell_type": "code",
   "execution_count": null,
   "metadata": {
    "tags": []
   },
   "outputs": [],
   "source": [
    "#station_df['USAF'] = station_df['USAF'].astype(int)"
   ]
  },
  {
   "cell_type": "code",
   "execution_count": null,
   "metadata": {
    "tags": []
   },
   "outputs": [],
   "source": [
    "station_df.info()"
   ]
  },
  {
   "cell_type": "code",
   "execution_count": null,
   "metadata": {},
   "outputs": [],
   "source": []
  },
  {
   "cell_type": "code",
   "execution_count": null,
   "metadata": {},
   "outputs": [],
   "source": []
  },
  {
   "cell_type": "code",
   "execution_count": null,
   "metadata": {},
   "outputs": [],
   "source": []
  },
  {
   "cell_type": "markdown",
   "metadata": {
    "jp-MarkdownHeadingCollapsed": true,
    "tags": []
   },
   "source": [
    "### Process Weather Data\n",
    "\n",
    "- Drop the rows without STN code\n",
    "- Create date field from year, moda fields\n",
    "- Merge Wether data with stations data\n",
    "- Keep one weather measures per geo per day"
   ]
  },
  {
   "cell_type": "code",
   "execution_count": null,
   "metadata": {
    "id": "E8FetAGPaIdG",
    "tags": []
   },
   "outputs": [],
   "source": [
    "weather_df = pd.read_pickle(\"data/weather_2007_2012.pkl\")\n"
   ]
  },
  {
   "cell_type": "code",
   "execution_count": null,
   "metadata": {
    "tags": []
   },
   "outputs": [],
   "source": [
    "weather_df = weather_df.astype({'STN':int, 'YEAR':'int16', 'MODA':'int16',\n",
    "                                'TEMP':float,'DEWP':float,'SLP':float,\n",
    "                                'VISIB':float, 'WDSP':float, 'PRCP':float, 'SNDP':float})"
   ]
  },
  {
   "cell_type": "code",
   "execution_count": null,
   "metadata": {
    "tags": []
   },
   "outputs": [],
   "source": [
    "weather_df.info()\n",
    "#24635200\n",
    "#21697189"
   ]
  },
  {
   "cell_type": "code",
   "execution_count": null,
   "metadata": {
    "tags": []
   },
   "outputs": [],
   "source": [
    "weather_df.reset_index(drop=True)\n",
    "weather_df.head()"
   ]
  },
  {
   "cell_type": "code",
   "execution_count": null,
   "metadata": {
    "tags": []
   },
   "outputs": [],
   "source": [
    "weather_df = weather_df[weather_df['STN']!=999999]"
   ]
  },
  {
   "cell_type": "code",
   "execution_count": null,
   "metadata": {
    "id": "hrg6yydnCzmm",
    "tags": []
   },
   "outputs": [],
   "source": [
    "#weather_df = weather_df[['STN', 'YEAR', 'MODA','TEMP','DEWP', 'SLP','VISIB', 'WDSP','PRCP', 'SNDP']]"
   ]
  },
  {
   "cell_type": "code",
   "execution_count": null,
   "metadata": {
    "id": "FWcEUe6xaIiC",
    "tags": []
   },
   "outputs": [],
   "source": [
    "#weather_df['STN']=weather_df.swifter.progress_bar(True).apply(lambda x: format_usaf(str(x.STN)), axis=1)\n",
    "#weather_df['STN']=weather_df['STN'].apply(format_usaf)"
   ]
  },
  {
   "cell_type": "code",
   "execution_count": null,
   "metadata": {
    "id": "zhMKLG9-3kt-",
    "tags": []
   },
   "outputs": [],
   "source": [
    "weather_df = weather_df[weather_df.STN.isin(station_df.USAF)]#.head(100000)"
   ]
  },
  {
   "cell_type": "code",
   "execution_count": null,
   "metadata": {
    "colab": {
     "base_uri": "https://localhost:8080/",
     "height": 206
    },
    "id": "TAy3d3VPaIkd",
    "outputId": "0a8efb74-dc6f-4667-e6b4-24c0610b656c",
    "tags": []
   },
   "outputs": [],
   "source": [
    "weather_df['date'] = weather_df.swifter.progress_bar(True).apply(lambda x: year_moda_to_date(int(x.YEAR), str(int(x.MODA))), axis=1)\n",
    "#weather_df['date'] = weather_df.apply(lambda x: year_moda_to_date(x.YEAR, str(x.MODA)), axis=1)\n",
    "weather_df.head()"
   ]
  },
  {
   "cell_type": "code",
   "execution_count": null,
   "metadata": {
    "id": "Aq8sQO98HQDV",
    "tags": []
   },
   "outputs": [],
   "source": [
    "weather_df.drop(columns=['YEAR', 'MODA'], inplace=True)"
   ]
  },
  {
   "cell_type": "code",
   "execution_count": null,
   "metadata": {
    "tags": []
   },
   "outputs": [],
   "source": [
    "weather_df.to_pickle(\"data/weather_2007_2012_processed.pkl\")"
   ]
  },
  {
   "cell_type": "code",
   "execution_count": null,
   "metadata": {
    "tags": []
   },
   "outputs": [],
   "source": [
    "#weather_df.to_csv(\"data/weather_2007_2012_processed.csv\", index_label=False)"
   ]
  },
  {
   "cell_type": "code",
   "execution_count": null,
   "metadata": {
    "tags": []
   },
   "outputs": [],
   "source": [
    "weather_df = pd.read_pickle(\"data/weather_2007_2012_processed.pkl\")"
   ]
  },
  {
   "cell_type": "code",
   "execution_count": null,
   "metadata": {
    "tags": []
   },
   "outputs": [],
   "source": [
    "del(weather_df)"
   ]
  },
  {
   "cell_type": "code",
   "execution_count": null,
   "metadata": {},
   "outputs": [],
   "source": [
    "#weather_df = pd.read_csv(\"data/weather_2007_2012_processed.csv\")"
   ]
  },
  {
   "cell_type": "code",
   "execution_count": null,
   "metadata": {},
   "outputs": [],
   "source": []
  },
  {
   "cell_type": "code",
   "execution_count": null,
   "metadata": {},
   "outputs": [],
   "source": []
  },
  {
   "cell_type": "code",
   "execution_count": null,
   "metadata": {},
   "outputs": [],
   "source": [
    "weather_merged = pd.merge(station_df, weather_df,  how='inner', left_on=['USAF'], right_on = ['STN'])"
   ]
  },
  {
   "cell_type": "code",
   "execution_count": null,
   "metadata": {
    "tags": []
   },
   "outputs": [],
   "source": [
    "#weather_merged.to_csv(\"data/weather_merged.csv\", index=False)"
   ]
  },
  {
   "cell_type": "code",
   "execution_count": null,
   "metadata": {
    "tags": []
   },
   "outputs": [],
   "source": [
    "weather_merged.to_pickle(\"data/weather_merged.pkl\")"
   ]
  },
  {
   "cell_type": "code",
   "execution_count": 4,
   "metadata": {
    "tags": []
   },
   "outputs": [],
   "source": [
    "weather_merged = pd.read_pickle(\"data/weather_merged.pkl\")"
   ]
  },
  {
   "cell_type": "code",
   "execution_count": null,
   "metadata": {},
   "outputs": [],
   "source": []
  },
  {
   "cell_type": "code",
   "execution_count": null,
   "metadata": {},
   "outputs": [],
   "source": []
  },
  {
   "cell_type": "code",
   "execution_count": null,
   "metadata": {
    "tags": []
   },
   "outputs": [],
   "source": [
    "#weather_merged = dd.read_csv(\"data/weather_station_2007_2012.csv/*.part\", usecols=['USAF', 'LAT','LON','STN', 'TEMP', 'DEWP', 'SLP', 'VISIB', 'WDSP', 'PRCP', 'SNDP', 'date'])"
   ]
  },
  {
   "cell_type": "code",
   "execution_count": null,
   "metadata": {},
   "outputs": [],
   "source": []
  },
  {
   "cell_type": "code",
   "execution_count": null,
   "metadata": {},
   "outputs": [],
   "source": []
  },
  {
   "cell_type": "code",
   "execution_count": null,
   "metadata": {},
   "outputs": [],
   "source": []
  },
  {
   "cell_type": "code",
   "execution_count": null,
   "metadata": {},
   "outputs": [],
   "source": []
  },
  {
   "cell_type": "code",
   "execution_count": null,
   "metadata": {
    "colab": {
     "base_uri": "https://localhost:8080/"
    },
    "id": "v5YMBM8QHxJz",
    "outputId": "10eadad9-5d7b-4695-be2e-97edac3dada6",
    "tags": []
   },
   "outputs": [],
   "source": [
    "del(station_df)\n",
    "del(weather_df)\n",
    "gc.collect()"
   ]
  },
  {
   "cell_type": "code",
   "execution_count": 5,
   "metadata": {
    "id": "7Iw5QiayxnuO",
    "tags": []
   },
   "outputs": [],
   "source": [
    "weather_merged = weather_merged.groupby(by=['LAT','LON','date']).first().reset_index()"
   ]
  },
  {
   "cell_type": "code",
   "execution_count": 9,
   "metadata": {
    "colab": {
     "base_uri": "https://localhost:8080/",
     "height": 206
    },
    "id": "pgX8QlGOctzu",
    "outputId": "3f7b8639-096b-4324-9a61-71b95c6adaad",
    "tags": []
   },
   "outputs": [
    {
     "data": {
      "text/html": [
       "<div>\n",
       "<style scoped>\n",
       "    .dataframe tbody tr th:only-of-type {\n",
       "        vertical-align: middle;\n",
       "    }\n",
       "\n",
       "    .dataframe tbody tr th {\n",
       "        vertical-align: top;\n",
       "    }\n",
       "\n",
       "    .dataframe thead th {\n",
       "        text-align: right;\n",
       "    }\n",
       "</style>\n",
       "<table border=\"1\" class=\"dataframe\">\n",
       "  <thead>\n",
       "    <tr style=\"text-align: right;\">\n",
       "      <th></th>\n",
       "      <th>LAT</th>\n",
       "      <th>LON</th>\n",
       "      <th>date</th>\n",
       "      <th>USAF</th>\n",
       "      <th>STN</th>\n",
       "      <th>TEMP</th>\n",
       "      <th>DEWP</th>\n",
       "      <th>SLP</th>\n",
       "      <th>VISIB</th>\n",
       "      <th>WDSP</th>\n",
       "      <th>PRCP</th>\n",
       "      <th>SNDP</th>\n",
       "    </tr>\n",
       "  </thead>\n",
       "  <tbody>\n",
       "    <tr>\n",
       "      <th>0</th>\n",
       "      <td>-90</td>\n",
       "      <td>0</td>\n",
       "      <td>2007-01-01</td>\n",
       "      <td>890090</td>\n",
       "      <td>890090</td>\n",
       "      <td>-3.1</td>\n",
       "      <td>9999.9</td>\n",
       "      <td>9999.9</td>\n",
       "      <td>7.0</td>\n",
       "      <td>8.7</td>\n",
       "      <td>99.99</td>\n",
       "      <td>999.9</td>\n",
       "    </tr>\n",
       "    <tr>\n",
       "      <th>1</th>\n",
       "      <td>-90</td>\n",
       "      <td>0</td>\n",
       "      <td>2007-01-02</td>\n",
       "      <td>890090</td>\n",
       "      <td>890090</td>\n",
       "      <td>-18.1</td>\n",
       "      <td>9999.9</td>\n",
       "      <td>9999.9</td>\n",
       "      <td>7.0</td>\n",
       "      <td>10.3</td>\n",
       "      <td>0.00</td>\n",
       "      <td>999.9</td>\n",
       "    </tr>\n",
       "    <tr>\n",
       "      <th>2</th>\n",
       "      <td>-90</td>\n",
       "      <td>0</td>\n",
       "      <td>2007-01-03</td>\n",
       "      <td>890090</td>\n",
       "      <td>890090</td>\n",
       "      <td>-20.2</td>\n",
       "      <td>9999.9</td>\n",
       "      <td>9999.9</td>\n",
       "      <td>7.0</td>\n",
       "      <td>4.6</td>\n",
       "      <td>0.00</td>\n",
       "      <td>999.9</td>\n",
       "    </tr>\n",
       "    <tr>\n",
       "      <th>3</th>\n",
       "      <td>-90</td>\n",
       "      <td>0</td>\n",
       "      <td>2007-01-04</td>\n",
       "      <td>890090</td>\n",
       "      <td>890090</td>\n",
       "      <td>-17.1</td>\n",
       "      <td>9999.9</td>\n",
       "      <td>9999.9</td>\n",
       "      <td>7.0</td>\n",
       "      <td>8.6</td>\n",
       "      <td>0.00</td>\n",
       "      <td>999.9</td>\n",
       "    </tr>\n",
       "    <tr>\n",
       "      <th>4</th>\n",
       "      <td>-90</td>\n",
       "      <td>0</td>\n",
       "      <td>2007-01-05</td>\n",
       "      <td>890090</td>\n",
       "      <td>890090</td>\n",
       "      <td>-15.4</td>\n",
       "      <td>9999.9</td>\n",
       "      <td>9999.9</td>\n",
       "      <td>7.0</td>\n",
       "      <td>9.2</td>\n",
       "      <td>0.00</td>\n",
       "      <td>999.9</td>\n",
       "    </tr>\n",
       "  </tbody>\n",
       "</table>\n",
       "</div>"
      ],
      "text/plain": [
       "   LAT  LON        date    USAF     STN  TEMP    DEWP     SLP  VISIB  WDSP  \\\n",
       "0  -90    0  2007-01-01  890090  890090  -3.1  9999.9  9999.9    7.0   8.7   \n",
       "1  -90    0  2007-01-02  890090  890090 -18.1  9999.9  9999.9    7.0  10.3   \n",
       "2  -90    0  2007-01-03  890090  890090 -20.2  9999.9  9999.9    7.0   4.6   \n",
       "3  -90    0  2007-01-04  890090  890090 -17.1  9999.9  9999.9    7.0   8.6   \n",
       "4  -90    0  2007-01-05  890090  890090 -15.4  9999.9  9999.9    7.0   9.2   \n",
       "\n",
       "    PRCP   SNDP  \n",
       "0  99.99  999.9  \n",
       "1   0.00  999.9  \n",
       "2   0.00  999.9  \n",
       "3   0.00  999.9  \n",
       "4   0.00  999.9  "
      ]
     },
     "execution_count": 9,
     "metadata": {},
     "output_type": "execute_result"
    }
   ],
   "source": [
    "weather_merged.head()"
   ]
  },
  {
   "cell_type": "code",
   "execution_count": 15,
   "metadata": {
    "tags": []
   },
   "outputs": [],
   "source": [
    "#weather_merged['LAT']=weather_merged['LAT'].round().astype(latitude_dtype)\n",
    "#weather_merged['LON']=weather_merged['LON'].round().astype(longitude_dtype)"
   ]
  },
  {
   "cell_type": "code",
   "execution_count": 24,
   "metadata": {
    "tags": []
   },
   "outputs": [],
   "source": [
    "weather_merged['date'] = pd.to_datetime(weather_merged['date'], errors = 'coerce').map(lambda t: t.date())"
   ]
  },
  {
   "cell_type": "code",
   "execution_count": 27,
   "metadata": {
    "id": "FIRGSrcEct7A"
   },
   "outputs": [],
   "source": [
    "weather_merged.to_pickle(\"data/weather_station_2007_2012.pickle\")"
   ]
  },
  {
   "cell_type": "code",
   "execution_count": 8,
   "metadata": {
    "id": "A4_0jshlxLtK"
   },
   "outputs": [],
   "source": [
    "weather_merged = pd.read_pickle(\"data/weather_station_2007_2012.pickle\")"
   ]
  },
  {
   "cell_type": "code",
   "execution_count": 28,
   "metadata": {
    "tags": []
   },
   "outputs": [
    {
     "name": "stdout",
     "output_type": "stream",
     "text": [
      "<class 'pandas.core.frame.DataFrame'>\n",
      "RangeIndex: 8004380 entries, 0 to 8004379\n",
      "Data columns (total 12 columns):\n",
      " #   Column  Dtype  \n",
      "---  ------  -----  \n",
      " 0   LAT     int8   \n",
      " 1   LON     int16  \n",
      " 2   date    object \n",
      " 3   USAF    int64  \n",
      " 4   STN     int64  \n",
      " 5   TEMP    float64\n",
      " 6   DEWP    float64\n",
      " 7   SLP     float64\n",
      " 8   VISIB   float64\n",
      " 9   WDSP    float64\n",
      " 10  PRCP    float64\n",
      " 11  SNDP    float64\n",
      "dtypes: float64(7), int16(1), int64(2), int8(1), object(1)\n",
      "memory usage: 633.6+ MB\n"
     ]
    }
   ],
   "source": [
    "weather_merged.info()"
   ]
  },
  {
   "cell_type": "code",
   "execution_count": null,
   "metadata": {},
   "outputs": [],
   "source": []
  },
  {
   "cell_type": "code",
   "execution_count": null,
   "metadata": {},
   "outputs": [],
   "source": []
  },
  {
   "cell_type": "code",
   "execution_count": null,
   "metadata": {},
   "outputs": [],
   "source": []
  },
  {
   "cell_type": "markdown",
   "metadata": {
    "tags": []
   },
   "source": [
    "### Merge weather data to Images metadata"
   ]
  },
  {
   "cell_type": "code",
   "execution_count": 30,
   "metadata": {
    "id": "R72zzTSKwTEW",
    "tags": []
   },
   "outputs": [],
   "source": [
    "img_weather = pd.merge(df_images, weather_merged,  how='inner', left_on=['latitude', 'longitude','date_taken'], right_on = ['LAT','LON','date'])"
   ]
  },
  {
   "cell_type": "code",
   "execution_count": 36,
   "metadata": {
    "tags": []
   },
   "outputs": [
    {
     "data": {
      "text/html": [
       "<div>\n",
       "<style scoped>\n",
       "    .dataframe tbody tr th:only-of-type {\n",
       "        vertical-align: middle;\n",
       "    }\n",
       "\n",
       "    .dataframe tbody tr th {\n",
       "        vertical-align: top;\n",
       "    }\n",
       "\n",
       "    .dataframe thead th {\n",
       "        text-align: right;\n",
       "    }\n",
       "</style>\n",
       "<table border=\"1\" class=\"dataframe\">\n",
       "  <thead>\n",
       "    <tr style=\"text-align: right;\">\n",
       "      <th></th>\n",
       "      <th>id</th>\n",
       "      <th>date</th>\n",
       "      <th>LAT</th>\n",
       "      <th>LON</th>\n",
       "      <th>STN</th>\n",
       "      <th>TEMP</th>\n",
       "      <th>DEWP</th>\n",
       "      <th>SLP</th>\n",
       "      <th>VISIB</th>\n",
       "      <th>WDSP</th>\n",
       "      <th>PRCP</th>\n",
       "      <th>SNDP</th>\n",
       "    </tr>\n",
       "  </thead>\n",
       "  <tbody>\n",
       "    <tr>\n",
       "      <th>0</th>\n",
       "      <td>3873511228</td>\n",
       "      <td>2008-04-04</td>\n",
       "      <td>30</td>\n",
       "      <td>-90</td>\n",
       "      <td>722310</td>\n",
       "      <td>76.8</td>\n",
       "      <td>70.9</td>\n",
       "      <td>1012.7</td>\n",
       "      <td>9.8</td>\n",
       "      <td>10.6</td>\n",
       "      <td>0.0</td>\n",
       "      <td>999.9</td>\n",
       "    </tr>\n",
       "    <tr>\n",
       "      <th>1</th>\n",
       "      <td>2402567418</td>\n",
       "      <td>2008-04-04</td>\n",
       "      <td>30</td>\n",
       "      <td>-90</td>\n",
       "      <td>722310</td>\n",
       "      <td>76.8</td>\n",
       "      <td>70.9</td>\n",
       "      <td>1012.7</td>\n",
       "      <td>9.8</td>\n",
       "      <td>10.6</td>\n",
       "      <td>0.0</td>\n",
       "      <td>999.9</td>\n",
       "    </tr>\n",
       "    <tr>\n",
       "      <th>2</th>\n",
       "      <td>2402522842</td>\n",
       "      <td>2008-04-04</td>\n",
       "      <td>30</td>\n",
       "      <td>-90</td>\n",
       "      <td>722310</td>\n",
       "      <td>76.8</td>\n",
       "      <td>70.9</td>\n",
       "      <td>1012.7</td>\n",
       "      <td>9.8</td>\n",
       "      <td>10.6</td>\n",
       "      <td>0.0</td>\n",
       "      <td>999.9</td>\n",
       "    </tr>\n",
       "    <tr>\n",
       "      <th>3</th>\n",
       "      <td>2398985741</td>\n",
       "      <td>2008-04-04</td>\n",
       "      <td>30</td>\n",
       "      <td>-90</td>\n",
       "      <td>722310</td>\n",
       "      <td>76.8</td>\n",
       "      <td>70.9</td>\n",
       "      <td>1012.7</td>\n",
       "      <td>9.8</td>\n",
       "      <td>10.6</td>\n",
       "      <td>0.0</td>\n",
       "      <td>999.9</td>\n",
       "    </tr>\n",
       "    <tr>\n",
       "      <th>4</th>\n",
       "      <td>2414013937</td>\n",
       "      <td>2008-04-04</td>\n",
       "      <td>30</td>\n",
       "      <td>-90</td>\n",
       "      <td>722310</td>\n",
       "      <td>76.8</td>\n",
       "      <td>70.9</td>\n",
       "      <td>1012.7</td>\n",
       "      <td>9.8</td>\n",
       "      <td>10.6</td>\n",
       "      <td>0.0</td>\n",
       "      <td>999.9</td>\n",
       "    </tr>\n",
       "  </tbody>\n",
       "</table>\n",
       "</div>"
      ],
      "text/plain": [
       "           id        date  LAT  LON     STN  TEMP  DEWP     SLP  VISIB  WDSP  \\\n",
       "0  3873511228  2008-04-04   30  -90  722310  76.8  70.9  1012.7    9.8  10.6   \n",
       "1  2402567418  2008-04-04   30  -90  722310  76.8  70.9  1012.7    9.8  10.6   \n",
       "2  2402522842  2008-04-04   30  -90  722310  76.8  70.9  1012.7    9.8  10.6   \n",
       "3  2398985741  2008-04-04   30  -90  722310  76.8  70.9  1012.7    9.8  10.6   \n",
       "4  2414013937  2008-04-04   30  -90  722310  76.8  70.9  1012.7    9.8  10.6   \n",
       "\n",
       "   PRCP   SNDP  \n",
       "0   0.0  999.9  \n",
       "1   0.0  999.9  \n",
       "2   0.0  999.9  \n",
       "3   0.0  999.9  \n",
       "4   0.0  999.9  "
      ]
     },
     "execution_count": 36,
     "metadata": {},
     "output_type": "execute_result"
    }
   ],
   "source": [
    "img_weather.head()"
   ]
  },
  {
   "cell_type": "code",
   "execution_count": 34,
   "metadata": {
    "tags": []
   },
   "outputs": [
    {
     "data": {
      "text/plain": [
       "Index(['id', 'latitude', 'longitude', 'date_taken', 'LAT', 'LON', 'date',\n",
       "       'USAF', 'STN', 'TEMP', 'DEWP', 'SLP', 'VISIB', 'WDSP', 'PRCP', 'SNDP'],\n",
       "      dtype='object')"
      ]
     },
     "execution_count": 34,
     "metadata": {},
     "output_type": "execute_result"
    }
   ],
   "source": [
    "img_weather.columns"
   ]
  },
  {
   "cell_type": "code",
   "execution_count": 35,
   "metadata": {
    "tags": []
   },
   "outputs": [],
   "source": [
    "img_weather = img_weather[['id', 'date', 'LAT', 'LON', 'STN', 'TEMP', 'DEWP', 'SLP', 'VISIB', 'WDSP', 'PRCP', 'SNDP']]"
   ]
  },
  {
   "cell_type": "code",
   "execution_count": 42,
   "metadata": {
    "tags": []
   },
   "outputs": [],
   "source": [
    "img_weather.to_csv(\"data/img_weather_2007_2012.csv\", index=False)"
   ]
  },
  {
   "cell_type": "code",
   "execution_count": 43,
   "metadata": {
    "id": "mxneXOT_54Hr",
    "tags": []
   },
   "outputs": [],
   "source": [
    "img_weather.to_pickle(\"data/img_weather_2007_2012.pickle\")"
   ]
  },
  {
   "cell_type": "code",
   "execution_count": null,
   "metadata": {},
   "outputs": [],
   "source": []
  },
  {
   "cell_type": "markdown",
   "metadata": {
    "id": "SVsre7ULRGuM",
    "jp-MarkdownHeadingCollapsed": true,
    "tags": []
   },
   "source": [
    "# Charts"
   ]
  },
  {
   "cell_type": "code",
   "execution_count": null,
   "metadata": {
    "id": "VBMlpJEjXzHC"
   },
   "outputs": [],
   "source": [
    "!pip install geopandas"
   ]
  },
  {
   "cell_type": "code",
   "execution_count": null,
   "metadata": {
    "id": "-jWdgySqXiEl"
   },
   "outputs": [],
   "source": [
    "import geopandas as gpd\n",
    "from shapely.geometry import Point\n",
    "import matplotlib.pyplot as plt"
   ]
  },
  {
   "cell_type": "code",
   "execution_count": null,
   "metadata": {
    "id": "_I4iliybYALx"
   },
   "outputs": [],
   "source": [
    "import descartes"
   ]
  },
  {
   "cell_type": "code",
   "execution_count": null,
   "metadata": {
    "colab": {
     "base_uri": "https://localhost:8080/",
     "height": 461
    },
    "id": "F8kMYeDvpohS",
    "outputId": "729710bb-1bd8-4f90-ad37-b438151297fa"
   },
   "outputs": [],
   "source": [
    "df_images.head()"
   ]
  },
  {
   "cell_type": "code",
   "execution_count": null,
   "metadata": {
    "colab": {
     "base_uri": "https://localhost:8080/"
    },
    "id": "TF-DqORxg2n2",
    "outputId": "4b0e2e1c-fd31-45b2-ffba-7a45a7f94724"
   },
   "outputs": [],
   "source": [
    "df_images.count()"
   ]
  },
  {
   "cell_type": "code",
   "execution_count": null,
   "metadata": {
    "id": "x8oqKnoOi29E"
   },
   "outputs": [],
   "source": [
    "import datetime"
   ]
  },
  {
   "cell_type": "code",
   "execution_count": null,
   "metadata": {
    "id": "TGeQCrvbirOK"
   },
   "outputs": [],
   "source": [
    "def datecast(strdate):\n",
    "    try:\n",
    "        return datetime.datetime.strptime(strdate, \"%Y-%m-%d %H:%M:%S\").date()\n",
    "    except ValueError:\n",
    "        return None\n",
    "\n",
    "def get_date_diff(d1):\n",
    "    return (datetime.date.today()-d1).days\n",
    "  "
   ]
  },
  {
   "cell_type": "code",
   "execution_count": null,
   "metadata": {
    "id": "FYxxLBXxjdTZ"
   },
   "outputs": [],
   "source": [
    "df_images['dt_date_taken'] = df_images['date_taken'].apply(datecast)"
   ]
  },
  {
   "cell_type": "code",
   "execution_count": null,
   "metadata": {
    "id": "_CJzemasIxcC"
   },
   "outputs": [],
   "source": [
    "df_images['Gap between taken and upload'] = df_images['dt_date_taken'].apply(get_date_diff)\n"
   ]
  },
  {
   "cell_type": "code",
   "execution_count": null,
   "metadata": {
    "colab": {
     "base_uri": "https://localhost:8080/",
     "height": 458
    },
    "id": "FPC3S8z9pM1_",
    "outputId": "176d4f23-9366-4977-9cda-7a3433bd5d6f"
   },
   "outputs": [],
   "source": [
    "# Creating histogram\n",
    "from matplotlib import pyplot as plt\n",
    "fig, ax = plt.subplots(figsize =(10, 7))\n",
    "ax.hist(df_images['Gap between taken and upload'],edgecolor='black', align=\"mid\",bins=[2000,3000,4000,5000,6000,7000,8000,9000,10000])\n",
    " \n",
    "# Adding extra features   \n",
    "plt.xlabel(\"Age of image(in days)\")\n",
    "plt.ylabel(\"Number of Images\")\n",
    "plt.title('Distribution of age of images')\n",
    "#plt.xlim(0, 5000)\n",
    "# Show plot\n",
    "plt.show()"
   ]
  },
  {
   "cell_type": "code",
   "execution_count": null,
   "metadata": {
    "colab": {
     "base_uri": "https://localhost:8080/",
     "height": 458
    },
    "id": "3klCkbG-Fw9q",
    "outputId": "906f720b-9e4a-4a59-b5e9-c3ac3ad12eff"
   },
   "outputs": [],
   "source": [
    "# Creating histogram\n",
    "from matplotlib import pyplot as plt\n",
    "fig, ax = plt.subplots(figsize =(10, 7))\n",
    "ax.hist(df_images['accuracy'],edgecolor='black', align=\"mid\",)\n",
    " \n",
    "# Adding extra features   \n",
    "plt.xlabel(\"Accuracy level\")\n",
    "plt.ylabel(\"Number of Images\")\n",
    "plt.title('Distribution of accuracy level- World level is 1, Country is ~3, Region ~6, City ~11, Street ~16')\n",
    "# Show plot\n",
    "plt.show()"
   ]
  },
  {
   "cell_type": "code",
   "execution_count": null,
   "metadata": {
    "colab": {
     "base_uri": "https://localhost:8080/",
     "height": 458
    },
    "id": "kdgPbz_0RKph",
    "outputId": "e0b94be6-82d5-4edf-c94c-4433d7944061"
   },
   "outputs": [],
   "source": [
    "# Creating histogram\n",
    "from matplotlib import pyplot as plt\n",
    "fig, ax = plt.subplots(figsize =(10, 7))\n",
    "ax.hist(df_images['views'], bins=[0,5,10,15,20,25,30,35,40,45,50,55,60,65,70,75,80,85,90,95,100])\n",
    " \n",
    "# Adding extra features   \n",
    "plt.xlabel(\"Views\")\n",
    "plt.ylabel(\"# of Records\")\n",
    "plt.title('Distribution of views of images')\n",
    "plt.xlim(0, 200)\n",
    "#plt.ylim(0, 1000000)\n",
    "# Show plot\n",
    "plt.show()"
   ]
  },
  {
   "cell_type": "code",
   "execution_count": null,
   "metadata": {
    "id": "9f3kN2DrWND2"
   },
   "outputs": [],
   "source": [
    "location=[Point(xy) for xy in zip(df_images[\"longitude\"],df_images[\"latitude\"])]\n",
    "location[:3]"
   ]
  },
  {
   "cell_type": "code",
   "execution_count": null,
   "metadata": {
    "id": "2juvS-8eZx-7"
   },
   "outputs": [],
   "source": [
    "crs={'init':'epsg:4326'}"
   ]
  },
  {
   "cell_type": "code",
   "execution_count": null,
   "metadata": {
    "id": "63jWgamlcnte"
   },
   "outputs": [],
   "source": [
    "geo_df=gpd.GeoDataFrame(df_images,crs=crs,geometry=location)\n",
    "geo_df.head()"
   ]
  },
  {
   "cell_type": "code",
   "execution_count": null,
   "metadata": {
    "colab": {
     "base_uri": "https://localhost:8080/",
     "height": 623
    },
    "id": "MCZJfgPvd-Ua",
    "outputId": "76934fdf-db1a-47d0-ed49-9d25d1cdf038"
   },
   "outputs": [],
   "source": [
    "world = gpd.read_file(gpd.datasets.get_path('naturalearth_lowres'))\n",
    "geo_df.plot(ax=world.plot(figsize=(20, 16)),markersize=2,color=\"red\",marker=\".\")"
   ]
  }
 ],
 "metadata": {
  "colab": {
   "collapsed_sections": [
    "SVsre7ULRGuM"
   ],
   "provenance": []
  },
  "gpuClass": "standard",
  "kernelspec": {
   "display_name": "Python 3 (ipykernel)",
   "language": "python",
   "name": "python3"
  },
  "language_info": {
   "codemirror_mode": {
    "name": "ipython",
    "version": 3
   },
   "file_extension": ".py",
   "mimetype": "text/x-python",
   "name": "python",
   "nbconvert_exporter": "python",
   "pygments_lexer": "ipython3",
   "version": "3.9.16"
  }
 },
 "nbformat": 4,
 "nbformat_minor": 4
}
