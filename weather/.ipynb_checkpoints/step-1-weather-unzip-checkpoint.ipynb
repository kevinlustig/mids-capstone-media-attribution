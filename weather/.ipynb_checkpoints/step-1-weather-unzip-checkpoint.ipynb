{
 "cells": [
  {
   "cell_type": "code",
   "execution_count": 4,
   "id": "b16f4eea-0028-4fd6-a47f-9424586312fa",
   "metadata": {
    "tags": []
   },
   "outputs": [],
   "source": [
    "import numpy as np # linear algebra\n",
    "import pandas as pd # data processing, CSV file I/O (e.g. pd.read_csv)\n",
    "import gzip\n",
    "from zipfile import ZipFile"
   ]
  },
  {
   "cell_type": "code",
   "execution_count": null,
   "id": "3fec597d-ee53-43e3-95f5-14e15ce1e84d",
   "metadata": {
    "tags": []
   },
   "outputs": [],
   "source": [
    "# loading the temp.zip and creating a zip object\n",
    "\"\"\"\n",
    "with ZipFile(\"data/noaa.zip\", 'r') as zObject:\n",
    "  \n",
    "    # Extracting all the members of the zip \n",
    "    # into a specific location.\n",
    "    zObject.extractall(path=\"data/noaa/\")\n",
    "\"\"\""
   ]
  },
  {
   "cell_type": "code",
   "execution_count": 29,
   "id": "6935294d-fb01-4b2d-af67-2bdbec01d073",
   "metadata": {
    "tags": []
   },
   "outputs": [],
   "source": [
    "verbose = False\n",
    "\n",
    "# process a single .op.gz file\n",
    "def process_opgz (opgz_path):\n",
    "    # read in the data\n",
    "    station_data = []\n",
    "    with gzip.open(opgz_path,'rb') as station_file:\n",
    "        station_contents = station_file.readlines()[1:]\n",
    "    columns = ['STN', 'YEAR', 'MODA', \n",
    "                 'TEMP','DEWP', 'SLP',\n",
    "                 'VISIB', 'WDSP','PRCP', 'SNDP'] # header\n",
    "    # let's extract the data from their character-wise position (seems safest, ref. readme.txt)\n",
    "    station_data += list(map(lambda line : [line[:6], line[14:18], line[18:22], \n",
    "                                            line[24:30], line[35:41], line[46:52],\n",
    "                                            line[68:73], line[78:83], line[118:123], line[125:130]], station_contents))\n",
    "    station_df = pd.DataFrame(station_data, columns=columns)\n",
    "\n",
    "    return station_df\n",
    "\n",
    "# process a single year, i.e., .tar file\n",
    "import tarfile\n",
    "from tqdm import tqdm\n",
    "from IPython.display import clear_output\n",
    "\n",
    "   \n",
    "def process_tar (tar_path):\n",
    "    clear_output(wait=True)\n",
    "    print(\"Processing year data from file %s..\" % tar_path)\n",
    "    # extract the tarfile\n",
    "    print(' - extracting tarfile.. ', end='', flush=True)\n",
    "    with tarfile.open(tar_path) as tar:\n",
    "        tar.extractall(path='./temp')\n",
    "    print('done.', flush=True)\n",
    "    # process all the op.gz files\n",
    "    print(\" - processing .op.gz files.. \", flush=True)\n",
    "    \n",
    "    year_df = pd.DataFrame(columns=['STN', 'YEAR', 'MODA', \n",
    "                 'TEMP','DEWP', 'SLP',\n",
    "                 'VISIB', 'WDSP','PRCP', 'SNDP'])\n",
    "    station_files = sorted(os.listdir(\"./temp\"))\n",
    "    station_dfs = []\n",
    "    for station_file in tqdm(station_files):\n",
    "        station_df = process_opgz(\"./temp/\"+station_file)\n",
    "        if station_df.shape[0] > 0:\n",
    "            station_dfs.append(station_df)\n",
    "    year_df = pd.concat(station_dfs)\n",
    "    print('    done.', flush=True)\n",
    "    print(\" - removing temporary files.. \", end='', flush=True)\n",
    "    ! rm -r './temp'\n",
    "    print('done.', flush=True)\n",
    "    return year_df"
   ]
  },
  {
   "cell_type": "code",
   "execution_count": 30,
   "id": "d488316c-5a53-486c-a1bd-e61eba1b0641",
   "metadata": {
    "tags": []
   },
   "outputs": [],
   "source": [
    "!rm -r './temp'"
   ]
  },
  {
   "cell_type": "code",
   "execution_count": 36,
   "id": "01f7451d-52f2-45b1-8ca8-c27e2d6e069a",
   "metadata": {
    "tags": []
   },
   "outputs": [],
   "source": [
    "year_files = [\"data/noaa/gsod_all_years/gsod_2007.tar\",\n",
    "              \"data/noaa/gsod_all_years/gsod_2008.tar\",\n",
    "             \"data/noaa/gsod_all_years/gsod_2008.tar\",\n",
    "              \"data/noaa/gsod_all_years/gsod_2010.tar\",\n",
    "              \"data/noaa/gsod_all_years/gsod_2011.tar\",\n",
    "              \"data/noaa/gsod_all_years/gsod_2012.tar\"\n",
    "             ]"
   ]
  },
  {
   "cell_type": "code",
   "execution_count": 32,
   "id": "e21e7da3-1f7b-4051-b2bf-e4b07f93fcd6",
   "metadata": {
    "tags": []
   },
   "outputs": [],
   "source": [
    "#year_files = [\"data/noaa/gsod_all_years/gsod_2007.tar\"]"
   ]
  },
  {
   "cell_type": "code",
   "execution_count": 37,
   "id": "6f529a58-4e6d-4b2d-af57-84dbf6cc8736",
   "metadata": {
    "tags": []
   },
   "outputs": [
    {
     "name": "stdout",
     "output_type": "stream",
     "text": [
      "Processing year data from file data/noaa/gsod_all_years/gsod_2008.tar..\n",
      " - extracting tarfile.. done.\n",
      " - processing .op.gz files.. \n"
     ]
    },
    {
     "name": "stderr",
     "output_type": "stream",
     "text": [
      "\n",
      "  0%|                                                                                                                                                             | 0/10725 [00:00<?, ?it/s]\u001b[A\n",
      "  1%|█▍                                                                                                                                               | 106/10725 [00:00<00:10, 1056.08it/s]\u001b[A\n",
      "  2%|███                                                                                                                                              | 224/10725 [00:00<00:09, 1126.11it/s]\u001b[A\n",
      "  3%|████▌                                                                                                                                            | 337/10725 [00:00<00:09, 1107.60it/s]\u001b[A\n",
      "  4%|██████                                                                                                                                           | 448/10725 [00:00<00:09, 1107.52it/s]\u001b[A\n",
      "  5%|███████▌                                                                                                                                         | 559/10725 [00:00<00:09, 1094.08it/s]\u001b[A\n",
      "  6%|█████████                                                                                                                                        | 669/10725 [00:00<00:09, 1091.58it/s]\u001b[A\n",
      "  7%|██████████▌                                                                                                                                      | 779/10725 [00:00<00:09, 1086.13it/s]\u001b[A\n",
      "  8%|████████████                                                                                                                                     | 889/10725 [00:00<00:09, 1088.23it/s]\u001b[A\n",
      "  9%|█████████████▌                                                                                                                                   | 999/10725 [00:00<00:08, 1090.99it/s]\u001b[A\n",
      " 10%|██████████████▉                                                                                                                                 | 1109/10725 [00:01<00:08, 1084.86it/s]\u001b[A\n",
      " 11%|████████████████▎                                                                                                                               | 1218/10725 [00:01<00:08, 1080.52it/s]\u001b[A\n",
      " 12%|█████████████████▊                                                                                                                              | 1331/10725 [00:01<00:08, 1093.35it/s]\u001b[A\n",
      " 13%|███████████████████▎                                                                                                                            | 1441/10725 [00:01<00:08, 1093.83it/s]\u001b[A\n",
      " 14%|████████████████████▊                                                                                                                           | 1552/10725 [00:01<00:08, 1095.49it/s]\u001b[A\n",
      " 16%|██████████████████████▎                                                                                                                         | 1665/10725 [00:01<00:08, 1105.01it/s]\u001b[A\n",
      " 17%|███████████████████████▊                                                                                                                        | 1776/10725 [00:01<00:08, 1091.94it/s]\u001b[A\n",
      " 18%|█████████████████████████▎                                                                                                                      | 1886/10725 [00:01<00:08, 1083.90it/s]\u001b[A\n",
      " 19%|██████████████████████████▊                                                                                                                     | 1997/10725 [00:01<00:08, 1090.32it/s]\u001b[A\n",
      " 20%|████████████████████████████▎                                                                                                                   | 2113/10725 [00:01<00:07, 1109.49it/s]\u001b[A\n",
      " 21%|█████████████████████████████▉                                                                                                                  | 2227/10725 [00:02<00:07, 1117.98it/s]\u001b[A\n",
      " 22%|███████████████████████████████▍                                                                                                                | 2346/10725 [00:02<00:07, 1139.31it/s]\u001b[A\n",
      " 23%|█████████████████████████████████                                                                                                               | 2460/10725 [00:02<00:07, 1111.58it/s]\u001b[A\n",
      " 24%|██████████████████████████████████▌                                                                                                             | 2578/10725 [00:02<00:07, 1131.28it/s]\u001b[A\n",
      " 25%|████████████████████████████████████▏                                                                                                           | 2692/10725 [00:02<00:07, 1110.71it/s]\u001b[A\n",
      " 26%|█████████████████████████████████████▋                                                                                                          | 2804/10725 [00:02<00:07, 1090.50it/s]\u001b[A\n",
      " 27%|███████████████████████████████████████▏                                                                                                        | 2914/10725 [00:02<00:07, 1081.17it/s]\u001b[A\n",
      " 28%|████████████████████████████████████████▌                                                                                                       | 3023/10725 [00:02<00:07, 1081.40it/s]\u001b[A\n",
      " 29%|██████████████████████████████████████████▏                                                                                                     | 3138/10725 [00:02<00:06, 1098.63it/s]\u001b[A\n",
      " 30%|███████████████████████████████████████████▌                                                                                                    | 3248/10725 [00:02<00:06, 1098.37it/s]\u001b[A\n",
      " 31%|█████████████████████████████████████████████▏                                                                                                  | 3361/10725 [00:03<00:06, 1106.00it/s]\u001b[A\n",
      " 33%|██████████████████████████████████████████████▊                                                                                                 | 3488/10725 [00:03<00:06, 1154.18it/s]\u001b[A\n",
      " 34%|████████████████████████████████████████████████▍                                                                                               | 3604/10725 [00:03<00:06, 1153.61it/s]\u001b[A\n",
      " 35%|█████████████████████████████████████████████████▉                                                                                              | 3720/10725 [00:03<00:06, 1146.27it/s]\u001b[A\n",
      " 36%|███████████████████████████████████████████████████▍                                                                                            | 3835/10725 [00:03<00:06, 1137.92it/s]\u001b[A\n",
      " 37%|█████████████████████████████████████████████████████                                                                                           | 3949/10725 [00:03<00:06, 1119.47it/s]\u001b[A\n",
      " 38%|██████████████████████████████████████████████████████▌                                                                                         | 4062/10725 [00:03<00:05, 1116.12it/s]\u001b[A\n",
      " 39%|████████████████████████████████████████████████████████▍                                                                                        | 4174/10725 [00:03<00:08, 796.19it/s]\u001b[A\n",
      " 40%|█████████████████████████████████████████████████████████▉                                                                                       | 4287/10725 [00:04<00:07, 872.88it/s]\u001b[A\n",
      " 41%|███████████████████████████████████████████████████████████▍                                                                                     | 4394/10725 [00:04<00:06, 919.99it/s]\u001b[A\n",
      " 42%|████████████████████████████████████████████████████████████▊                                                                                    | 4501/10725 [00:04<00:06, 958.65it/s]\u001b[A\n",
      " 43%|█████████████████████████████████████████████████████████████▉                                                                                  | 4614/10725 [00:04<00:05, 1068.59it/s]\u001b[A\n",
      " 17%|█████████████████████████▌                                                                                                                               | 1/6 [00:15<01:19, 15.96s/it]\n"
     ]
    },
    {
     "ename": "KeyboardInterrupt",
     "evalue": "",
     "output_type": "error",
     "traceback": [
      "\u001b[0;31m---------------------------------------------------------------------------\u001b[0m",
      "\u001b[0;31mKeyboardInterrupt\u001b[0m                         Traceback (most recent call last)",
      "Cell \u001b[0;32mIn[37], line 9\u001b[0m\n\u001b[1;32m      6\u001b[0m year_dfs \u001b[38;5;241m=\u001b[39m []\n\u001b[1;32m      8\u001b[0m \u001b[38;5;28;01mfor\u001b[39;00m year_file \u001b[38;5;129;01min\u001b[39;00m tqdm(year_files):\n\u001b[0;32m----> 9\u001b[0m     year_dfs\u001b[38;5;241m.\u001b[39mappend(\u001b[43mprocess_tar\u001b[49m\u001b[43m(\u001b[49m\u001b[43myear_file\u001b[49m\u001b[43m)\u001b[49m)\n\u001b[1;32m     11\u001b[0m df_weather \u001b[38;5;241m=\u001b[39m pd\u001b[38;5;241m.\u001b[39mconcat(year_dfs)\n",
      "Cell \u001b[0;32mIn[29], line 43\u001b[0m, in \u001b[0;36mprocess_tar\u001b[0;34m(tar_path)\u001b[0m\n\u001b[1;32m     41\u001b[0m station_dfs \u001b[38;5;241m=\u001b[39m []\n\u001b[1;32m     42\u001b[0m \u001b[38;5;28;01mfor\u001b[39;00m station_file \u001b[38;5;129;01min\u001b[39;00m tqdm(station_files):\n\u001b[0;32m---> 43\u001b[0m     station_df \u001b[38;5;241m=\u001b[39m \u001b[43mprocess_opgz\u001b[49m\u001b[43m(\u001b[49m\u001b[38;5;124;43m\"\u001b[39;49m\u001b[38;5;124;43m./temp/\u001b[39;49m\u001b[38;5;124;43m\"\u001b[39;49m\u001b[38;5;241;43m+\u001b[39;49m\u001b[43mstation_file\u001b[49m\u001b[43m)\u001b[49m\n\u001b[1;32m     44\u001b[0m     \u001b[38;5;28;01mif\u001b[39;00m station_df\u001b[38;5;241m.\u001b[39mshape[\u001b[38;5;241m0\u001b[39m] \u001b[38;5;241m>\u001b[39m \u001b[38;5;241m0\u001b[39m:\n\u001b[1;32m     45\u001b[0m         station_dfs\u001b[38;5;241m.\u001b[39mappend(station_df)\n",
      "Cell \u001b[0;32mIn[29], line 13\u001b[0m, in \u001b[0;36mprocess_opgz\u001b[0;34m(opgz_path)\u001b[0m\n\u001b[1;32m      9\u001b[0m columns \u001b[38;5;241m=\u001b[39m [\u001b[38;5;124m'\u001b[39m\u001b[38;5;124mSTN\u001b[39m\u001b[38;5;124m'\u001b[39m, \u001b[38;5;124m'\u001b[39m\u001b[38;5;124mYEAR\u001b[39m\u001b[38;5;124m'\u001b[39m, \u001b[38;5;124m'\u001b[39m\u001b[38;5;124mMODA\u001b[39m\u001b[38;5;124m'\u001b[39m, \n\u001b[1;32m     10\u001b[0m              \u001b[38;5;124m'\u001b[39m\u001b[38;5;124mTEMP\u001b[39m\u001b[38;5;124m'\u001b[39m,\u001b[38;5;124m'\u001b[39m\u001b[38;5;124mDEWP\u001b[39m\u001b[38;5;124m'\u001b[39m, \u001b[38;5;124m'\u001b[39m\u001b[38;5;124mSLP\u001b[39m\u001b[38;5;124m'\u001b[39m,\n\u001b[1;32m     11\u001b[0m              \u001b[38;5;124m'\u001b[39m\u001b[38;5;124mVISIB\u001b[39m\u001b[38;5;124m'\u001b[39m, \u001b[38;5;124m'\u001b[39m\u001b[38;5;124mWDSP\u001b[39m\u001b[38;5;124m'\u001b[39m,\u001b[38;5;124m'\u001b[39m\u001b[38;5;124mPRCP\u001b[39m\u001b[38;5;124m'\u001b[39m, \u001b[38;5;124m'\u001b[39m\u001b[38;5;124mSNDP\u001b[39m\u001b[38;5;124m'\u001b[39m] \u001b[38;5;66;03m# header\u001b[39;00m\n\u001b[1;32m     12\u001b[0m \u001b[38;5;66;03m# let's extract the data from their character-wise position (seems safest, ref. readme.txt)\u001b[39;00m\n\u001b[0;32m---> 13\u001b[0m station_data \u001b[38;5;241m+\u001b[39m\u001b[38;5;241m=\u001b[39m \u001b[38;5;28;43mlist\u001b[39;49m\u001b[43m(\u001b[49m\u001b[38;5;28;43mmap\u001b[39;49m\u001b[43m(\u001b[49m\u001b[38;5;28;43;01mlambda\u001b[39;49;00m\u001b[43m \u001b[49m\u001b[43mline\u001b[49m\u001b[43m \u001b[49m\u001b[43m:\u001b[49m\u001b[43m \u001b[49m\u001b[43m[\u001b[49m\u001b[43mline\u001b[49m\u001b[43m[\u001b[49m\u001b[43m:\u001b[49m\u001b[38;5;241;43m6\u001b[39;49m\u001b[43m]\u001b[49m\u001b[43m,\u001b[49m\u001b[43m \u001b[49m\u001b[43mline\u001b[49m\u001b[43m[\u001b[49m\u001b[38;5;241;43m14\u001b[39;49m\u001b[43m:\u001b[49m\u001b[38;5;241;43m18\u001b[39;49m\u001b[43m]\u001b[49m\u001b[43m,\u001b[49m\u001b[43m \u001b[49m\u001b[43mline\u001b[49m\u001b[43m[\u001b[49m\u001b[38;5;241;43m18\u001b[39;49m\u001b[43m:\u001b[49m\u001b[38;5;241;43m22\u001b[39;49m\u001b[43m]\u001b[49m\u001b[43m,\u001b[49m\u001b[43m \u001b[49m\n\u001b[1;32m     14\u001b[0m \u001b[43m                                        \u001b[49m\u001b[43mline\u001b[49m\u001b[43m[\u001b[49m\u001b[38;5;241;43m24\u001b[39;49m\u001b[43m:\u001b[49m\u001b[38;5;241;43m30\u001b[39;49m\u001b[43m]\u001b[49m\u001b[43m,\u001b[49m\u001b[43m \u001b[49m\u001b[43mline\u001b[49m\u001b[43m[\u001b[49m\u001b[38;5;241;43m35\u001b[39;49m\u001b[43m:\u001b[49m\u001b[38;5;241;43m41\u001b[39;49m\u001b[43m]\u001b[49m\u001b[43m,\u001b[49m\u001b[43m \u001b[49m\u001b[43mline\u001b[49m\u001b[43m[\u001b[49m\u001b[38;5;241;43m46\u001b[39;49m\u001b[43m:\u001b[49m\u001b[38;5;241;43m52\u001b[39;49m\u001b[43m]\u001b[49m\u001b[43m,\u001b[49m\n\u001b[1;32m     15\u001b[0m \u001b[43m                                        \u001b[49m\u001b[43mline\u001b[49m\u001b[43m[\u001b[49m\u001b[38;5;241;43m68\u001b[39;49m\u001b[43m:\u001b[49m\u001b[38;5;241;43m73\u001b[39;49m\u001b[43m]\u001b[49m\u001b[43m,\u001b[49m\u001b[43m \u001b[49m\u001b[43mline\u001b[49m\u001b[43m[\u001b[49m\u001b[38;5;241;43m78\u001b[39;49m\u001b[43m:\u001b[49m\u001b[38;5;241;43m83\u001b[39;49m\u001b[43m]\u001b[49m\u001b[43m,\u001b[49m\u001b[43m \u001b[49m\u001b[43mline\u001b[49m\u001b[43m[\u001b[49m\u001b[38;5;241;43m118\u001b[39;49m\u001b[43m:\u001b[49m\u001b[38;5;241;43m123\u001b[39;49m\u001b[43m]\u001b[49m\u001b[43m,\u001b[49m\u001b[43m \u001b[49m\u001b[43mline\u001b[49m\u001b[43m[\u001b[49m\u001b[38;5;241;43m125\u001b[39;49m\u001b[43m:\u001b[49m\u001b[38;5;241;43m130\u001b[39;49m\u001b[43m]\u001b[49m\u001b[43m]\u001b[49m\u001b[43m,\u001b[49m\u001b[43m \u001b[49m\u001b[43mstation_contents\u001b[49m\u001b[43m)\u001b[49m\u001b[43m)\u001b[49m\n\u001b[1;32m     16\u001b[0m station_df \u001b[38;5;241m=\u001b[39m pd\u001b[38;5;241m.\u001b[39mDataFrame(station_data, columns\u001b[38;5;241m=\u001b[39mcolumns)\n\u001b[1;32m     18\u001b[0m \u001b[38;5;28;01mreturn\u001b[39;00m station_df\n",
      "Cell \u001b[0;32mIn[29], line 13\u001b[0m, in \u001b[0;36mprocess_opgz.<locals>.<lambda>\u001b[0;34m(line)\u001b[0m\n\u001b[1;32m      9\u001b[0m columns \u001b[38;5;241m=\u001b[39m [\u001b[38;5;124m'\u001b[39m\u001b[38;5;124mSTN\u001b[39m\u001b[38;5;124m'\u001b[39m, \u001b[38;5;124m'\u001b[39m\u001b[38;5;124mYEAR\u001b[39m\u001b[38;5;124m'\u001b[39m, \u001b[38;5;124m'\u001b[39m\u001b[38;5;124mMODA\u001b[39m\u001b[38;5;124m'\u001b[39m, \n\u001b[1;32m     10\u001b[0m              \u001b[38;5;124m'\u001b[39m\u001b[38;5;124mTEMP\u001b[39m\u001b[38;5;124m'\u001b[39m,\u001b[38;5;124m'\u001b[39m\u001b[38;5;124mDEWP\u001b[39m\u001b[38;5;124m'\u001b[39m, \u001b[38;5;124m'\u001b[39m\u001b[38;5;124mSLP\u001b[39m\u001b[38;5;124m'\u001b[39m,\n\u001b[1;32m     11\u001b[0m              \u001b[38;5;124m'\u001b[39m\u001b[38;5;124mVISIB\u001b[39m\u001b[38;5;124m'\u001b[39m, \u001b[38;5;124m'\u001b[39m\u001b[38;5;124mWDSP\u001b[39m\u001b[38;5;124m'\u001b[39m,\u001b[38;5;124m'\u001b[39m\u001b[38;5;124mPRCP\u001b[39m\u001b[38;5;124m'\u001b[39m, \u001b[38;5;124m'\u001b[39m\u001b[38;5;124mSNDP\u001b[39m\u001b[38;5;124m'\u001b[39m] \u001b[38;5;66;03m# header\u001b[39;00m\n\u001b[1;32m     12\u001b[0m \u001b[38;5;66;03m# let's extract the data from their character-wise position (seems safest, ref. readme.txt)\u001b[39;00m\n\u001b[0;32m---> 13\u001b[0m station_data \u001b[38;5;241m+\u001b[39m\u001b[38;5;241m=\u001b[39m \u001b[38;5;28mlist\u001b[39m(\u001b[38;5;28mmap\u001b[39m(\u001b[38;5;28;01mlambda\u001b[39;00m line : [line[:\u001b[38;5;241m6\u001b[39m], line[\u001b[38;5;241m14\u001b[39m:\u001b[38;5;241m18\u001b[39m], line[\u001b[38;5;241m18\u001b[39m:\u001b[38;5;241m22\u001b[39m], \n\u001b[1;32m     14\u001b[0m                                         line[\u001b[38;5;241m24\u001b[39m:\u001b[38;5;241m30\u001b[39m], line[\u001b[38;5;241m35\u001b[39m:\u001b[38;5;241m41\u001b[39m], line[\u001b[38;5;241m46\u001b[39m:\u001b[38;5;241m52\u001b[39m],\n\u001b[1;32m     15\u001b[0m                                         line[\u001b[38;5;241m68\u001b[39m:\u001b[38;5;241m73\u001b[39m], line[\u001b[38;5;241m78\u001b[39m:\u001b[38;5;241m83\u001b[39m], line[\u001b[38;5;241m118\u001b[39m:\u001b[38;5;241m123\u001b[39m], line[\u001b[38;5;241m125\u001b[39m:\u001b[38;5;241m130\u001b[39m]], station_contents))\n\u001b[1;32m     16\u001b[0m station_df \u001b[38;5;241m=\u001b[39m pd\u001b[38;5;241m.\u001b[39mDataFrame(station_data, columns\u001b[38;5;241m=\u001b[39mcolumns)\n\u001b[1;32m     18\u001b[0m \u001b[38;5;28;01mreturn\u001b[39;00m station_df\n",
      "\u001b[0;31mKeyboardInterrupt\u001b[0m: "
     ]
    }
   ],
   "source": [
    "from tqdm import tqdm\n",
    "import warnings\n",
    "\n",
    "warnings.filterwarnings('ignore')\n",
    "\n",
    "year_dfs = []\n",
    "\n",
    "for year_file in year_files:\n",
    "    year_dfs.append(process_tar(year_file))\n",
    "    \n",
    "df_weather = pd.concat(year_dfs)\n"
   ]
  },
  {
   "cell_type": "code",
   "execution_count": null,
   "id": "28099fe0-0a72-47ab-a0af-a816c4efe942",
   "metadata": {
    "tags": []
   },
   "outputs": [],
   "source": [
    "import pickle as pkl\n",
    "with open('processed_data_2007.pkl', 'wb') as f:\n",
    "    pkl.dump(df, f)"
   ]
  },
  {
   "cell_type": "code",
   "execution_count": null,
   "id": "988f66f5-65f0-480d-b3ae-2860fe17be29",
   "metadata": {
    "tags": []
   },
   "outputs": [],
   "source": [
    "df = process_tar(year_files[1])\n",
    "with open('processed_data_2008.pkl', 'wb') as f:\n",
    "    pkl.dump(df, f)"
   ]
  },
  {
   "cell_type": "code",
   "execution_count": null,
   "id": "edb4c066-6050-43d7-8c65-a3dd174ab9c5",
   "metadata": {
    "tags": []
   },
   "outputs": [],
   "source": [
    "df = process_tar(year_files[2])\n",
    "with open('processed_data_2009.pkl', 'wb') as f:\n",
    "    pkl.dump(df, f)"
   ]
  },
  {
   "cell_type": "code",
   "execution_count": null,
   "id": "2867ad51-d5db-4ab5-97e9-055f98e390dc",
   "metadata": {
    "tags": []
   },
   "outputs": [],
   "source": [
    "df = process_tar(year_files[3])\n",
    "with open('processed_data_2010.pkl', 'wb') as f:\n",
    "    pkl.dump(df, f)"
   ]
  },
  {
   "cell_type": "code",
   "execution_count": null,
   "id": "f7621dd2-d556-4b50-8b04-07f5dea309ae",
   "metadata": {
    "tags": []
   },
   "outputs": [],
   "source": [
    "df = process_tar(year_files[4])\n",
    "with open('processed_data_2011.pkl', 'wb') as f:\n",
    "    pkl.dump(df, f)"
   ]
  },
  {
   "cell_type": "code",
   "execution_count": null,
   "id": "c7241bf0-c997-431c-8b8f-f9b7011b40d8",
   "metadata": {
    "tags": []
   },
   "outputs": [],
   "source": [
    "df = process_tar(year_files[5])\n",
    "with open('processed_data_2012.pkl', 'wb') as f:\n",
    "    pkl.dump(df, f)"
   ]
  }
 ],
 "metadata": {
  "kernelspec": {
   "display_name": "Python 3 (ipykernel)",
   "language": "python",
   "name": "python3"
  },
  "language_info": {
   "codemirror_mode": {
    "name": "ipython",
    "version": 3
   },
   "file_extension": ".py",
   "mimetype": "text/x-python",
   "name": "python",
   "nbconvert_exporter": "python",
   "pygments_lexer": "ipython3",
   "version": "3.10.6"
  }
 },
 "nbformat": 4,
 "nbformat_minor": 5
}
