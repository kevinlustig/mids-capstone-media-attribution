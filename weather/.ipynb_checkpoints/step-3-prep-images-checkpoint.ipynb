{
 "cells": [
  {
   "cell_type": "markdown",
   "id": "77ff83bf-c0aa-465a-897b-c8b151025b1e",
   "metadata": {
    "tags": []
   },
   "source": [
    "## Import"
   ]
  },
  {
   "cell_type": "code",
   "execution_count": 1,
   "id": "05fb374f-abb1-4130-8c71-c520f15ab477",
   "metadata": {
    "tags": []
   },
   "outputs": [],
   "source": [
    "import pandas as pd\n",
    "import numpy as np\n",
    "import gc\n",
    "import swifter\n",
    "from tqdm.auto import tqdm\n",
    "import math\n",
    "import dask.dataframe as dd\n",
    "import swifter\n",
    "import seaborn as sns\n",
    "import matplotlib.pyplot as plt\n",
    "import os\n",
    "import shutil\n",
    "import random"
   ]
  },
  {
   "cell_type": "markdown",
   "id": "cfab8516-d431-4d9c-bc83-a3c6a1cc0408",
   "metadata": {
    "tags": []
   },
   "source": [
    "## Data Preperation"
   ]
  },
  {
   "cell_type": "code",
   "execution_count": 2,
   "id": "81d8ef57-61a8-440a-b226-f1a6033c6f0c",
   "metadata": {
    "tags": []
   },
   "outputs": [
    {
     "name": "stdout",
     "output_type": "stream",
     "text": [
      "rm: cannot remove 'data/training': No such file or directory\n",
      "rm: cannot remove 'data/test': No such file or directory\n"
     ]
    }
   ],
   "source": [
    "#!rm data/training -r\n",
    "#!rm data/test -r"
   ]
  },
  {
   "cell_type": "markdown",
   "id": "a31141df-8a84-4bc1-9dcc-9d7c50adc4ce",
   "metadata": {
    "tags": []
   },
   "source": [
    "### Load Image-Weather Data"
   ]
  },
  {
   "cell_type": "code",
   "execution_count": 3,
   "id": "975d3dde-7914-4e5f-9e86-242a90688241",
   "metadata": {
    "tags": []
   },
   "outputs": [
    {
     "name": "stdout",
     "output_type": "stream",
     "text": [
      "(Delayed('int-cefbbc92-d31d-47ea-a5cf-275ba4d48097'), 12)\n"
     ]
    },
    {
     "data": {
      "text/html": [
       "<div>\n",
       "<style scoped>\n",
       "    .dataframe tbody tr th:only-of-type {\n",
       "        vertical-align: middle;\n",
       "    }\n",
       "\n",
       "    .dataframe tbody tr th {\n",
       "        vertical-align: top;\n",
       "    }\n",
       "\n",
       "    .dataframe thead th {\n",
       "        text-align: right;\n",
       "    }\n",
       "</style>\n",
       "<table border=\"1\" class=\"dataframe\">\n",
       "  <thead>\n",
       "    <tr style=\"text-align: right;\">\n",
       "      <th></th>\n",
       "      <th>id</th>\n",
       "      <th>date</th>\n",
       "      <th>LAT</th>\n",
       "      <th>LON</th>\n",
       "      <th>STN</th>\n",
       "      <th>TEMP</th>\n",
       "      <th>DEWP</th>\n",
       "      <th>SLP</th>\n",
       "      <th>VISIB</th>\n",
       "      <th>WDSP</th>\n",
       "      <th>PRCP</th>\n",
       "      <th>SNDP</th>\n",
       "    </tr>\n",
       "  </thead>\n",
       "  <tbody>\n",
       "    <tr>\n",
       "      <th>0</th>\n",
       "      <td>3873511228</td>\n",
       "      <td>2008-04-04</td>\n",
       "      <td>30</td>\n",
       "      <td>-90</td>\n",
       "      <td>722310</td>\n",
       "      <td>76.8</td>\n",
       "      <td>70.9</td>\n",
       "      <td>1012.7</td>\n",
       "      <td>9.8</td>\n",
       "      <td>10.6</td>\n",
       "      <td>0.0</td>\n",
       "      <td>999.9</td>\n",
       "    </tr>\n",
       "    <tr>\n",
       "      <th>1</th>\n",
       "      <td>2402567418</td>\n",
       "      <td>2008-04-04</td>\n",
       "      <td>30</td>\n",
       "      <td>-90</td>\n",
       "      <td>722310</td>\n",
       "      <td>76.8</td>\n",
       "      <td>70.9</td>\n",
       "      <td>1012.7</td>\n",
       "      <td>9.8</td>\n",
       "      <td>10.6</td>\n",
       "      <td>0.0</td>\n",
       "      <td>999.9</td>\n",
       "    </tr>\n",
       "  </tbody>\n",
       "</table>\n",
       "</div>"
      ],
      "text/plain": [
       "           id        date  LAT  LON     STN  TEMP  DEWP     SLP  VISIB  WDSP  \\\n",
       "0  3873511228  2008-04-04   30  -90  722310  76.8  70.9  1012.7    9.8  10.6   \n",
       "1  2402567418  2008-04-04   30  -90  722310  76.8  70.9  1012.7    9.8  10.6   \n",
       "\n",
       "   PRCP   SNDP  \n",
       "0   0.0  999.9  \n",
       "1   0.0  999.9  "
      ]
     },
     "execution_count": 3,
     "metadata": {},
     "output_type": "execute_result"
    }
   ],
   "source": [
    "df_img_weather = dd.read_csv(\"data/img_weather_2007_2012.csv\")\n",
    "print(df_img_weather.shape)\n",
    "df_img_weather.head(2)"
   ]
  },
  {
   "cell_type": "code",
   "execution_count": 4,
   "id": "712efbc0-4d0a-45ec-8d79-57bf7cc991f1",
   "metadata": {
    "tags": []
   },
   "outputs": [
    {
     "data": {
      "text/html": [
       "<div>\n",
       "<style scoped>\n",
       "    .dataframe tbody tr th:only-of-type {\n",
       "        vertical-align: middle;\n",
       "    }\n",
       "\n",
       "    .dataframe tbody tr th {\n",
       "        vertical-align: top;\n",
       "    }\n",
       "\n",
       "    .dataframe thead th {\n",
       "        text-align: right;\n",
       "    }\n",
       "</style>\n",
       "<table border=\"1\" class=\"dataframe\">\n",
       "  <thead>\n",
       "    <tr style=\"text-align: right;\">\n",
       "      <th></th>\n",
       "      <th>Image</th>\n",
       "      <th>Label</th>\n",
       "    </tr>\n",
       "  </thead>\n",
       "  <tbody>\n",
       "    <tr>\n",
       "      <th>0</th>\n",
       "      <td>4650143588.jpg</td>\n",
       "      <td>0</td>\n",
       "    </tr>\n",
       "    <tr>\n",
       "      <th>1</th>\n",
       "      <td>4648427466.jpg</td>\n",
       "      <td>1</td>\n",
       "    </tr>\n",
       "  </tbody>\n",
       "</table>\n",
       "</div>"
      ],
      "text/plain": [
       "            Image  Label\n",
       "0  4650143588.jpg      0\n",
       "1  4648427466.jpg      1"
      ]
     },
     "execution_count": 4,
     "metadata": {},
     "output_type": "execute_result"
    }
   ],
   "source": [
    "df_labels = dd.read_csv('data/labels-all.csv', usecols = ['Image','Label'])\n",
    "df_labels.head(2)"
   ]
  },
  {
   "cell_type": "code",
   "execution_count": 5,
   "id": "d9a48d3f-b3e5-41ae-befa-a95e1f5f2935",
   "metadata": {
    "tags": []
   },
   "outputs": [
    {
     "data": {
      "text/plain": [
       "234234"
      ]
     },
     "execution_count": 5,
     "metadata": {},
     "output_type": "execute_result"
    }
   ],
   "source": [
    "def get_file_id(filename):\n",
    "    return np.int64(filename.split('.')[0])\n",
    "\n",
    "#get_file_id('234234.txt')"
   ]
  },
  {
   "cell_type": "markdown",
   "id": "50dccc77-3166-4f97-928c-01ecf4897730",
   "metadata": {
    "tags": []
   },
   "source": [
    "### Filter for outdoor images"
   ]
  },
  {
   "cell_type": "code",
   "execution_count": 6,
   "id": "9ea72e8a-6af7-4849-a289-0705b269efa5",
   "metadata": {
    "tags": []
   },
   "outputs": [
    {
     "data": {
      "text/html": [
       "<div>\n",
       "<style scoped>\n",
       "    .dataframe tbody tr th:only-of-type {\n",
       "        vertical-align: middle;\n",
       "    }\n",
       "\n",
       "    .dataframe tbody tr th {\n",
       "        vertical-align: top;\n",
       "    }\n",
       "\n",
       "    .dataframe thead th {\n",
       "        text-align: right;\n",
       "    }\n",
       "</style>\n",
       "<table border=\"1\" class=\"dataframe\">\n",
       "  <thead>\n",
       "    <tr style=\"text-align: right;\">\n",
       "      <th></th>\n",
       "      <th>Image</th>\n",
       "      <th>Label</th>\n",
       "      <th>file_id</th>\n",
       "    </tr>\n",
       "  </thead>\n",
       "  <tbody>\n",
       "    <tr>\n",
       "      <th>0</th>\n",
       "      <td>4650143588.jpg</td>\n",
       "      <td>0</td>\n",
       "      <td>4650143588</td>\n",
       "    </tr>\n",
       "    <tr>\n",
       "      <th>1</th>\n",
       "      <td>4648427466.jpg</td>\n",
       "      <td>1</td>\n",
       "      <td>4648427466</td>\n",
       "    </tr>\n",
       "  </tbody>\n",
       "</table>\n",
       "</div>"
      ],
      "text/plain": [
       "            Image  Label     file_id\n",
       "0  4650143588.jpg      0  4650143588\n",
       "1  4648427466.jpg      1  4648427466"
      ]
     },
     "execution_count": 6,
     "metadata": {},
     "output_type": "execute_result"
    }
   ],
   "source": [
    "df_labels['file_id'] = df_labels['Image'].apply(get_file_id, meta=('file_id','int64'))\n",
    "df_labels.head(2)"
   ]
  },
  {
   "cell_type": "code",
   "execution_count": 7,
   "id": "2fd7c17f-8ad7-4613-bd61-73012ed107f9",
   "metadata": {
    "tags": []
   },
   "outputs": [
    {
     "name": "stdout",
     "output_type": "stream",
     "text": [
      "(Delayed('int-f7f918fc-d81a-46e0-ba4d-5d2067275009'), 3)\n"
     ]
    },
    {
     "data": {
      "text/html": [
       "<div>\n",
       "<style scoped>\n",
       "    .dataframe tbody tr th:only-of-type {\n",
       "        vertical-align: middle;\n",
       "    }\n",
       "\n",
       "    .dataframe tbody tr th {\n",
       "        vertical-align: top;\n",
       "    }\n",
       "\n",
       "    .dataframe thead th {\n",
       "        text-align: right;\n",
       "    }\n",
       "</style>\n",
       "<table border=\"1\" class=\"dataframe\">\n",
       "  <thead>\n",
       "    <tr style=\"text-align: right;\">\n",
       "      <th></th>\n",
       "      <th>Image</th>\n",
       "      <th>Label</th>\n",
       "      <th>file_id</th>\n",
       "    </tr>\n",
       "  </thead>\n",
       "  <tbody>\n",
       "    <tr>\n",
       "      <th>1</th>\n",
       "      <td>4648427466.jpg</td>\n",
       "      <td>1</td>\n",
       "      <td>4648427466</td>\n",
       "    </tr>\n",
       "    <tr>\n",
       "      <th>3</th>\n",
       "      <td>4578410260.jpg</td>\n",
       "      <td>1</td>\n",
       "      <td>4578410260</td>\n",
       "    </tr>\n",
       "  </tbody>\n",
       "</table>\n",
       "</div>"
      ],
      "text/plain": [
       "            Image  Label     file_id\n",
       "1  4648427466.jpg      1  4648427466\n",
       "3  4578410260.jpg      1  4578410260"
      ]
     },
     "execution_count": 7,
     "metadata": {},
     "output_type": "execute_result"
    }
   ],
   "source": [
    "outdoor_images = df_labels[df_labels['Label']==1]\n",
    "print(outdoor_images.shape)\n",
    "outdoor_images.head(2)"
   ]
  },
  {
   "cell_type": "code",
   "execution_count": 8,
   "id": "0e1a1afb-7985-4c84-82b8-64521ddf422b",
   "metadata": {
    "tags": []
   },
   "outputs": [
    {
     "data": {
      "text/html": [
       "<div>\n",
       "<style scoped>\n",
       "    .dataframe tbody tr th:only-of-type {\n",
       "        vertical-align: middle;\n",
       "    }\n",
       "\n",
       "    .dataframe tbody tr th {\n",
       "        vertical-align: top;\n",
       "    }\n",
       "\n",
       "    .dataframe thead th {\n",
       "        text-align: right;\n",
       "    }\n",
       "</style>\n",
       "<table border=\"1\" class=\"dataframe\">\n",
       "  <thead>\n",
       "    <tr style=\"text-align: right;\">\n",
       "      <th></th>\n",
       "      <th>id</th>\n",
       "      <th>date</th>\n",
       "      <th>LAT</th>\n",
       "      <th>LON</th>\n",
       "      <th>STN</th>\n",
       "      <th>TEMP</th>\n",
       "      <th>DEWP</th>\n",
       "      <th>SLP</th>\n",
       "      <th>VISIB</th>\n",
       "      <th>WDSP</th>\n",
       "      <th>PRCP</th>\n",
       "      <th>SNDP</th>\n",
       "    </tr>\n",
       "  </thead>\n",
       "  <tbody>\n",
       "    <tr>\n",
       "      <th>15141</th>\n",
       "      <td>4551167383</td>\n",
       "      <td>2010-04-11</td>\n",
       "      <td>43</td>\n",
       "      <td>-4</td>\n",
       "      <td>80210</td>\n",
       "      <td>53.7</td>\n",
       "      <td>49.1</td>\n",
       "      <td>9999.9</td>\n",
       "      <td>4.0</td>\n",
       "      <td>3.8</td>\n",
       "      <td>0.0</td>\n",
       "      <td>999.9</td>\n",
       "    </tr>\n",
       "    <tr>\n",
       "      <th>24832</th>\n",
       "      <td>1252040542</td>\n",
       "      <td>2007-08-19</td>\n",
       "      <td>42</td>\n",
       "      <td>-9</td>\n",
       "      <td>80440</td>\n",
       "      <td>66.8</td>\n",
       "      <td>52.9</td>\n",
       "      <td>1021.0</td>\n",
       "      <td>7.5</td>\n",
       "      <td>4.6</td>\n",
       "      <td>0.0</td>\n",
       "      <td>999.9</td>\n",
       "    </tr>\n",
       "    <tr>\n",
       "      <th>45558</th>\n",
       "      <td>4637239165</td>\n",
       "      <td>2010-05-24</td>\n",
       "      <td>38</td>\n",
       "      <td>-122</td>\n",
       "      <td>724828</td>\n",
       "      <td>58.9</td>\n",
       "      <td>38.4</td>\n",
       "      <td>1015.2</td>\n",
       "      <td>10.0</td>\n",
       "      <td>9.6</td>\n",
       "      <td>0.0</td>\n",
       "      <td>999.9</td>\n",
       "    </tr>\n",
       "  </tbody>\n",
       "</table>\n",
       "</div>"
      ],
      "text/plain": [
       "               id        date  LAT  LON     STN  TEMP  DEWP     SLP  VISIB  \\\n",
       "15141  4551167383  2010-04-11   43   -4   80210  53.7  49.1  9999.9    4.0   \n",
       "24832  1252040542  2007-08-19   42   -9   80440  66.8  52.9  1021.0    7.5   \n",
       "45558  4637239165  2010-05-24   38 -122  724828  58.9  38.4  1015.2   10.0   \n",
       "\n",
       "       WDSP  PRCP   SNDP  \n",
       "15141   3.8   0.0  999.9  \n",
       "24832   4.6   0.0  999.9  \n",
       "45558   9.6   0.0  999.9  "
      ]
     },
     "execution_count": 8,
     "metadata": {},
     "output_type": "execute_result"
    }
   ],
   "source": [
    "df_img_weather = df_img_weather[df_img_weather['id'].isin(outdoor_images['file_id'].compute().values)]\n",
    "df_img_weather.head(3)"
   ]
  },
  {
   "cell_type": "markdown",
   "id": "dac489ce-080a-4040-b010-847f144ffe21",
   "metadata": {
    "tags": []
   },
   "source": [
    "### Temperature"
   ]
  },
  {
   "cell_type": "code",
   "execution_count": 9,
   "id": "509a2bf4-bc88-4da4-b6c1-0004b418b6d1",
   "metadata": {
    "tags": []
   },
   "outputs": [
    {
     "data": {
      "text/plain": [
       "(-20.0, 120.0)"
      ]
     },
     "execution_count": 9,
     "metadata": {},
     "output_type": "execute_result"
    },
    {
     "data": {
      "image/png": "[encoded data removed]",
      "text/plain": [
       "<Figure size 500x500 with 1 Axes>"
      ]
     },
     "metadata": {},
     "output_type": "display_data"
    }
   ],
   "source": [
    "sns.displot(df_img_weather, x=\"TEMP\")\n",
    "plt.xlim(-20,120)"
   ]
  },
  {
   "cell_type": "code",
   "execution_count": 10,
   "id": "ea91268a-8289-4d52-b7a0-59724424be35",
   "metadata": {
    "tags": []
   },
   "outputs": [],
   "source": [
    "def get_temperature_class(temperature):\n",
    "    if temperature== 9999.9:\n",
    "        return 99\n",
    "    elif temperature>75:\n",
    "        return 0\n",
    "    elif 75>=temperature>65:\n",
    "        return 1\n",
    "    elif 65>=temperature>50:\n",
    "        return 2\n",
    "    else:\n",
    "        return 3"
   ]
  },
  {
   "cell_type": "code",
   "execution_count": 11,
   "id": "551939c8-70b4-486a-a0af-2754b5db7b0d",
   "metadata": {
    "tags": []
   },
   "outputs": [
    {
     "data": {
      "text/html": [
       "<div>\n",
       "<style scoped>\n",
       "    .dataframe tbody tr th:only-of-type {\n",
       "        vertical-align: middle;\n",
       "    }\n",
       "\n",
       "    .dataframe tbody tr th {\n",
       "        vertical-align: top;\n",
       "    }\n",
       "\n",
       "    .dataframe thead th {\n",
       "        text-align: right;\n",
       "    }\n",
       "</style>\n",
       "<table border=\"1\" class=\"dataframe\">\n",
       "  <thead>\n",
       "    <tr style=\"text-align: right;\">\n",
       "      <th></th>\n",
       "      <th>id</th>\n",
       "      <th>date</th>\n",
       "      <th>LAT</th>\n",
       "      <th>LON</th>\n",
       "      <th>STN</th>\n",
       "      <th>TEMP</th>\n",
       "      <th>DEWP</th>\n",
       "      <th>SLP</th>\n",
       "      <th>VISIB</th>\n",
       "      <th>WDSP</th>\n",
       "      <th>PRCP</th>\n",
       "      <th>SNDP</th>\n",
       "      <th>TEMP_class</th>\n",
       "    </tr>\n",
       "  </thead>\n",
       "  <tbody>\n",
       "    <tr>\n",
       "      <th>15141</th>\n",
       "      <td>4551167383</td>\n",
       "      <td>2010-04-11</td>\n",
       "      <td>43</td>\n",
       "      <td>-4</td>\n",
       "      <td>80210</td>\n",
       "      <td>53.7</td>\n",
       "      <td>49.1</td>\n",
       "      <td>9999.9</td>\n",
       "      <td>4.0</td>\n",
       "      <td>3.8</td>\n",
       "      <td>0.0</td>\n",
       "      <td>999.9</td>\n",
       "      <td>2</td>\n",
       "    </tr>\n",
       "    <tr>\n",
       "      <th>24832</th>\n",
       "      <td>1252040542</td>\n",
       "      <td>2007-08-19</td>\n",
       "      <td>42</td>\n",
       "      <td>-9</td>\n",
       "      <td>80440</td>\n",
       "      <td>66.8</td>\n",
       "      <td>52.9</td>\n",
       "      <td>1021.0</td>\n",
       "      <td>7.5</td>\n",
       "      <td>4.6</td>\n",
       "      <td>0.0</td>\n",
       "      <td>999.9</td>\n",
       "      <td>1</td>\n",
       "    </tr>\n",
       "    <tr>\n",
       "      <th>45558</th>\n",
       "      <td>4637239165</td>\n",
       "      <td>2010-05-24</td>\n",
       "      <td>38</td>\n",
       "      <td>-122</td>\n",
       "      <td>724828</td>\n",
       "      <td>58.9</td>\n",
       "      <td>38.4</td>\n",
       "      <td>1015.2</td>\n",
       "      <td>10.0</td>\n",
       "      <td>9.6</td>\n",
       "      <td>0.0</td>\n",
       "      <td>999.9</td>\n",
       "      <td>2</td>\n",
       "    </tr>\n",
       "  </tbody>\n",
       "</table>\n",
       "</div>"
      ],
      "text/plain": [
       "               id        date  LAT  LON     STN  TEMP  DEWP     SLP  VISIB  \\\n",
       "15141  4551167383  2010-04-11   43   -4   80210  53.7  49.1  9999.9    4.0   \n",
       "24832  1252040542  2007-08-19   42   -9   80440  66.8  52.9  1021.0    7.5   \n",
       "45558  4637239165  2010-05-24   38 -122  724828  58.9  38.4  1015.2   10.0   \n",
       "\n",
       "       WDSP  PRCP   SNDP  TEMP_class  \n",
       "15141   3.8   0.0  999.9           2  \n",
       "24832   4.6   0.0  999.9           1  \n",
       "45558   9.6   0.0  999.9           2  "
      ]
     },
     "execution_count": 11,
     "metadata": {},
     "output_type": "execute_result"
    }
   ],
   "source": [
    "df_img_weather['TEMP_class'] = df_img_weather['TEMP'].apply(get_temperature_class, meta=('TEMP_class','int64'))\n",
    "df_img_weather.head(3)"
   ]
  },
  {
   "cell_type": "code",
   "execution_count": 12,
   "id": "ac3cbf15-e0e3-446d-b963-f6a51ddd0728",
   "metadata": {
    "tags": []
   },
   "outputs": [
    {
     "data": {
      "text/plain": [
       "(0.0, 5.0)"
      ]
     },
     "execution_count": 12,
     "metadata": {},
     "output_type": "execute_result"
    },
    {
     "data": {
      "image/png": "[encoded data removed]",
      "text/plain": [
       "<Figure size 500x500 with 1 Axes>"
      ]
     },
     "metadata": {},
     "output_type": "display_data"
    }
   ],
   "source": [
    "sns.displot(df_img_weather, x=\"TEMP_class\")\n",
    "plt.xlim(0,5)"
   ]
  },
  {
   "cell_type": "markdown",
   "id": "06259cb0-8778-4714-b295-466f5822a1bf",
   "metadata": {
    "tags": []
   },
   "source": [
    "### Wind Speed"
   ]
  },
  {
   "cell_type": "code",
   "execution_count": 13,
   "id": "047e9786-008e-44a3-bda2-f47a760d881d",
   "metadata": {
    "tags": []
   },
   "outputs": [
    {
     "data": {
      "text/plain": [
       "(0.0, 40.0)"
      ]
     },
     "execution_count": 13,
     "metadata": {},
     "output_type": "execute_result"
    },
    {
     "data": {
      "image/png": "[encoded data removed]",
      "text/plain": [
       "<Figure size 500x500 with 1 Axes>"
      ]
     },
     "metadata": {},
     "output_type": "display_data"
    }
   ],
   "source": [
    "sns.displot(df_img_weather, x=\"WDSP\")\n",
    "plt.xlim(0,40)"
   ]
  },
  {
   "cell_type": "code",
   "execution_count": 14,
   "id": "e79fa43d-4b3c-4120-835d-e1b54d108726",
   "metadata": {
    "tags": []
   },
   "outputs": [],
   "source": [
    "def get_wind_speed_class(speed):\n",
    "    if speed==999.9:\n",
    "        return 99\n",
    "    elif speed>8:\n",
    "        return 0\n",
    "    elif 8>=speed>4:\n",
    "        return 1\n",
    "    else:\n",
    "        return 2"
   ]
  },
  {
   "cell_type": "code",
   "execution_count": 15,
   "id": "07684a4f-debc-4e72-8011-4f71e85d6fe0",
   "metadata": {
    "tags": []
   },
   "outputs": [
    {
     "data": {
      "text/html": [
       "<div>\n",
       "<style scoped>\n",
       "    .dataframe tbody tr th:only-of-type {\n",
       "        vertical-align: middle;\n",
       "    }\n",
       "\n",
       "    .dataframe tbody tr th {\n",
       "        vertical-align: top;\n",
       "    }\n",
       "\n",
       "    .dataframe thead th {\n",
       "        text-align: right;\n",
       "    }\n",
       "</style>\n",
       "<table border=\"1\" class=\"dataframe\">\n",
       "  <thead>\n",
       "    <tr style=\"text-align: right;\">\n",
       "      <th></th>\n",
       "      <th>id</th>\n",
       "      <th>date</th>\n",
       "      <th>LAT</th>\n",
       "      <th>LON</th>\n",
       "      <th>STN</th>\n",
       "      <th>TEMP</th>\n",
       "      <th>DEWP</th>\n",
       "      <th>SLP</th>\n",
       "      <th>VISIB</th>\n",
       "      <th>WDSP</th>\n",
       "      <th>PRCP</th>\n",
       "      <th>SNDP</th>\n",
       "      <th>TEMP_class</th>\n",
       "      <th>WDSP_class</th>\n",
       "    </tr>\n",
       "  </thead>\n",
       "  <tbody>\n",
       "    <tr>\n",
       "      <th>15141</th>\n",
       "      <td>4551167383</td>\n",
       "      <td>2010-04-11</td>\n",
       "      <td>43</td>\n",
       "      <td>-4</td>\n",
       "      <td>80210</td>\n",
       "      <td>53.7</td>\n",
       "      <td>49.1</td>\n",
       "      <td>9999.9</td>\n",
       "      <td>4.0</td>\n",
       "      <td>3.8</td>\n",
       "      <td>0.0</td>\n",
       "      <td>999.9</td>\n",
       "      <td>2</td>\n",
       "      <td>2</td>\n",
       "    </tr>\n",
       "    <tr>\n",
       "      <th>24832</th>\n",
       "      <td>1252040542</td>\n",
       "      <td>2007-08-19</td>\n",
       "      <td>42</td>\n",
       "      <td>-9</td>\n",
       "      <td>80440</td>\n",
       "      <td>66.8</td>\n",
       "      <td>52.9</td>\n",
       "      <td>1021.0</td>\n",
       "      <td>7.5</td>\n",
       "      <td>4.6</td>\n",
       "      <td>0.0</td>\n",
       "      <td>999.9</td>\n",
       "      <td>1</td>\n",
       "      <td>1</td>\n",
       "    </tr>\n",
       "    <tr>\n",
       "      <th>45558</th>\n",
       "      <td>4637239165</td>\n",
       "      <td>2010-05-24</td>\n",
       "      <td>38</td>\n",
       "      <td>-122</td>\n",
       "      <td>724828</td>\n",
       "      <td>58.9</td>\n",
       "      <td>38.4</td>\n",
       "      <td>1015.2</td>\n",
       "      <td>10.0</td>\n",
       "      <td>9.6</td>\n",
       "      <td>0.0</td>\n",
       "      <td>999.9</td>\n",
       "      <td>2</td>\n",
       "      <td>0</td>\n",
       "    </tr>\n",
       "  </tbody>\n",
       "</table>\n",
       "</div>"
      ],
      "text/plain": [
       "               id        date  LAT  LON     STN  TEMP  DEWP     SLP  VISIB  \\\n",
       "15141  4551167383  2010-04-11   43   -4   80210  53.7  49.1  9999.9    4.0   \n",
       "24832  1252040542  2007-08-19   42   -9   80440  66.8  52.9  1021.0    7.5   \n",
       "45558  4637239165  2010-05-24   38 -122  724828  58.9  38.4  1015.2   10.0   \n",
       "\n",
       "       WDSP  PRCP   SNDP  TEMP_class  WDSP_class  \n",
       "15141   3.8   0.0  999.9           2           2  \n",
       "24832   4.6   0.0  999.9           1           1  \n",
       "45558   9.6   0.0  999.9           2           0  "
      ]
     },
     "execution_count": 15,
     "metadata": {},
     "output_type": "execute_result"
    }
   ],
   "source": [
    "df_img_weather['WDSP_class'] = df_img_weather['WDSP'].apply(get_wind_speed_class, meta=('WDSP_class','int64'))\n",
    "df_img_weather.head(3)"
   ]
  },
  {
   "cell_type": "code",
   "execution_count": 16,
   "id": "b89866d9-235b-459f-9f2c-98852d2bed34",
   "metadata": {
    "tags": []
   },
   "outputs": [
    {
     "data": {
      "text/plain": [
       "(0.0, 5.0)"
      ]
     },
     "execution_count": 16,
     "metadata": {},
     "output_type": "execute_result"
    },
    {
     "data": {
      "image/png": "[encoded data removed]",
      "text/plain": [
       "<Figure size 500x500 with 1 Axes>"
      ]
     },
     "metadata": {},
     "output_type": "display_data"
    }
   ],
   "source": [
    "sns.displot(df_img_weather, x=\"WDSP_class\")\n",
    "plt.xlim(0,5)"
   ]
  },
  {
   "cell_type": "markdown",
   "id": "a85bd7ed-55d4-4140-885d-aac99287b840",
   "metadata": {
    "tags": []
   },
   "source": [
    "### Dew Point"
   ]
  },
  {
   "cell_type": "code",
   "execution_count": 17,
   "id": "2ab2501b-bb11-4d40-be5c-5ad5f1a599d7",
   "metadata": {
    "tags": []
   },
   "outputs": [
    {
     "data": {
      "text/plain": [
       "(0.0, 100.0)"
      ]
     },
     "execution_count": 17,
     "metadata": {},
     "output_type": "execute_result"
    },
    {
     "data": {
      "image/png": "[encoded data removed]",
      "text/plain": [
       "<Figure size 500x500 with 1 Axes>"
      ]
     },
     "metadata": {},
     "output_type": "display_data"
    }
   ],
   "source": [
    "sns.displot(df_img_weather, x=\"DEWP\")\n",
    "plt.xlim(0,100)"
   ]
  },
  {
   "cell_type": "code",
   "execution_count": 18,
   "id": "fd6742d2-18fc-4ca5-847e-74a2a513e8bf",
   "metadata": {
    "tags": []
   },
   "outputs": [],
   "source": [
    "def get_dewp_class(dewp):\n",
    "    if dewp==9999.9:\n",
    "        return 99\n",
    "    elif dewp>60:\n",
    "        return 0\n",
    "    elif 60>=dewp>45:\n",
    "        return 1\n",
    "    else:\n",
    "        return 2"
   ]
  },
  {
   "cell_type": "code",
   "execution_count": 19,
   "id": "53196d29-54db-4224-a9e6-ecdfc489e073",
   "metadata": {
    "tags": []
   },
   "outputs": [
    {
     "data": {
      "text/html": [
       "<div>\n",
       "<style scoped>\n",
       "    .dataframe tbody tr th:only-of-type {\n",
       "        vertical-align: middle;\n",
       "    }\n",
       "\n",
       "    .dataframe tbody tr th {\n",
       "        vertical-align: top;\n",
       "    }\n",
       "\n",
       "    .dataframe thead th {\n",
       "        text-align: right;\n",
       "    }\n",
       "</style>\n",
       "<table border=\"1\" class=\"dataframe\">\n",
       "  <thead>\n",
       "    <tr style=\"text-align: right;\">\n",
       "      <th></th>\n",
       "      <th>id</th>\n",
       "      <th>date</th>\n",
       "      <th>LAT</th>\n",
       "      <th>LON</th>\n",
       "      <th>STN</th>\n",
       "      <th>TEMP</th>\n",
       "      <th>DEWP</th>\n",
       "      <th>SLP</th>\n",
       "      <th>VISIB</th>\n",
       "      <th>WDSP</th>\n",
       "      <th>PRCP</th>\n",
       "      <th>SNDP</th>\n",
       "      <th>TEMP_class</th>\n",
       "      <th>WDSP_class</th>\n",
       "      <th>DEWP_class</th>\n",
       "    </tr>\n",
       "  </thead>\n",
       "  <tbody>\n",
       "    <tr>\n",
       "      <th>15141</th>\n",
       "      <td>4551167383</td>\n",
       "      <td>2010-04-11</td>\n",
       "      <td>43</td>\n",
       "      <td>-4</td>\n",
       "      <td>80210</td>\n",
       "      <td>53.7</td>\n",
       "      <td>49.1</td>\n",
       "      <td>9999.9</td>\n",
       "      <td>4.0</td>\n",
       "      <td>3.8</td>\n",
       "      <td>0.0</td>\n",
       "      <td>999.9</td>\n",
       "      <td>2</td>\n",
       "      <td>2</td>\n",
       "      <td>1</td>\n",
       "    </tr>\n",
       "    <tr>\n",
       "      <th>24832</th>\n",
       "      <td>1252040542</td>\n",
       "      <td>2007-08-19</td>\n",
       "      <td>42</td>\n",
       "      <td>-9</td>\n",
       "      <td>80440</td>\n",
       "      <td>66.8</td>\n",
       "      <td>52.9</td>\n",
       "      <td>1021.0</td>\n",
       "      <td>7.5</td>\n",
       "      <td>4.6</td>\n",
       "      <td>0.0</td>\n",
       "      <td>999.9</td>\n",
       "      <td>1</td>\n",
       "      <td>1</td>\n",
       "      <td>1</td>\n",
       "    </tr>\n",
       "    <tr>\n",
       "      <th>45558</th>\n",
       "      <td>4637239165</td>\n",
       "      <td>2010-05-24</td>\n",
       "      <td>38</td>\n",
       "      <td>-122</td>\n",
       "      <td>724828</td>\n",
       "      <td>58.9</td>\n",
       "      <td>38.4</td>\n",
       "      <td>1015.2</td>\n",
       "      <td>10.0</td>\n",
       "      <td>9.6</td>\n",
       "      <td>0.0</td>\n",
       "      <td>999.9</td>\n",
       "      <td>2</td>\n",
       "      <td>0</td>\n",
       "      <td>2</td>\n",
       "    </tr>\n",
       "  </tbody>\n",
       "</table>\n",
       "</div>"
      ],
      "text/plain": [
       "               id        date  LAT  LON     STN  TEMP  DEWP     SLP  VISIB  \\\n",
       "15141  4551167383  2010-04-11   43   -4   80210  53.7  49.1  9999.9    4.0   \n",
       "24832  1252040542  2007-08-19   42   -9   80440  66.8  52.9  1021.0    7.5   \n",
       "45558  4637239165  2010-05-24   38 -122  724828  58.9  38.4  1015.2   10.0   \n",
       "\n",
       "       WDSP  PRCP   SNDP  TEMP_class  WDSP_class  DEWP_class  \n",
       "15141   3.8   0.0  999.9           2           2           1  \n",
       "24832   4.6   0.0  999.9           1           1           1  \n",
       "45558   9.6   0.0  999.9           2           0           2  "
      ]
     },
     "execution_count": 19,
     "metadata": {},
     "output_type": "execute_result"
    }
   ],
   "source": [
    "df_img_weather['DEWP_class'] = df_img_weather['DEWP'].apply(get_dewp_class, meta=('DEWP_class','int64'))\n",
    "df_img_weather.head(3)"
   ]
  },
  {
   "cell_type": "code",
   "execution_count": 20,
   "id": "6a04a6d4-a94a-47fe-b235-1722f29f4b91",
   "metadata": {
    "tags": []
   },
   "outputs": [
    {
     "data": {
      "text/plain": [
       "(0.0, 5.0)"
      ]
     },
     "execution_count": 20,
     "metadata": {},
     "output_type": "execute_result"
    },
    {
     "data": {
      "image/png": "[encoded data removed]",
      "text/plain": [
       "<Figure size 500x500 with 1 Axes>"
      ]
     },
     "metadata": {},
     "output_type": "display_data"
    }
   ],
   "source": [
    "sns.displot(df_img_weather, x=\"DEWP_class\")\n",
    "plt.xlim(0,5)"
   ]
  },
  {
   "cell_type": "markdown",
   "id": "c6247342-28c9-419d-a368-5da0e5eab9d7",
   "metadata": {
    "tags": []
   },
   "source": [
    "### Visibility"
   ]
  },
  {
   "cell_type": "code",
   "execution_count": 21,
   "id": "7efcf7f1-6101-4dae-a27b-696b572d1d8d",
   "metadata": {
    "tags": []
   },
   "outputs": [
    {
     "data": {
      "text/plain": [
       "(0.0, 40.0)"
      ]
     },
     "execution_count": 21,
     "metadata": {},
     "output_type": "execute_result"
    },
    {
     "data": {
      "image/png": "[encoded data removed]",
      "text/plain": [
       "<Figure size 500x500 with 1 Axes>"
      ]
     },
     "metadata": {},
     "output_type": "display_data"
    }
   ],
   "source": [
    "sns.displot(df_img_weather, x=\"VISIB\")\n",
    "plt.xlim(0,40)"
   ]
  },
  {
   "cell_type": "code",
   "execution_count": 22,
   "id": "586148bd-edc8-4d69-ba95-d58fcdf939f5",
   "metadata": {
    "tags": []
   },
   "outputs": [],
   "source": [
    "def get_visib_class(visib):\n",
    "    if visib==999.9:\n",
    "        return 99\n",
    "    elif visib>8:\n",
    "        return 0\n",
    "    elif 8>=visib>6:\n",
    "        return 1\n",
    "    else:\n",
    "        return 2"
   ]
  },
  {
   "cell_type": "code",
   "execution_count": 23,
   "id": "ce7c648c-ff87-476d-938b-e6caeb386dd1",
   "metadata": {
    "tags": []
   },
   "outputs": [
    {
     "data": {
      "text/html": [
       "<div>\n",
       "<style scoped>\n",
       "    .dataframe tbody tr th:only-of-type {\n",
       "        vertical-align: middle;\n",
       "    }\n",
       "\n",
       "    .dataframe tbody tr th {\n",
       "        vertical-align: top;\n",
       "    }\n",
       "\n",
       "    .dataframe thead th {\n",
       "        text-align: right;\n",
       "    }\n",
       "</style>\n",
       "<table border=\"1\" class=\"dataframe\">\n",
       "  <thead>\n",
       "    <tr style=\"text-align: right;\">\n",
       "      <th></th>\n",
       "      <th>id</th>\n",
       "      <th>date</th>\n",
       "      <th>LAT</th>\n",
       "      <th>LON</th>\n",
       "      <th>STN</th>\n",
       "      <th>TEMP</th>\n",
       "      <th>DEWP</th>\n",
       "      <th>SLP</th>\n",
       "      <th>VISIB</th>\n",
       "      <th>WDSP</th>\n",
       "      <th>PRCP</th>\n",
       "      <th>SNDP</th>\n",
       "      <th>TEMP_class</th>\n",
       "      <th>WDSP_class</th>\n",
       "      <th>DEWP_class</th>\n",
       "      <th>VISIB_class</th>\n",
       "    </tr>\n",
       "  </thead>\n",
       "  <tbody>\n",
       "    <tr>\n",
       "      <th>15141</th>\n",
       "      <td>4551167383</td>\n",
       "      <td>2010-04-11</td>\n",
       "      <td>43</td>\n",
       "      <td>-4</td>\n",
       "      <td>80210</td>\n",
       "      <td>53.7</td>\n",
       "      <td>49.1</td>\n",
       "      <td>9999.9</td>\n",
       "      <td>4.0</td>\n",
       "      <td>3.8</td>\n",
       "      <td>0.0</td>\n",
       "      <td>999.9</td>\n",
       "      <td>2</td>\n",
       "      <td>2</td>\n",
       "      <td>1</td>\n",
       "      <td>2</td>\n",
       "    </tr>\n",
       "    <tr>\n",
       "      <th>24832</th>\n",
       "      <td>1252040542</td>\n",
       "      <td>2007-08-19</td>\n",
       "      <td>42</td>\n",
       "      <td>-9</td>\n",
       "      <td>80440</td>\n",
       "      <td>66.8</td>\n",
       "      <td>52.9</td>\n",
       "      <td>1021.0</td>\n",
       "      <td>7.5</td>\n",
       "      <td>4.6</td>\n",
       "      <td>0.0</td>\n",
       "      <td>999.9</td>\n",
       "      <td>1</td>\n",
       "      <td>1</td>\n",
       "      <td>1</td>\n",
       "      <td>1</td>\n",
       "    </tr>\n",
       "    <tr>\n",
       "      <th>45558</th>\n",
       "      <td>4637239165</td>\n",
       "      <td>2010-05-24</td>\n",
       "      <td>38</td>\n",
       "      <td>-122</td>\n",
       "      <td>724828</td>\n",
       "      <td>58.9</td>\n",
       "      <td>38.4</td>\n",
       "      <td>1015.2</td>\n",
       "      <td>10.0</td>\n",
       "      <td>9.6</td>\n",
       "      <td>0.0</td>\n",
       "      <td>999.9</td>\n",
       "      <td>2</td>\n",
       "      <td>0</td>\n",
       "      <td>2</td>\n",
       "      <td>0</td>\n",
       "    </tr>\n",
       "  </tbody>\n",
       "</table>\n",
       "</div>"
      ],
      "text/plain": [
       "               id        date  LAT  LON     STN  TEMP  DEWP     SLP  VISIB  \\\n",
       "15141  4551167383  2010-04-11   43   -4   80210  53.7  49.1  9999.9    4.0   \n",
       "24832  1252040542  2007-08-19   42   -9   80440  66.8  52.9  1021.0    7.5   \n",
       "45558  4637239165  2010-05-24   38 -122  724828  58.9  38.4  1015.2   10.0   \n",
       "\n",
       "       WDSP  PRCP   SNDP  TEMP_class  WDSP_class  DEWP_class  VISIB_class  \n",
       "15141   3.8   0.0  999.9           2           2           1            2  \n",
       "24832   4.6   0.0  999.9           1           1           1            1  \n",
       "45558   9.6   0.0  999.9           2           0           2            0  "
      ]
     },
     "execution_count": 23,
     "metadata": {},
     "output_type": "execute_result"
    }
   ],
   "source": [
    "df_img_weather['VISIB_class'] = df_img_weather['VISIB'].apply(get_visib_class, meta=('VISIB_class','int64'))\n",
    "df_img_weather.head(3)"
   ]
  },
  {
   "cell_type": "code",
   "execution_count": 24,
   "id": "6756f597-5f6d-4808-a399-0571afae72d9",
   "metadata": {
    "tags": []
   },
   "outputs": [
    {
     "data": {
      "text/plain": [
       "(0.0, 5.0)"
      ]
     },
     "execution_count": 24,
     "metadata": {},
     "output_type": "execute_result"
    },
    {
     "data": {
      "image/png": "[encoded data removed]",
      "text/plain": [
       "<Figure size 500x500 with 1 Axes>"
      ]
     },
     "metadata": {},
     "output_type": "display_data"
    }
   ],
   "source": [
    "sns.displot(df_img_weather, x=\"VISIB_class\")\n",
    "plt.xlim(0,5)"
   ]
  },
  {
   "cell_type": "markdown",
   "id": "cd7bfb49-c041-4f58-8de3-f61d300d3eea",
   "metadata": {
    "tags": []
   },
   "source": [
    "### Prepare Images"
   ]
  },
  {
   "cell_type": "code",
   "execution_count": 25,
   "id": "17a52304-adb4-40d0-8d37-6f091d41c593",
   "metadata": {
    "tags": []
   },
   "outputs": [
    {
     "data": {
      "text/html": [
       "<div>\n",
       "<style scoped>\n",
       "    .dataframe tbody tr th:only-of-type {\n",
       "        vertical-align: middle;\n",
       "    }\n",
       "\n",
       "    .dataframe tbody tr th {\n",
       "        vertical-align: top;\n",
       "    }\n",
       "\n",
       "    .dataframe thead th {\n",
       "        text-align: right;\n",
       "    }\n",
       "</style>\n",
       "<table border=\"1\" class=\"dataframe\">\n",
       "  <thead>\n",
       "    <tr style=\"text-align: right;\">\n",
       "      <th></th>\n",
       "      <th>id</th>\n",
       "      <th>date</th>\n",
       "      <th>LAT</th>\n",
       "      <th>LON</th>\n",
       "      <th>STN</th>\n",
       "      <th>TEMP</th>\n",
       "      <th>DEWP</th>\n",
       "      <th>SLP</th>\n",
       "      <th>VISIB</th>\n",
       "      <th>WDSP</th>\n",
       "      <th>PRCP</th>\n",
       "      <th>SNDP</th>\n",
       "      <th>TEMP_class</th>\n",
       "      <th>WDSP_class</th>\n",
       "      <th>DEWP_class</th>\n",
       "      <th>VISIB_class</th>\n",
       "    </tr>\n",
       "  </thead>\n",
       "  <tbody>\n",
       "    <tr>\n",
       "      <th>15141</th>\n",
       "      <td>4551167383</td>\n",
       "      <td>2010-04-11</td>\n",
       "      <td>43</td>\n",
       "      <td>-4</td>\n",
       "      <td>80210</td>\n",
       "      <td>53.7</td>\n",
       "      <td>49.1</td>\n",
       "      <td>9999.9</td>\n",
       "      <td>4.0</td>\n",
       "      <td>3.8</td>\n",
       "      <td>0.0</td>\n",
       "      <td>999.9</td>\n",
       "      <td>2</td>\n",
       "      <td>2</td>\n",
       "      <td>1</td>\n",
       "      <td>2</td>\n",
       "    </tr>\n",
       "    <tr>\n",
       "      <th>24832</th>\n",
       "      <td>1252040542</td>\n",
       "      <td>2007-08-19</td>\n",
       "      <td>42</td>\n",
       "      <td>-9</td>\n",
       "      <td>80440</td>\n",
       "      <td>66.8</td>\n",
       "      <td>52.9</td>\n",
       "      <td>1021.0</td>\n",
       "      <td>7.5</td>\n",
       "      <td>4.6</td>\n",
       "      <td>0.0</td>\n",
       "      <td>999.9</td>\n",
       "      <td>1</td>\n",
       "      <td>1</td>\n",
       "      <td>1</td>\n",
       "      <td>1</td>\n",
       "    </tr>\n",
       "    <tr>\n",
       "      <th>45558</th>\n",
       "      <td>4637239165</td>\n",
       "      <td>2010-05-24</td>\n",
       "      <td>38</td>\n",
       "      <td>-122</td>\n",
       "      <td>724828</td>\n",
       "      <td>58.9</td>\n",
       "      <td>38.4</td>\n",
       "      <td>1015.2</td>\n",
       "      <td>10.0</td>\n",
       "      <td>9.6</td>\n",
       "      <td>0.0</td>\n",
       "      <td>999.9</td>\n",
       "      <td>2</td>\n",
       "      <td>0</td>\n",
       "      <td>2</td>\n",
       "      <td>0</td>\n",
       "    </tr>\n",
       "  </tbody>\n",
       "</table>\n",
       "</div>"
      ],
      "text/plain": [
       "               id        date  LAT  LON     STN  TEMP  DEWP     SLP  VISIB  \\\n",
       "15141  4551167383  2010-04-11   43   -4   80210  53.7  49.1  9999.9    4.0   \n",
       "24832  1252040542  2007-08-19   42   -9   80440  66.8  52.9  1021.0    7.5   \n",
       "45558  4637239165  2010-05-24   38 -122  724828  58.9  38.4  1015.2   10.0   \n",
       "\n",
       "       WDSP  PRCP   SNDP  TEMP_class  WDSP_class  DEWP_class  VISIB_class  \n",
       "15141   3.8   0.0  999.9           2           2           1            2  \n",
       "24832   4.6   0.0  999.9           1           1           1            1  \n",
       "45558   9.6   0.0  999.9           2           0           2            0  "
      ]
     },
     "execution_count": 25,
     "metadata": {},
     "output_type": "execute_result"
    }
   ],
   "source": [
    "df_img_weather.head(3)"
   ]
  },
  {
   "cell_type": "code",
   "execution_count": 26,
   "id": "a8fde5f9-8afb-4630-bf24-ea5f0cd8fe9d",
   "metadata": {
    "tags": []
   },
   "outputs": [],
   "source": [
    "# Declare class groups and labels\n",
    "class_groups = ['TEMP_class','WDSP_class', 'DEWP_class', 'VISIB_class']\n",
    "class_groups_labels = [\n",
    "    [0,1,2,3],\n",
    "    [0,1,2],\n",
    "    [0,1,2],\n",
    "    [0,1,2]\n",
    "]         "
   ]
  },
  {
   "cell_type": "code",
   "execution_count": 27,
   "id": "44985978-a5c5-4830-83b0-4e857fe03828",
   "metadata": {
    "tags": []
   },
   "outputs": [],
   "source": [
    "# Create Empty directory for training and test images\n",
    "if not os.path.isdir(f\"data/training\"):\n",
    "    os.mkdir(f\"data/training\")\n",
    "if not os.path.isdir(f\"data/test\"):\n",
    "    os.mkdir(f\"data/test\")\n",
    "    \n",
    "for class_group, class_group_labels  in zip(class_groups, class_groups_labels):\n",
    "    if not os.path.isdir(f\"data/training/{class_group}\"): \n",
    "        os.mkdir(f\"data/training/{class_group}\")\n",
    "    if not os.path.isdir(f\"data/test/{class_group}\"): \n",
    "        os.mkdir(f\"data/test/{class_group}\")        \n",
    "    \n",
    "    for label in class_group_labels:\n",
    "        if not os.path.isdir(f\"data/training/{class_group}/{label}\"): \n",
    "            os.mkdir(f\"data/training/{class_group}/{label}\")\n",
    "        if not os.path.isdir(f\"data/test/{class_group}/{label}\"): \n",
    "            os.mkdir(f\"data/test/{class_group}/{label}\")  "
   ]
  },
  {
   "cell_type": "code",
   "execution_count": 28,
   "id": "a68d8ff5-048d-4b31-9588-58add050f79c",
   "metadata": {
    "tags": []
   },
   "outputs": [],
   "source": [
    "COPIED_FILES = []\n",
    "SKIPPED_FILES = []\n",
    "def copy_image_to_training(img_id, class_group, label):\n",
    "    if label==99:\n",
    "        return\n",
    "    if os.path.isfile(f\"data/download/1/{img_id}.jpg\"):\n",
    "        shutil.copy(f\"data/download/1/{img_id}.jpg\", f\"data/training/{class_group}/{label}/{img_id}.jpg\")\n",
    "        COPIED_FILES.append(f\"data/download/1/{img_id}.jpg\")\n",
    "    else:\n",
    "        SKIPPED_FILES.append(f\"data/download/1/{img_id}.jpg\")\n",
    "        "
   ]
  },
  {
   "cell_type": "code",
   "execution_count": 29,
   "id": "b7dc989e-793b-4330-97ae-0c2dcebc547f",
   "metadata": {
    "tags": []
   },
   "outputs": [
    {
     "name": "stdout",
     "output_type": "stream",
     "text": [
      "1697 1388\n"
     ]
    }
   ],
   "source": [
    "COPIED_FILES = []\n",
    "SKIPPED_FILES = []\n",
    "_ = df_img_weather.apply(lambda x: copy_image_to_training(x['id'], 'TEMP_class', x['TEMP_class']), axis=1, meta=(None, 'object')).compute()\n",
    "print(len(COPIED_FILES), len(SKIPPED_FILES))"
   ]
  },
  {
   "cell_type": "code",
   "execution_count": 30,
   "id": "104d848b-a362-4a3d-bf85-1f38e04760d7",
   "metadata": {
    "tags": []
   },
   "outputs": [
    {
     "name": "stdout",
     "output_type": "stream",
     "text": [
      "1673 1362\n"
     ]
    }
   ],
   "source": [
    "COPIED_FILES = []\n",
    "SKIPPED_FILES = []\n",
    "_ = df_img_weather.apply(lambda x: copy_image_to_training(x['id'], 'WDSP_class', x['WDSP_class']), axis=1, meta=(None, 'object')).compute()\n",
    "print(len(COPIED_FILES), len(SKIPPED_FILES))"
   ]
  },
  {
   "cell_type": "code",
   "execution_count": 31,
   "id": "1481d8d7-4ebe-432e-b343-27168c581855",
   "metadata": {
    "tags": []
   },
   "outputs": [
    {
     "name": "stdout",
     "output_type": "stream",
     "text": [
      "1680 1371\n"
     ]
    }
   ],
   "source": [
    "COPIED_FILES = []\n",
    "SKIPPED_FILES = []\n",
    "_ = df_img_weather.apply(lambda x: copy_image_to_training(x['id'], 'DEWP_class', x['DEWP_class']), axis=1, meta=(None, 'object')).compute()\n",
    "print(len(COPIED_FILES), len(SKIPPED_FILES))"
   ]
  },
  {
   "cell_type": "code",
   "execution_count": 32,
   "id": "2394556b-a881-469b-903d-1aa1fb2ad2b2",
   "metadata": {
    "tags": []
   },
   "outputs": [
    {
     "name": "stdout",
     "output_type": "stream",
     "text": [
      "1503 1243\n"
     ]
    }
   ],
   "source": [
    "COPIED_FILES = []\n",
    "SKIPPED_FILES = []\n",
    "_ = df_img_weather.apply(lambda x: copy_image_to_training(x['id'], 'VISIB_class', x['VISIB_class']), axis=1, meta=(None, 'object')).compute()\n",
    "print(len(COPIED_FILES), len(SKIPPED_FILES))"
   ]
  },
  {
   "cell_type": "code",
   "execution_count": null,
   "id": "8d155064-f255-40b8-9128-c0f8e99eb5e5",
   "metadata": {
    "tags": []
   },
   "outputs": [],
   "source": []
  },
  {
   "cell_type": "code",
   "execution_count": 34,
   "id": "226ffcee-df97-4398-b01f-0659b0928650",
   "metadata": {
    "tags": []
   },
   "outputs": [
    {
     "name": "stdout",
     "output_type": "stream",
     "text": [
      "Copying TEMP_class/0\n"
     ]
    },
    {
     "data": {
      "application/vnd.jupyter.widget-view+json": {
       "model_id": "21285026dd6f40588b9b5258688f8b53",
       "version_major": 2,
       "version_minor": 0
      },
      "text/plain": [
       "  0%|          | 0/61 [00:00<?, ?it/s]"
      ]
     },
     "metadata": {},
     "output_type": "display_data"
    },
    {
     "name": "stdout",
     "output_type": "stream",
     "text": [
      "Copying TEMP_class/1\n"
     ]
    },
    {
     "data": {
      "application/vnd.jupyter.widget-view+json": {
       "model_id": "e6464e9fc0414ae09342e71a75212216",
       "version_major": 2,
       "version_minor": 0
      },
      "text/plain": [
       "  0%|          | 0/74 [00:00<?, ?it/s]"
      ]
     },
     "metadata": {},
     "output_type": "display_data"
    },
    {
     "name": "stdout",
     "output_type": "stream",
     "text": [
      "Copying TEMP_class/2\n"
     ]
    },
    {
     "data": {
      "application/vnd.jupyter.widget-view+json": {
       "model_id": "1a5868aa993249668b5d14983d9943e6",
       "version_major": 2,
       "version_minor": 0
      },
      "text/plain": [
       "  0%|          | 0/139 [00:00<?, ?it/s]"
      ]
     },
     "metadata": {},
     "output_type": "display_data"
    },
    {
     "name": "stdout",
     "output_type": "stream",
     "text": [
      "Copying TEMP_class/3\n"
     ]
    },
    {
     "data": {
      "application/vnd.jupyter.widget-view+json": {
       "model_id": "0c016a895a55472b8d8f8fa080bc7a4a",
       "version_major": 2,
       "version_minor": 0
      },
      "text/plain": [
       "  0%|          | 0/64 [00:00<?, ?it/s]"
      ]
     },
     "metadata": {},
     "output_type": "display_data"
    },
    {
     "name": "stdout",
     "output_type": "stream",
     "text": [
      "Copying WDSP_class/0\n"
     ]
    },
    {
     "data": {
      "application/vnd.jupyter.widget-view+json": {
       "model_id": "0d45ecae840e4a7fb1aa18a4cc2b6166",
       "version_major": 2,
       "version_minor": 0
      },
      "text/plain": [
       "  0%|          | 0/70 [00:00<?, ?it/s]"
      ]
     },
     "metadata": {},
     "output_type": "display_data"
    },
    {
     "name": "stdout",
     "output_type": "stream",
     "text": [
      "Copying WDSP_class/1\n"
     ]
    },
    {
     "data": {
      "application/vnd.jupyter.widget-view+json": {
       "model_id": "6b64a300d7fe4201a03409be3c0b7f3f",
       "version_major": 2,
       "version_minor": 0
      },
      "text/plain": [
       "  0%|          | 0/156 [00:00<?, ?it/s]"
      ]
     },
     "metadata": {},
     "output_type": "display_data"
    },
    {
     "name": "stdout",
     "output_type": "stream",
     "text": [
      "Copying WDSP_class/2\n"
     ]
    },
    {
     "data": {
      "application/vnd.jupyter.widget-view+json": {
       "model_id": "ef1029bd24d64ee3b1343f8009cf9faa",
       "version_major": 2,
       "version_minor": 0
      },
      "text/plain": [
       "  0%|          | 0/108 [00:00<?, ?it/s]"
      ]
     },
     "metadata": {},
     "output_type": "display_data"
    },
    {
     "name": "stdout",
     "output_type": "stream",
     "text": [
      "Copying DEWP_class/0\n"
     ]
    },
    {
     "data": {
      "application/vnd.jupyter.widget-view+json": {
       "model_id": "5f519b673e97441fb62004596057701f",
       "version_major": 2,
       "version_minor": 0
      },
      "text/plain": [
       "  0%|          | 0/73 [00:00<?, ?it/s]"
      ]
     },
     "metadata": {},
     "output_type": "display_data"
    },
    {
     "name": "stdout",
     "output_type": "stream",
     "text": [
      "Copying DEWP_class/1\n"
     ]
    },
    {
     "data": {
      "application/vnd.jupyter.widget-view+json": {
       "model_id": "9f998f899fbf4231b8c125fd0b199054",
       "version_major": 2,
       "version_minor": 0
      },
      "text/plain": [
       "  0%|          | 0/146 [00:00<?, ?it/s]"
      ]
     },
     "metadata": {},
     "output_type": "display_data"
    },
    {
     "name": "stdout",
     "output_type": "stream",
     "text": [
      "Copying DEWP_class/2\n"
     ]
    },
    {
     "data": {
      "application/vnd.jupyter.widget-view+json": {
       "model_id": "051ef91511b9424cb7f6d007fe01e5b9",
       "version_major": 2,
       "version_minor": 0
      },
      "text/plain": [
       "  0%|          | 0/116 [00:00<?, ?it/s]"
      ]
     },
     "metadata": {},
     "output_type": "display_data"
    },
    {
     "name": "stdout",
     "output_type": "stream",
     "text": [
      "Copying VISIB_class/0\n"
     ]
    },
    {
     "data": {
      "application/vnd.jupyter.widget-view+json": {
       "model_id": "3eb9d0bb44bd44739ec7b90c995a7575",
       "version_major": 2,
       "version_minor": 0
      },
      "text/plain": [
       "  0%|          | 0/156 [00:00<?, ?it/s]"
      ]
     },
     "metadata": {},
     "output_type": "display_data"
    },
    {
     "name": "stdout",
     "output_type": "stream",
     "text": [
      "Copying VISIB_class/1\n"
     ]
    },
    {
     "data": {
      "application/vnd.jupyter.widget-view+json": {
       "model_id": "5244304f479c45578819b755b2b59ed3",
       "version_major": 2,
       "version_minor": 0
      },
      "text/plain": [
       "  0%|          | 0/101 [00:00<?, ?it/s]"
      ]
     },
     "metadata": {},
     "output_type": "display_data"
    },
    {
     "name": "stdout",
     "output_type": "stream",
     "text": [
      "Copying VISIB_class/2\n"
     ]
    },
    {
     "data": {
      "application/vnd.jupyter.widget-view+json": {
       "model_id": "6a516617960e480fad6c55525a1897ab",
       "version_major": 2,
       "version_minor": 0
      },
      "text/plain": [
       "  0%|          | 0/42 [00:00<?, ?it/s]"
      ]
     },
     "metadata": {},
     "output_type": "display_data"
    }
   ],
   "source": [
    "#Copy 20% images for testing\n",
    "for class_group, class_group_labels  in zip(class_groups, class_groups_labels):\n",
    "    for label in class_group_labels:\n",
    "        print(f\"Copying {class_group}/{label}\")\n",
    "        files = [f for f in os.listdir(f\"data/training/{class_group}/{label}\") if os.path.isfile(os.path.join(f\"data/training/{class_group}/{label}\", f))]\n",
    "        val_size = len(files)//(100//20)\n",
    "        val_files = random.sample(files, val_size)\n",
    "        for file in tqdm(val_files):\n",
    "            #TODO: Move the file instead of copy\n",
    "            shutil.copy(f\"data/training/{class_group}/{label}/{file}\", f\"data/test/{class_group}/{label}/{file}\")\n",
    "        \n"
   ]
  },
  {
   "cell_type": "code",
   "execution_count": null,
   "id": "59723bef-e4e3-483d-ac97-e8d6f21c2495",
   "metadata": {},
   "outputs": [],
   "source": []
  }
 ],
 "metadata": {
  "kernelspec": {
   "display_name": "Python 3 (ipykernel)",
   "language": "python",
   "name": "python3"
  },
  "language_info": {
   "codemirror_mode": {
    "name": "ipython",
    "version": 3
   },
   "file_extension": ".py",
   "mimetype": "text/x-python",
   "name": "python",
   "nbconvert_exporter": "python",
   "pygments_lexer": "ipython3",
   "version": "3.9.16"
  }
 },
 "nbformat": 4,
 "nbformat_minor": 5
}
