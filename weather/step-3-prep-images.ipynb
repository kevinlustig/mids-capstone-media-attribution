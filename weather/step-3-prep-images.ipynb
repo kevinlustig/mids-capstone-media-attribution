{
 "cells": [
  {
   "cell_type": "markdown",
   "id": "77ff83bf-c0aa-465a-897b-c8b151025b1e",
   "metadata": {
    "tags": []
   },
   "source": [
    "## Import"
   ]
  },
  {
   "cell_type": "code",
   "execution_count": 3,
   "id": "05fb374f-abb1-4130-8c71-c520f15ab477",
   "metadata": {
    "tags": []
   },
   "outputs": [],
   "source": [
    "import pandas as pd\n",
    "import numpy as np\n",
    "import gc\n",
    "import swifter\n",
    "from tqdm.auto import tqdm\n",
    "import math\n",
    "import dask.dataframe as dd\n",
    "import swifter\n",
    "import seaborn as sns\n",
    "import matplotlib.pyplot as plt\n",
    "import os\n",
    "import shutil\n",
    "import random"
   ]
  },
  {
   "cell_type": "markdown",
   "id": "cfab8516-d431-4d9c-bc83-a3c6a1cc0408",
   "metadata": {
    "tags": []
   },
   "source": [
    "## Data Preperation"
   ]
  },
  {
   "cell_type": "code",
   "execution_count": 43,
   "id": "81d8ef57-61a8-440a-b226-f1a6033c6f0c",
   "metadata": {
    "tags": []
   },
   "outputs": [
    {
     "name": "stdout",
     "output_type": "stream",
     "text": [
      "rm: cannot remove '../../../data/training': No such file or directory\n",
      "rm: cannot remove '../../../data/test': No such file or directory\n"
     ]
    }
   ],
   "source": [
    "#!rm ../../../data/training -r\n",
    "#!rm ../../../data/test -r"
   ]
  },
  {
   "cell_type": "markdown",
   "id": "a31141df-8a84-4bc1-9dcc-9d7c50adc4ce",
   "metadata": {
    "tags": []
   },
   "source": [
    "### Load Image-Weather Data"
   ]
  },
  {
   "cell_type": "code",
   "execution_count": 3,
   "id": "975d3dde-7914-4e5f-9e86-242a90688241",
   "metadata": {
    "tags": []
   },
   "outputs": [
    {
     "name": "stdout",
     "output_type": "stream",
     "text": [
      "(Delayed('int-8e889dca-1bd3-4728-b916-7231b359aae5'), 12)\n"
     ]
    },
    {
     "data": {
      "text/html": [
       "<div>\n",
       "<style scoped>\n",
       "    .dataframe tbody tr th:only-of-type {\n",
       "        vertical-align: middle;\n",
       "    }\n",
       "\n",
       "    .dataframe tbody tr th {\n",
       "        vertical-align: top;\n",
       "    }\n",
       "\n",
       "    .dataframe thead th {\n",
       "        text-align: right;\n",
       "    }\n",
       "</style>\n",
       "<table border=\"1\" class=\"dataframe\">\n",
       "  <thead>\n",
       "    <tr style=\"text-align: right;\">\n",
       "      <th></th>\n",
       "      <th>id</th>\n",
       "      <th>date</th>\n",
       "      <th>LAT</th>\n",
       "      <th>LON</th>\n",
       "      <th>STN</th>\n",
       "      <th>TEMP</th>\n",
       "      <th>DEWP</th>\n",
       "      <th>SLP</th>\n",
       "      <th>VISIB</th>\n",
       "      <th>WDSP</th>\n",
       "      <th>PRCP</th>\n",
       "      <th>SNDP</th>\n",
       "    </tr>\n",
       "  </thead>\n",
       "  <tbody>\n",
       "    <tr>\n",
       "      <th>0</th>\n",
       "      <td>3873511228</td>\n",
       "      <td>2008-04-04</td>\n",
       "      <td>30</td>\n",
       "      <td>-90</td>\n",
       "      <td>722310</td>\n",
       "      <td>76.8</td>\n",
       "      <td>70.9</td>\n",
       "      <td>1012.7</td>\n",
       "      <td>9.8</td>\n",
       "      <td>10.6</td>\n",
       "      <td>0.0</td>\n",
       "      <td>999.9</td>\n",
       "    </tr>\n",
       "    <tr>\n",
       "      <th>1</th>\n",
       "      <td>2402567418</td>\n",
       "      <td>2008-04-04</td>\n",
       "      <td>30</td>\n",
       "      <td>-90</td>\n",
       "      <td>722310</td>\n",
       "      <td>76.8</td>\n",
       "      <td>70.9</td>\n",
       "      <td>1012.7</td>\n",
       "      <td>9.8</td>\n",
       "      <td>10.6</td>\n",
       "      <td>0.0</td>\n",
       "      <td>999.9</td>\n",
       "    </tr>\n",
       "  </tbody>\n",
       "</table>\n",
       "</div>"
      ],
      "text/plain": [
       "           id        date  LAT  LON     STN  TEMP  DEWP     SLP  VISIB  WDSP  \\\n",
       "0  3873511228  2008-04-04   30  -90  722310  76.8  70.9  1012.7    9.8  10.6   \n",
       "1  2402567418  2008-04-04   30  -90  722310  76.8  70.9  1012.7    9.8  10.6   \n",
       "\n",
       "   PRCP   SNDP  \n",
       "0   0.0  999.9  \n",
       "1   0.0  999.9  "
      ]
     },
     "execution_count": 3,
     "metadata": {},
     "output_type": "execute_result"
    }
   ],
   "source": [
    "df_img_weather = dd.read_csv(\"../../../data/img_weather_2007_2012.csv\")\n",
    "print(df_img_weather.shape)\n",
    "df_img_weather.head(2)"
   ]
  },
  {
   "cell_type": "code",
   "execution_count": null,
   "id": "d9a48d3f-b3e5-41ae-befa-a95e1f5f2935",
   "metadata": {
    "tags": []
   },
   "outputs": [],
   "source": [
    "#def get_file_id(filename):\n",
    "#    return np.int64(filename.split('.')[0])\n",
    "\n",
    "#get_file_id('234234.txt')"
   ]
  },
  {
   "cell_type": "code",
   "execution_count": null,
   "id": "712efbc0-4d0a-45ec-8d79-57bf7cc991f1",
   "metadata": {
    "tags": []
   },
   "outputs": [],
   "source": [
    "#df_labels = dd.read_csv('../../../data/labels-all.csv', usecols = ['Image','Label'])\n",
    "#df_labels.head(2)"
   ]
  },
  {
   "cell_type": "code",
   "execution_count": null,
   "id": "9ea72e8a-6af7-4849-a289-0705b269efa5",
   "metadata": {
    "tags": []
   },
   "outputs": [],
   "source": [
    "#df_labels['file_id'] = df_labels['Image'].apply(get_file_id, meta=('file_id','int64'))\n",
    "#df_labels.head(2)"
   ]
  },
  {
   "cell_type": "code",
   "execution_count": null,
   "id": "bf161b2d-c327-405a-a9ac-66c68b9e70fc",
   "metadata": {},
   "outputs": [],
   "source": []
  },
  {
   "cell_type": "code",
   "execution_count": 13,
   "id": "64fb6cba-fa9e-41e8-8f1d-362352e7009f",
   "metadata": {
    "tags": []
   },
   "outputs": [
    {
     "data": {
      "text/plain": [
       "(281374, 3)"
      ]
     },
     "execution_count": 13,
     "metadata": {},
     "output_type": "execute_result"
    }
   ],
   "source": [
    "df_labels.compute().shape"
   ]
  },
  {
   "cell_type": "markdown",
   "id": "50dccc77-3166-4f97-928c-01ecf4897730",
   "metadata": {
    "tags": []
   },
   "source": [
    "### Filter for outdoor images"
   ]
  },
  {
   "cell_type": "code",
   "execution_count": 15,
   "id": "2fd7c17f-8ad7-4613-bd61-73012ed107f9",
   "metadata": {
    "tags": []
   },
   "outputs": [
    {
     "name": "stdout",
     "output_type": "stream",
     "text": [
      "(281374, 3)\n"
     ]
    },
    {
     "data": {
      "text/html": [
       "<div>\n",
       "<style scoped>\n",
       "    .dataframe tbody tr th:only-of-type {\n",
       "        vertical-align: middle;\n",
       "    }\n",
       "\n",
       "    .dataframe tbody tr th {\n",
       "        vertical-align: top;\n",
       "    }\n",
       "\n",
       "    .dataframe thead th {\n",
       "        text-align: right;\n",
       "    }\n",
       "</style>\n",
       "<table border=\"1\" class=\"dataframe\">\n",
       "  <thead>\n",
       "    <tr style=\"text-align: right;\">\n",
       "      <th></th>\n",
       "      <th>Image</th>\n",
       "      <th>Label</th>\n",
       "      <th>id</th>\n",
       "    </tr>\n",
       "  </thead>\n",
       "  <tbody>\n",
       "    <tr>\n",
       "      <th>0</th>\n",
       "      <td>1127618657.jpg</td>\n",
       "      <td>1.0</td>\n",
       "      <td>1127618657</td>\n",
       "    </tr>\n",
       "    <tr>\n",
       "      <th>1</th>\n",
       "      <td>4571931357.jpg</td>\n",
       "      <td>1.0</td>\n",
       "      <td>4571931357</td>\n",
       "    </tr>\n",
       "  </tbody>\n",
       "</table>\n",
       "</div>"
      ],
      "text/plain": [
       "            Image  Label          id\n",
       "0  1127618657.jpg    1.0  1127618657\n",
       "1  4571931357.jpg    1.0  4571931357"
      ]
     },
     "execution_count": 15,
     "metadata": {},
     "output_type": "execute_result"
    }
   ],
   "source": [
    "#outdoor_images = df_labels[df_labels['Label']==1]\n",
    "#print(outdoor_images.compute().shape)\n",
    "#outdoor_images.head(2)"
   ]
  },
  {
   "cell_type": "code",
   "execution_count": 8,
   "id": "0e1a1afb-7985-4c84-82b8-64521ddf422b",
   "metadata": {
    "tags": []
   },
   "outputs": [
    {
     "data": {
      "text/html": [
       "<div>\n",
       "<style scoped>\n",
       "    .dataframe tbody tr th:only-of-type {\n",
       "        vertical-align: middle;\n",
       "    }\n",
       "\n",
       "    .dataframe tbody tr th {\n",
       "        vertical-align: top;\n",
       "    }\n",
       "\n",
       "    .dataframe thead th {\n",
       "        text-align: right;\n",
       "    }\n",
       "</style>\n",
       "<table border=\"1\" class=\"dataframe\">\n",
       "  <thead>\n",
       "    <tr style=\"text-align: right;\">\n",
       "      <th></th>\n",
       "      <th>id</th>\n",
       "      <th>date</th>\n",
       "      <th>LAT</th>\n",
       "      <th>LON</th>\n",
       "      <th>STN</th>\n",
       "      <th>TEMP</th>\n",
       "      <th>DEWP</th>\n",
       "      <th>SLP</th>\n",
       "      <th>VISIB</th>\n",
       "      <th>WDSP</th>\n",
       "      <th>PRCP</th>\n",
       "      <th>SNDP</th>\n",
       "    </tr>\n",
       "  </thead>\n",
       "  <tbody>\n",
       "    <tr>\n",
       "      <th>15141</th>\n",
       "      <td>4551167383</td>\n",
       "      <td>2010-04-11</td>\n",
       "      <td>43</td>\n",
       "      <td>-4</td>\n",
       "      <td>80210</td>\n",
       "      <td>53.7</td>\n",
       "      <td>49.1</td>\n",
       "      <td>9999.9</td>\n",
       "      <td>4.0</td>\n",
       "      <td>3.8</td>\n",
       "      <td>0.0</td>\n",
       "      <td>999.9</td>\n",
       "    </tr>\n",
       "    <tr>\n",
       "      <th>24832</th>\n",
       "      <td>1252040542</td>\n",
       "      <td>2007-08-19</td>\n",
       "      <td>42</td>\n",
       "      <td>-9</td>\n",
       "      <td>80440</td>\n",
       "      <td>66.8</td>\n",
       "      <td>52.9</td>\n",
       "      <td>1021.0</td>\n",
       "      <td>7.5</td>\n",
       "      <td>4.6</td>\n",
       "      <td>0.0</td>\n",
       "      <td>999.9</td>\n",
       "    </tr>\n",
       "    <tr>\n",
       "      <th>45558</th>\n",
       "      <td>4637239165</td>\n",
       "      <td>2010-05-24</td>\n",
       "      <td>38</td>\n",
       "      <td>-122</td>\n",
       "      <td>724828</td>\n",
       "      <td>58.9</td>\n",
       "      <td>38.4</td>\n",
       "      <td>1015.2</td>\n",
       "      <td>10.0</td>\n",
       "      <td>9.6</td>\n",
       "      <td>0.0</td>\n",
       "      <td>999.9</td>\n",
       "    </tr>\n",
       "  </tbody>\n",
       "</table>\n",
       "</div>"
      ],
      "text/plain": [
       "               id        date  LAT  LON     STN  TEMP  DEWP     SLP  VISIB  \\\n",
       "15141  4551167383  2010-04-11   43   -4   80210  53.7  49.1  9999.9    4.0   \n",
       "24832  1252040542  2007-08-19   42   -9   80440  66.8  52.9  1021.0    7.5   \n",
       "45558  4637239165  2010-05-24   38 -122  724828  58.9  38.4  1015.2   10.0   \n",
       "\n",
       "       WDSP  PRCP   SNDP  \n",
       "15141   3.8   0.0  999.9  \n",
       "24832   4.6   0.0  999.9  \n",
       "45558   9.6   0.0  999.9  "
      ]
     },
     "execution_count": 8,
     "metadata": {},
     "output_type": "execute_result"
    }
   ],
   "source": [
    "#df_img_weather = df_img_weather[df_img_weather['id'].isin(outdoor_images['file_id'].compute().values)]\n",
    "#df_img_weather.head(3)"
   ]
  },
  {
   "cell_type": "code",
   "execution_count": 10,
   "id": "1e981aa9-bfbf-4a59-9c81-41631f16d143",
   "metadata": {
    "tags": []
   },
   "outputs": [
    {
     "data": {
      "text/html": [
       "<div>\n",
       "<style scoped>\n",
       "    .dataframe tbody tr th:only-of-type {\n",
       "        vertical-align: middle;\n",
       "    }\n",
       "\n",
       "    .dataframe tbody tr th {\n",
       "        vertical-align: top;\n",
       "    }\n",
       "\n",
       "    .dataframe thead th {\n",
       "        text-align: right;\n",
       "    }\n",
       "</style>\n",
       "<table border=\"1\" class=\"dataframe\">\n",
       "  <thead>\n",
       "    <tr style=\"text-align: right;\">\n",
       "      <th></th>\n",
       "      <th>Image</th>\n",
       "      <th>Label</th>\n",
       "      <th>id</th>\n",
       "    </tr>\n",
       "  </thead>\n",
       "  <tbody>\n",
       "    <tr>\n",
       "      <th>0</th>\n",
       "      <td>1127618657.jpg</td>\n",
       "      <td>1.0</td>\n",
       "      <td>1127618657</td>\n",
       "    </tr>\n",
       "    <tr>\n",
       "      <th>1</th>\n",
       "      <td>4571931357.jpg</td>\n",
       "      <td>1.0</td>\n",
       "      <td>4571931357</td>\n",
       "    </tr>\n",
       "  </tbody>\n",
       "</table>\n",
       "</div>"
      ],
      "text/plain": [
       "            Image  Label          id\n",
       "0  1127618657.jpg    1.0  1127618657\n",
       "1  4571931357.jpg    1.0  4571931357"
      ]
     },
     "execution_count": 10,
     "metadata": {},
     "output_type": "execute_result"
    }
   ],
   "source": [
    "df_labels = dd.read_csv('../../../data/meta_all.csv', usecols = ['Image','Label', 'id'])\n",
    "df_labels.head(2)"
   ]
  },
  {
   "cell_type": "code",
   "execution_count": 18,
   "id": "9903a743-594e-4413-a1ac-e5cbb6d241c0",
   "metadata": {
    "tags": []
   },
   "outputs": [
    {
     "data": {
      "text/plain": [
       "(10525110, 12)"
      ]
     },
     "execution_count": 18,
     "metadata": {},
     "output_type": "execute_result"
    }
   ],
   "source": [
    "df_img_weather.compute().shape"
   ]
  },
  {
   "cell_type": "code",
   "execution_count": 19,
   "id": "dc6be9b1-cfad-49ee-bb39-c3c7c7323ed1",
   "metadata": {
    "tags": []
   },
   "outputs": [],
   "source": [
    "df_img_weather = df_img_weather[df_img_weather.id.isin(df_labels.id.compute().values)]"
   ]
  },
  {
   "cell_type": "code",
   "execution_count": 20,
   "id": "533ccb2c-b874-4f34-a0e7-5fe85345a5aa",
   "metadata": {
    "tags": []
   },
   "outputs": [
    {
     "data": {
      "text/plain": [
       "(203010, 12)"
      ]
     },
     "execution_count": 20,
     "metadata": {},
     "output_type": "execute_result"
    }
   ],
   "source": [
    "df_img_weather.compute().shape"
   ]
  },
  {
   "cell_type": "markdown",
   "id": "dac489ce-080a-4040-b010-847f144ffe21",
   "metadata": {
    "tags": []
   },
   "source": [
    "### Temperature"
   ]
  },
  {
   "cell_type": "code",
   "execution_count": 21,
   "id": "509a2bf4-bc88-4da4-b6c1-0004b418b6d1",
   "metadata": {
    "tags": []
   },
   "outputs": [
    {
     "data": {
      "text/plain": [
       "(-20.0, 120.0)"
      ]
     },
     "execution_count": 21,
     "metadata": {},
     "output_type": "execute_result"
    },
    {
     "data": {
      "image/png": "[encoded data removed]",
      "text/plain": [
       "<Figure size 500x500 with 1 Axes>"
      ]
     },
     "metadata": {},
     "output_type": "display_data"
    }
   ],
   "source": [
    "sns.displot(df_img_weather, x=\"TEMP\")\n",
    "plt.xlim(-20,120)"
   ]
  },
  {
   "cell_type": "code",
   "execution_count": 22,
   "id": "ea91268a-8289-4d52-b7a0-59724424be35",
   "metadata": {
    "tags": []
   },
   "outputs": [],
   "source": [
    "def get_temperature_class(temperature):\n",
    "    if temperature== 9999.9:\n",
    "        return 99\n",
    "    elif temperature>75:\n",
    "        return 0\n",
    "    elif 75>=temperature>65:\n",
    "        return 1\n",
    "    elif 65>=temperature>50:\n",
    "        return 2\n",
    "    else:\n",
    "        return 3"
   ]
  },
  {
   "cell_type": "code",
   "execution_count": 23,
   "id": "551939c8-70b4-486a-a0af-2754b5db7b0d",
   "metadata": {
    "tags": []
   },
   "outputs": [
    {
     "data": {
      "text/html": [
       "<div>\n",
       "<style scoped>\n",
       "    .dataframe tbody tr th:only-of-type {\n",
       "        vertical-align: middle;\n",
       "    }\n",
       "\n",
       "    .dataframe tbody tr th {\n",
       "        vertical-align: top;\n",
       "    }\n",
       "\n",
       "    .dataframe thead th {\n",
       "        text-align: right;\n",
       "    }\n",
       "</style>\n",
       "<table border=\"1\" class=\"dataframe\">\n",
       "  <thead>\n",
       "    <tr style=\"text-align: right;\">\n",
       "      <th></th>\n",
       "      <th>id</th>\n",
       "      <th>date</th>\n",
       "      <th>LAT</th>\n",
       "      <th>LON</th>\n",
       "      <th>STN</th>\n",
       "      <th>TEMP</th>\n",
       "      <th>DEWP</th>\n",
       "      <th>SLP</th>\n",
       "      <th>VISIB</th>\n",
       "      <th>WDSP</th>\n",
       "      <th>PRCP</th>\n",
       "      <th>SNDP</th>\n",
       "      <th>TEMP_class</th>\n",
       "    </tr>\n",
       "  </thead>\n",
       "  <tbody>\n",
       "    <tr>\n",
       "      <th>44</th>\n",
       "      <td>1469526786</td>\n",
       "      <td>2007-10-01</td>\n",
       "      <td>44</td>\n",
       "      <td>-80</td>\n",
       "      <td>712700</td>\n",
       "      <td>67.2</td>\n",
       "      <td>53.5</td>\n",
       "      <td>1021.9</td>\n",
       "      <td>999.9</td>\n",
       "      <td>6.3</td>\n",
       "      <td>0.0</td>\n",
       "      <td>999.9</td>\n",
       "      <td>1</td>\n",
       "    </tr>\n",
       "    <tr>\n",
       "      <th>883</th>\n",
       "      <td>1466394946</td>\n",
       "      <td>2007-10-01</td>\n",
       "      <td>51</td>\n",
       "      <td>-114</td>\n",
       "      <td>712350</td>\n",
       "      <td>49.1</td>\n",
       "      <td>27.2</td>\n",
       "      <td>9999.9</td>\n",
       "      <td>999.9</td>\n",
       "      <td>9.6</td>\n",
       "      <td>0.0</td>\n",
       "      <td>999.9</td>\n",
       "      <td>3</td>\n",
       "    </tr>\n",
       "    <tr>\n",
       "      <th>3188</th>\n",
       "      <td>1399637907</td>\n",
       "      <td>2007-09-15</td>\n",
       "      <td>48</td>\n",
       "      <td>-123</td>\n",
       "      <td>690230</td>\n",
       "      <td>56.2</td>\n",
       "      <td>49.6</td>\n",
       "      <td>1019.3</td>\n",
       "      <td>10.0</td>\n",
       "      <td>3.3</td>\n",
       "      <td>0.0</td>\n",
       "      <td>999.9</td>\n",
       "      <td>2</td>\n",
       "    </tr>\n",
       "  </tbody>\n",
       "</table>\n",
       "</div>"
      ],
      "text/plain": [
       "              id        date  LAT  LON     STN  TEMP  DEWP     SLP  VISIB  \\\n",
       "44    1469526786  2007-10-01   44  -80  712700  67.2  53.5  1021.9  999.9   \n",
       "883   1466394946  2007-10-01   51 -114  712350  49.1  27.2  9999.9  999.9   \n",
       "3188  1399637907  2007-09-15   48 -123  690230  56.2  49.6  1019.3   10.0   \n",
       "\n",
       "      WDSP  PRCP   SNDP  TEMP_class  \n",
       "44     6.3   0.0  999.9           1  \n",
       "883    9.6   0.0  999.9           3  \n",
       "3188   3.3   0.0  999.9           2  "
      ]
     },
     "execution_count": 23,
     "metadata": {},
     "output_type": "execute_result"
    }
   ],
   "source": [
    "df_img_weather['TEMP_class'] = df_img_weather['TEMP'].apply(get_temperature_class, meta=('TEMP_class','int64'))\n",
    "df_img_weather.head(3)"
   ]
  },
  {
   "cell_type": "code",
   "execution_count": 24,
   "id": "ac3cbf15-e0e3-446d-b963-f6a51ddd0728",
   "metadata": {
    "tags": []
   },
   "outputs": [
    {
     "data": {
      "text/plain": [
       "(0.0, 5.0)"
      ]
     },
     "execution_count": 24,
     "metadata": {},
     "output_type": "execute_result"
    },
    {
     "data": {
      "image/png": "[encoded data removed]",
      "text/plain": [
       "<Figure size 500x500 with 1 Axes>"
      ]
     },
     "metadata": {},
     "output_type": "display_data"
    }
   ],
   "source": [
    "sns.displot(df_img_weather, x=\"TEMP_class\")\n",
    "plt.xlim(0,5)"
   ]
  },
  {
   "cell_type": "markdown",
   "id": "06259cb0-8778-4714-b295-466f5822a1bf",
   "metadata": {
    "tags": []
   },
   "source": [
    "### Wind Speed"
   ]
  },
  {
   "cell_type": "code",
   "execution_count": 25,
   "id": "047e9786-008e-44a3-bda2-f47a760d881d",
   "metadata": {
    "tags": []
   },
   "outputs": [
    {
     "data": {
      "text/plain": [
       "(0.0, 40.0)"
      ]
     },
     "execution_count": 25,
     "metadata": {},
     "output_type": "execute_result"
    },
    {
     "data": {
      "image/png": "[encoded data removed]",
      "text/plain": [
       "<Figure size 500x500 with 1 Axes>"
      ]
     },
     "metadata": {},
     "output_type": "display_data"
    }
   ],
   "source": [
    "sns.displot(df_img_weather, x=\"WDSP\")\n",
    "plt.xlim(0,40)"
   ]
  },
  {
   "cell_type": "code",
   "execution_count": 26,
   "id": "e79fa43d-4b3c-4120-835d-e1b54d108726",
   "metadata": {
    "tags": []
   },
   "outputs": [],
   "source": [
    "def get_wind_speed_class(speed):\n",
    "    if speed==999.9:\n",
    "        return 99\n",
    "    elif speed>8:\n",
    "        return 0\n",
    "    elif 8>=speed>4:\n",
    "        return 1\n",
    "    else:\n",
    "        return 2"
   ]
  },
  {
   "cell_type": "code",
   "execution_count": 27,
   "id": "07684a4f-debc-4e72-8011-4f71e85d6fe0",
   "metadata": {
    "tags": []
   },
   "outputs": [
    {
     "data": {
      "text/html": [
       "<div>\n",
       "<style scoped>\n",
       "    .dataframe tbody tr th:only-of-type {\n",
       "        vertical-align: middle;\n",
       "    }\n",
       "\n",
       "    .dataframe tbody tr th {\n",
       "        vertical-align: top;\n",
       "    }\n",
       "\n",
       "    .dataframe thead th {\n",
       "        text-align: right;\n",
       "    }\n",
       "</style>\n",
       "<table border=\"1\" class=\"dataframe\">\n",
       "  <thead>\n",
       "    <tr style=\"text-align: right;\">\n",
       "      <th></th>\n",
       "      <th>id</th>\n",
       "      <th>date</th>\n",
       "      <th>LAT</th>\n",
       "      <th>LON</th>\n",
       "      <th>STN</th>\n",
       "      <th>TEMP</th>\n",
       "      <th>DEWP</th>\n",
       "      <th>SLP</th>\n",
       "      <th>VISIB</th>\n",
       "      <th>WDSP</th>\n",
       "      <th>PRCP</th>\n",
       "      <th>SNDP</th>\n",
       "      <th>TEMP_class</th>\n",
       "      <th>WDSP_class</th>\n",
       "    </tr>\n",
       "  </thead>\n",
       "  <tbody>\n",
       "    <tr>\n",
       "      <th>44</th>\n",
       "      <td>1469526786</td>\n",
       "      <td>2007-10-01</td>\n",
       "      <td>44</td>\n",
       "      <td>-80</td>\n",
       "      <td>712700</td>\n",
       "      <td>67.2</td>\n",
       "      <td>53.5</td>\n",
       "      <td>1021.9</td>\n",
       "      <td>999.9</td>\n",
       "      <td>6.3</td>\n",
       "      <td>0.0</td>\n",
       "      <td>999.9</td>\n",
       "      <td>1</td>\n",
       "      <td>1</td>\n",
       "    </tr>\n",
       "    <tr>\n",
       "      <th>883</th>\n",
       "      <td>1466394946</td>\n",
       "      <td>2007-10-01</td>\n",
       "      <td>51</td>\n",
       "      <td>-114</td>\n",
       "      <td>712350</td>\n",
       "      <td>49.1</td>\n",
       "      <td>27.2</td>\n",
       "      <td>9999.9</td>\n",
       "      <td>999.9</td>\n",
       "      <td>9.6</td>\n",
       "      <td>0.0</td>\n",
       "      <td>999.9</td>\n",
       "      <td>3</td>\n",
       "      <td>0</td>\n",
       "    </tr>\n",
       "    <tr>\n",
       "      <th>3188</th>\n",
       "      <td>1399637907</td>\n",
       "      <td>2007-09-15</td>\n",
       "      <td>48</td>\n",
       "      <td>-123</td>\n",
       "      <td>690230</td>\n",
       "      <td>56.2</td>\n",
       "      <td>49.6</td>\n",
       "      <td>1019.3</td>\n",
       "      <td>10.0</td>\n",
       "      <td>3.3</td>\n",
       "      <td>0.0</td>\n",
       "      <td>999.9</td>\n",
       "      <td>2</td>\n",
       "      <td>2</td>\n",
       "    </tr>\n",
       "  </tbody>\n",
       "</table>\n",
       "</div>"
      ],
      "text/plain": [
       "              id        date  LAT  LON     STN  TEMP  DEWP     SLP  VISIB  \\\n",
       "44    1469526786  2007-10-01   44  -80  712700  67.2  53.5  1021.9  999.9   \n",
       "883   1466394946  2007-10-01   51 -114  712350  49.1  27.2  9999.9  999.9   \n",
       "3188  1399637907  2007-09-15   48 -123  690230  56.2  49.6  1019.3   10.0   \n",
       "\n",
       "      WDSP  PRCP   SNDP  TEMP_class  WDSP_class  \n",
       "44     6.3   0.0  999.9           1           1  \n",
       "883    9.6   0.0  999.9           3           0  \n",
       "3188   3.3   0.0  999.9           2           2  "
      ]
     },
     "execution_count": 27,
     "metadata": {},
     "output_type": "execute_result"
    }
   ],
   "source": [
    "df_img_weather['WDSP_class'] = df_img_weather['WDSP'].apply(get_wind_speed_class, meta=('WDSP_class','int64'))\n",
    "df_img_weather.head(3)"
   ]
  },
  {
   "cell_type": "code",
   "execution_count": 28,
   "id": "b89866d9-235b-459f-9f2c-98852d2bed34",
   "metadata": {
    "tags": []
   },
   "outputs": [
    {
     "data": {
      "text/plain": [
       "(0.0, 5.0)"
      ]
     },
     "execution_count": 28,
     "metadata": {},
     "output_type": "execute_result"
    },
    {
     "data": {
      "image/png": "[encoded data removed]",
      "text/plain": [
       "<Figure size 500x500 with 1 Axes>"
      ]
     },
     "metadata": {},
     "output_type": "display_data"
    }
   ],
   "source": [
    "sns.displot(df_img_weather, x=\"WDSP_class\")\n",
    "plt.xlim(0,5)"
   ]
  },
  {
   "cell_type": "markdown",
   "id": "a85bd7ed-55d4-4140-885d-aac99287b840",
   "metadata": {
    "tags": []
   },
   "source": [
    "### Dew Point"
   ]
  },
  {
   "cell_type": "code",
   "execution_count": 29,
   "id": "2ab2501b-bb11-4d40-be5c-5ad5f1a599d7",
   "metadata": {
    "tags": []
   },
   "outputs": [
    {
     "data": {
      "text/plain": [
       "(0.0, 100.0)"
      ]
     },
     "execution_count": 29,
     "metadata": {},
     "output_type": "execute_result"
    },
    {
     "data": {
      "image/png": "[encoded data removed]",
      "text/plain": [
       "<Figure size 500x500 with 1 Axes>"
      ]
     },
     "metadata": {},
     "output_type": "display_data"
    }
   ],
   "source": [
    "sns.displot(df_img_weather, x=\"DEWP\")\n",
    "plt.xlim(0,100)"
   ]
  },
  {
   "cell_type": "code",
   "execution_count": 30,
   "id": "fd6742d2-18fc-4ca5-847e-74a2a513e8bf",
   "metadata": {
    "tags": []
   },
   "outputs": [],
   "source": [
    "def get_dewp_class(dewp):\n",
    "    if dewp==9999.9:\n",
    "        return 99\n",
    "    elif dewp>60:\n",
    "        return 0\n",
    "    elif 60>=dewp>45:\n",
    "        return 1\n",
    "    else:\n",
    "        return 2"
   ]
  },
  {
   "cell_type": "code",
   "execution_count": 31,
   "id": "53196d29-54db-4224-a9e6-ecdfc489e073",
   "metadata": {
    "tags": []
   },
   "outputs": [
    {
     "data": {
      "text/html": [
       "<div>\n",
       "<style scoped>\n",
       "    .dataframe tbody tr th:only-of-type {\n",
       "        vertical-align: middle;\n",
       "    }\n",
       "\n",
       "    .dataframe tbody tr th {\n",
       "        vertical-align: top;\n",
       "    }\n",
       "\n",
       "    .dataframe thead th {\n",
       "        text-align: right;\n",
       "    }\n",
       "</style>\n",
       "<table border=\"1\" class=\"dataframe\">\n",
       "  <thead>\n",
       "    <tr style=\"text-align: right;\">\n",
       "      <th></th>\n",
       "      <th>id</th>\n",
       "      <th>date</th>\n",
       "      <th>LAT</th>\n",
       "      <th>LON</th>\n",
       "      <th>STN</th>\n",
       "      <th>TEMP</th>\n",
       "      <th>DEWP</th>\n",
       "      <th>SLP</th>\n",
       "      <th>VISIB</th>\n",
       "      <th>WDSP</th>\n",
       "      <th>PRCP</th>\n",
       "      <th>SNDP</th>\n",
       "      <th>TEMP_class</th>\n",
       "      <th>WDSP_class</th>\n",
       "      <th>DEWP_class</th>\n",
       "    </tr>\n",
       "  </thead>\n",
       "  <tbody>\n",
       "    <tr>\n",
       "      <th>44</th>\n",
       "      <td>1469526786</td>\n",
       "      <td>2007-10-01</td>\n",
       "      <td>44</td>\n",
       "      <td>-80</td>\n",
       "      <td>712700</td>\n",
       "      <td>67.2</td>\n",
       "      <td>53.5</td>\n",
       "      <td>1021.9</td>\n",
       "      <td>999.9</td>\n",
       "      <td>6.3</td>\n",
       "      <td>0.0</td>\n",
       "      <td>999.9</td>\n",
       "      <td>1</td>\n",
       "      <td>1</td>\n",
       "      <td>1</td>\n",
       "    </tr>\n",
       "    <tr>\n",
       "      <th>883</th>\n",
       "      <td>1466394946</td>\n",
       "      <td>2007-10-01</td>\n",
       "      <td>51</td>\n",
       "      <td>-114</td>\n",
       "      <td>712350</td>\n",
       "      <td>49.1</td>\n",
       "      <td>27.2</td>\n",
       "      <td>9999.9</td>\n",
       "      <td>999.9</td>\n",
       "      <td>9.6</td>\n",
       "      <td>0.0</td>\n",
       "      <td>999.9</td>\n",
       "      <td>3</td>\n",
       "      <td>0</td>\n",
       "      <td>2</td>\n",
       "    </tr>\n",
       "    <tr>\n",
       "      <th>3188</th>\n",
       "      <td>1399637907</td>\n",
       "      <td>2007-09-15</td>\n",
       "      <td>48</td>\n",
       "      <td>-123</td>\n",
       "      <td>690230</td>\n",
       "      <td>56.2</td>\n",
       "      <td>49.6</td>\n",
       "      <td>1019.3</td>\n",
       "      <td>10.0</td>\n",
       "      <td>3.3</td>\n",
       "      <td>0.0</td>\n",
       "      <td>999.9</td>\n",
       "      <td>2</td>\n",
       "      <td>2</td>\n",
       "      <td>1</td>\n",
       "    </tr>\n",
       "  </tbody>\n",
       "</table>\n",
       "</div>"
      ],
      "text/plain": [
       "              id        date  LAT  LON     STN  TEMP  DEWP     SLP  VISIB  \\\n",
       "44    1469526786  2007-10-01   44  -80  712700  67.2  53.5  1021.9  999.9   \n",
       "883   1466394946  2007-10-01   51 -114  712350  49.1  27.2  9999.9  999.9   \n",
       "3188  1399637907  2007-09-15   48 -123  690230  56.2  49.6  1019.3   10.0   \n",
       "\n",
       "      WDSP  PRCP   SNDP  TEMP_class  WDSP_class  DEWP_class  \n",
       "44     6.3   0.0  999.9           1           1           1  \n",
       "883    9.6   0.0  999.9           3           0           2  \n",
       "3188   3.3   0.0  999.9           2           2           1  "
      ]
     },
     "execution_count": 31,
     "metadata": {},
     "output_type": "execute_result"
    }
   ],
   "source": [
    "df_img_weather['DEWP_class'] = df_img_weather['DEWP'].apply(get_dewp_class, meta=('DEWP_class','int64'))\n",
    "df_img_weather.head(3)"
   ]
  },
  {
   "cell_type": "code",
   "execution_count": 32,
   "id": "6a04a6d4-a94a-47fe-b235-1722f29f4b91",
   "metadata": {
    "tags": []
   },
   "outputs": [
    {
     "data": {
      "text/plain": [
       "(0.0, 5.0)"
      ]
     },
     "execution_count": 32,
     "metadata": {},
     "output_type": "execute_result"
    },
    {
     "data": {
      "image/png": "[encoded data removed]",
      "text/plain": [
       "<Figure size 500x500 with 1 Axes>"
      ]
     },
     "metadata": {},
     "output_type": "display_data"
    }
   ],
   "source": [
    "sns.displot(df_img_weather, x=\"DEWP_class\")\n",
    "plt.xlim(0,5)"
   ]
  },
  {
   "cell_type": "markdown",
   "id": "c6247342-28c9-419d-a368-5da0e5eab9d7",
   "metadata": {
    "tags": []
   },
   "source": [
    "### Visibility"
   ]
  },
  {
   "cell_type": "code",
   "execution_count": 33,
   "id": "7efcf7f1-6101-4dae-a27b-696b572d1d8d",
   "metadata": {
    "tags": []
   },
   "outputs": [
    {
     "data": {
      "text/plain": [
       "(0.0, 40.0)"
      ]
     },
     "execution_count": 33,
     "metadata": {},
     "output_type": "execute_result"
    },
    {
     "data": {
      "image/png": "[encoded data removed]",
      "text/plain": [
       "<Figure size 500x500 with 1 Axes>"
      ]
     },
     "metadata": {},
     "output_type": "display_data"
    }
   ],
   "source": [
    "sns.displot(df_img_weather, x=\"VISIB\")\n",
    "plt.xlim(0,40)"
   ]
  },
  {
   "cell_type": "code",
   "execution_count": 34,
   "id": "586148bd-edc8-4d69-ba95-d58fcdf939f5",
   "metadata": {
    "tags": []
   },
   "outputs": [],
   "source": [
    "def get_visib_class(visib):\n",
    "    if visib==999.9:\n",
    "        return 99\n",
    "    elif visib>8:\n",
    "        return 0\n",
    "    elif 8>=visib>6:\n",
    "        return 1\n",
    "    else:\n",
    "        return 2"
   ]
  },
  {
   "cell_type": "code",
   "execution_count": 35,
   "id": "ce7c648c-ff87-476d-938b-e6caeb386dd1",
   "metadata": {
    "tags": []
   },
   "outputs": [
    {
     "data": {
      "text/html": [
       "<div>\n",
       "<style scoped>\n",
       "    .dataframe tbody tr th:only-of-type {\n",
       "        vertical-align: middle;\n",
       "    }\n",
       "\n",
       "    .dataframe tbody tr th {\n",
       "        vertical-align: top;\n",
       "    }\n",
       "\n",
       "    .dataframe thead th {\n",
       "        text-align: right;\n",
       "    }\n",
       "</style>\n",
       "<table border=\"1\" class=\"dataframe\">\n",
       "  <thead>\n",
       "    <tr style=\"text-align: right;\">\n",
       "      <th></th>\n",
       "      <th>id</th>\n",
       "      <th>date</th>\n",
       "      <th>LAT</th>\n",
       "      <th>LON</th>\n",
       "      <th>STN</th>\n",
       "      <th>TEMP</th>\n",
       "      <th>DEWP</th>\n",
       "      <th>SLP</th>\n",
       "      <th>VISIB</th>\n",
       "      <th>WDSP</th>\n",
       "      <th>PRCP</th>\n",
       "      <th>SNDP</th>\n",
       "      <th>TEMP_class</th>\n",
       "      <th>WDSP_class</th>\n",
       "      <th>DEWP_class</th>\n",
       "      <th>VISIB_class</th>\n",
       "    </tr>\n",
       "  </thead>\n",
       "  <tbody>\n",
       "    <tr>\n",
       "      <th>44</th>\n",
       "      <td>1469526786</td>\n",
       "      <td>2007-10-01</td>\n",
       "      <td>44</td>\n",
       "      <td>-80</td>\n",
       "      <td>712700</td>\n",
       "      <td>67.2</td>\n",
       "      <td>53.5</td>\n",
       "      <td>1021.9</td>\n",
       "      <td>999.9</td>\n",
       "      <td>6.3</td>\n",
       "      <td>0.0</td>\n",
       "      <td>999.9</td>\n",
       "      <td>1</td>\n",
       "      <td>1</td>\n",
       "      <td>1</td>\n",
       "      <td>99</td>\n",
       "    </tr>\n",
       "    <tr>\n",
       "      <th>883</th>\n",
       "      <td>1466394946</td>\n",
       "      <td>2007-10-01</td>\n",
       "      <td>51</td>\n",
       "      <td>-114</td>\n",
       "      <td>712350</td>\n",
       "      <td>49.1</td>\n",
       "      <td>27.2</td>\n",
       "      <td>9999.9</td>\n",
       "      <td>999.9</td>\n",
       "      <td>9.6</td>\n",
       "      <td>0.0</td>\n",
       "      <td>999.9</td>\n",
       "      <td>3</td>\n",
       "      <td>0</td>\n",
       "      <td>2</td>\n",
       "      <td>99</td>\n",
       "    </tr>\n",
       "    <tr>\n",
       "      <th>3188</th>\n",
       "      <td>1399637907</td>\n",
       "      <td>2007-09-15</td>\n",
       "      <td>48</td>\n",
       "      <td>-123</td>\n",
       "      <td>690230</td>\n",
       "      <td>56.2</td>\n",
       "      <td>49.6</td>\n",
       "      <td>1019.3</td>\n",
       "      <td>10.0</td>\n",
       "      <td>3.3</td>\n",
       "      <td>0.0</td>\n",
       "      <td>999.9</td>\n",
       "      <td>2</td>\n",
       "      <td>2</td>\n",
       "      <td>1</td>\n",
       "      <td>0</td>\n",
       "    </tr>\n",
       "  </tbody>\n",
       "</table>\n",
       "</div>"
      ],
      "text/plain": [
       "              id        date  LAT  LON     STN  TEMP  DEWP     SLP  VISIB  \\\n",
       "44    1469526786  2007-10-01   44  -80  712700  67.2  53.5  1021.9  999.9   \n",
       "883   1466394946  2007-10-01   51 -114  712350  49.1  27.2  9999.9  999.9   \n",
       "3188  1399637907  2007-09-15   48 -123  690230  56.2  49.6  1019.3   10.0   \n",
       "\n",
       "      WDSP  PRCP   SNDP  TEMP_class  WDSP_class  DEWP_class  VISIB_class  \n",
       "44     6.3   0.0  999.9           1           1           1           99  \n",
       "883    9.6   0.0  999.9           3           0           2           99  \n",
       "3188   3.3   0.0  999.9           2           2           1            0  "
      ]
     },
     "execution_count": 35,
     "metadata": {},
     "output_type": "execute_result"
    }
   ],
   "source": [
    "df_img_weather['VISIB_class'] = df_img_weather['VISIB'].apply(get_visib_class, meta=('VISIB_class','int64'))\n",
    "df_img_weather.head(3)"
   ]
  },
  {
   "cell_type": "code",
   "execution_count": 36,
   "id": "6756f597-5f6d-4808-a399-0571afae72d9",
   "metadata": {
    "tags": []
   },
   "outputs": [
    {
     "data": {
      "text/plain": [
       "(0.0, 5.0)"
      ]
     },
     "execution_count": 36,
     "metadata": {},
     "output_type": "execute_result"
    },
    {
     "data": {
      "image/png": "[encoded data removed]",
      "text/plain": [
       "<Figure size 500x500 with 1 Axes>"
      ]
     },
     "metadata": {},
     "output_type": "display_data"
    }
   ],
   "source": [
    "sns.displot(df_img_weather, x=\"VISIB_class\")\n",
    "plt.xlim(0,5)"
   ]
  },
  {
   "cell_type": "markdown",
   "id": "cd7bfb49-c041-4f58-8de3-f61d300d3eea",
   "metadata": {
    "tags": []
   },
   "source": [
    "### Prepare Images"
   ]
  },
  {
   "cell_type": "code",
   "execution_count": 37,
   "id": "17a52304-adb4-40d0-8d37-6f091d41c593",
   "metadata": {
    "tags": []
   },
   "outputs": [
    {
     "data": {
      "text/html": [
       "<div>\n",
       "<style scoped>\n",
       "    .dataframe tbody tr th:only-of-type {\n",
       "        vertical-align: middle;\n",
       "    }\n",
       "\n",
       "    .dataframe tbody tr th {\n",
       "        vertical-align: top;\n",
       "    }\n",
       "\n",
       "    .dataframe thead th {\n",
       "        text-align: right;\n",
       "    }\n",
       "</style>\n",
       "<table border=\"1\" class=\"dataframe\">\n",
       "  <thead>\n",
       "    <tr style=\"text-align: right;\">\n",
       "      <th></th>\n",
       "      <th>id</th>\n",
       "      <th>date</th>\n",
       "      <th>LAT</th>\n",
       "      <th>LON</th>\n",
       "      <th>STN</th>\n",
       "      <th>TEMP</th>\n",
       "      <th>DEWP</th>\n",
       "      <th>SLP</th>\n",
       "      <th>VISIB</th>\n",
       "      <th>WDSP</th>\n",
       "      <th>PRCP</th>\n",
       "      <th>SNDP</th>\n",
       "      <th>TEMP_class</th>\n",
       "      <th>WDSP_class</th>\n",
       "      <th>DEWP_class</th>\n",
       "      <th>VISIB_class</th>\n",
       "    </tr>\n",
       "  </thead>\n",
       "  <tbody>\n",
       "    <tr>\n",
       "      <th>44</th>\n",
       "      <td>1469526786</td>\n",
       "      <td>2007-10-01</td>\n",
       "      <td>44</td>\n",
       "      <td>-80</td>\n",
       "      <td>712700</td>\n",
       "      <td>67.2</td>\n",
       "      <td>53.5</td>\n",
       "      <td>1021.9</td>\n",
       "      <td>999.9</td>\n",
       "      <td>6.3</td>\n",
       "      <td>0.0</td>\n",
       "      <td>999.9</td>\n",
       "      <td>1</td>\n",
       "      <td>1</td>\n",
       "      <td>1</td>\n",
       "      <td>99</td>\n",
       "    </tr>\n",
       "    <tr>\n",
       "      <th>883</th>\n",
       "      <td>1466394946</td>\n",
       "      <td>2007-10-01</td>\n",
       "      <td>51</td>\n",
       "      <td>-114</td>\n",
       "      <td>712350</td>\n",
       "      <td>49.1</td>\n",
       "      <td>27.2</td>\n",
       "      <td>9999.9</td>\n",
       "      <td>999.9</td>\n",
       "      <td>9.6</td>\n",
       "      <td>0.0</td>\n",
       "      <td>999.9</td>\n",
       "      <td>3</td>\n",
       "      <td>0</td>\n",
       "      <td>2</td>\n",
       "      <td>99</td>\n",
       "    </tr>\n",
       "    <tr>\n",
       "      <th>3188</th>\n",
       "      <td>1399637907</td>\n",
       "      <td>2007-09-15</td>\n",
       "      <td>48</td>\n",
       "      <td>-123</td>\n",
       "      <td>690230</td>\n",
       "      <td>56.2</td>\n",
       "      <td>49.6</td>\n",
       "      <td>1019.3</td>\n",
       "      <td>10.0</td>\n",
       "      <td>3.3</td>\n",
       "      <td>0.0</td>\n",
       "      <td>999.9</td>\n",
       "      <td>2</td>\n",
       "      <td>2</td>\n",
       "      <td>1</td>\n",
       "      <td>0</td>\n",
       "    </tr>\n",
       "  </tbody>\n",
       "</table>\n",
       "</div>"
      ],
      "text/plain": [
       "              id        date  LAT  LON     STN  TEMP  DEWP     SLP  VISIB  \\\n",
       "44    1469526786  2007-10-01   44  -80  712700  67.2  53.5  1021.9  999.9   \n",
       "883   1466394946  2007-10-01   51 -114  712350  49.1  27.2  9999.9  999.9   \n",
       "3188  1399637907  2007-09-15   48 -123  690230  56.2  49.6  1019.3   10.0   \n",
       "\n",
       "      WDSP  PRCP   SNDP  TEMP_class  WDSP_class  DEWP_class  VISIB_class  \n",
       "44     6.3   0.0  999.9           1           1           1           99  \n",
       "883    9.6   0.0  999.9           3           0           2           99  \n",
       "3188   3.3   0.0  999.9           2           2           1            0  "
      ]
     },
     "execution_count": 37,
     "metadata": {},
     "output_type": "execute_result"
    }
   ],
   "source": [
    "df_img_weather.head(3)"
   ]
  },
  {
   "cell_type": "code",
   "execution_count": 4,
   "id": "a8fde5f9-8afb-4630-bf24-ea5f0cd8fe9d",
   "metadata": {
    "tags": []
   },
   "outputs": [],
   "source": [
    "# Declare class groups and labels\n",
    "class_groups = ['TEMP_class','WDSP_class', 'DEWP_class', 'VISIB_class']\n",
    "class_groups_labels = [\n",
    "    [0,1,2,3],\n",
    "    [0,1,2],\n",
    "    [0,1,2],\n",
    "    [0,1,2]\n",
    "]         "
   ]
  },
  {
   "cell_type": "code",
   "execution_count": 44,
   "id": "44985978-a5c5-4830-83b0-4e857fe03828",
   "metadata": {
    "tags": []
   },
   "outputs": [],
   "source": [
    "# Create Empty directory for training and test images\n",
    "if not os.path.isdir(f\"../../../data/training\"):\n",
    "    os.mkdir(f\"../../../data/training\")\n",
    "if not os.path.isdir(f\"../../../data/test\"):\n",
    "    os.mkdir(f\"../../../data/test\")\n",
    "    \n",
    "for class_group, class_group_labels  in zip(class_groups, class_groups_labels):\n",
    "    if not os.path.isdir(f\"../../../data/training/{class_group}\"): \n",
    "        os.mkdir(f\"../../../data/training/{class_group}\")\n",
    "    if not os.path.isdir(f\"../../../data/test/{class_group}\"): \n",
    "        os.mkdir(f\"../../../data/test/{class_group}\")        \n",
    "    \n",
    "    for label in class_group_labels:\n",
    "        if not os.path.isdir(f\"../../../data/training/{class_group}/{label}\"): \n",
    "            os.mkdir(f\"../../../data/training/{class_group}/{label}\")\n",
    "        if not os.path.isdir(f\"../../../data/test/{class_group}/{label}\"): \n",
    "            os.mkdir(f\"../../../data/test/{class_group}/{label}\")  "
   ]
  },
  {
   "cell_type": "code",
   "execution_count": 45,
   "id": "a68d8ff5-048d-4b31-9588-58add050f79c",
   "metadata": {
    "tags": []
   },
   "outputs": [],
   "source": [
    "COPIED_FILES = []\n",
    "SKIPPED_FILES = []\n",
    "def copy_image_to_training(img_id, class_group, label):\n",
    "    if label==99:\n",
    "        return\n",
    "    if os.path.isfile(f\"../../../data/download/1/{img_id}.jpg\"):\n",
    "        shutil.copy(f\"../../../data/download/1/{img_id}.jpg\", f\"../../../data/training/{class_group}/{label}/{img_id}.jpg\")\n",
    "        COPIED_FILES.append(f\"../../../data/download/1/{img_id}.jpg\")\n",
    "    else:\n",
    "        SKIPPED_FILES.append(f\"../../../data/download/1/{img_id}.jpg\")\n",
    "        "
   ]
  },
  {
   "cell_type": "code",
   "execution_count": 46,
   "id": "b7dc989e-793b-4330-97ae-0c2dcebc547f",
   "metadata": {
    "tags": []
   },
   "outputs": [
    {
     "name": "stdout",
     "output_type": "stream",
     "text": [
      "110055 92955\n"
     ]
    }
   ],
   "source": [
    "COPIED_FILES = []\n",
    "SKIPPED_FILES = []\n",
    "_ = df_img_weather.apply(lambda x: copy_image_to_training(x['id'], 'TEMP_class', x['TEMP_class']), axis=1, meta=(None, 'object')).compute()\n",
    "print(len(COPIED_FILES), len(SKIPPED_FILES))"
   ]
  },
  {
   "cell_type": "code",
   "execution_count": 47,
   "id": "104d848b-a362-4a3d-bf85-1f38e04760d7",
   "metadata": {
    "tags": []
   },
   "outputs": [
    {
     "name": "stdout",
     "output_type": "stream",
     "text": [
      "108293 91620\n"
     ]
    }
   ],
   "source": [
    "COPIED_FILES = []\n",
    "SKIPPED_FILES = []\n",
    "_ = df_img_weather.apply(lambda x: copy_image_to_training(x['id'], 'WDSP_class', x['WDSP_class']), axis=1, meta=(None, 'object')).compute()\n",
    "print(len(COPIED_FILES), len(SKIPPED_FILES))"
   ]
  },
  {
   "cell_type": "code",
   "execution_count": 48,
   "id": "1481d8d7-4ebe-432e-b343-27168c581855",
   "metadata": {
    "tags": []
   },
   "outputs": [
    {
     "name": "stdout",
     "output_type": "stream",
     "text": [
      "108867 91750\n"
     ]
    }
   ],
   "source": [
    "COPIED_FILES = []\n",
    "SKIPPED_FILES = []\n",
    "_ = df_img_weather.apply(lambda x: copy_image_to_training(x['id'], 'DEWP_class', x['DEWP_class']), axis=1, meta=(None, 'object')).compute()\n",
    "print(len(COPIED_FILES), len(SKIPPED_FILES))"
   ]
  },
  {
   "cell_type": "code",
   "execution_count": 49,
   "id": "2394556b-a881-469b-903d-1aa1fb2ad2b2",
   "metadata": {
    "tags": []
   },
   "outputs": [
    {
     "name": "stdout",
     "output_type": "stream",
     "text": [
      "97640 82781\n"
     ]
    }
   ],
   "source": [
    "COPIED_FILES = []\n",
    "SKIPPED_FILES = []\n",
    "_ = df_img_weather.apply(lambda x: copy_image_to_training(x['id'], 'VISIB_class', x['VISIB_class']), axis=1, meta=(None, 'object')).compute()\n",
    "print(len(COPIED_FILES), len(SKIPPED_FILES))"
   ]
  },
  {
   "cell_type": "code",
   "execution_count": 50,
   "id": "ae8e582e-eab9-460e-964d-1f001379a0a5",
   "metadata": {
    "tags": []
   },
   "outputs": [
    {
     "name": "stderr",
     "output_type": "stream",
     "text": [
      "IOPub data rate exceeded.\n",
      "The Jupyter server will temporarily stop sending output\n",
      "to the client in order to avoid crashing it.\n",
      "To change this limit, set the config variable\n",
      "`--ServerApp.iopub_data_rate_limit`.\n",
      "\n",
      "Current values:\n",
      "ServerApp.iopub_data_rate_limit=1000000.0 (bytes/sec)\n",
      "ServerApp.rate_limit_window=3.0 (secs)\n",
      "\n"
     ]
    }
   ],
   "source": [
    "print(SKIPPED_FILES)"
   ]
  },
  {
   "cell_type": "code",
   "execution_count": null,
   "id": "4087dba3-9082-40b4-8532-f1b2f2f79926",
   "metadata": {},
   "outputs": [],
   "source": []
  },
  {
   "cell_type": "code",
   "execution_count": null,
   "id": "8d155064-f255-40b8-9128-c0f8e99eb5e5",
   "metadata": {
    "tags": []
   },
   "outputs": [],
   "source": []
  },
  {
   "cell_type": "code",
   "execution_count": 51,
   "id": "226ffcee-df97-4398-b01f-0659b0928650",
   "metadata": {
    "tags": []
   },
   "outputs": [
    {
     "name": "stdout",
     "output_type": "stream",
     "text": [
      "Copying TEMP_class/0\n"
     ]
    },
    {
     "data": {
      "application/vnd.jupyter.widget-view+json": {
       "model_id": "3d08cf387f6641b683306e44aa53d5d6",
       "version_major": 2,
       "version_minor": 0
      },
      "text/plain": [
       "  0%|          | 0/1983 [00:00<?, ?it/s]"
      ]
     },
     "metadata": {},
     "output_type": "display_data"
    },
    {
     "name": "stdout",
     "output_type": "stream",
     "text": [
      "Copying TEMP_class/1\n"
     ]
    },
    {
     "data": {
      "application/vnd.jupyter.widget-view+json": {
       "model_id": "0c56266966944dbd80607516230623c3",
       "version_major": 2,
       "version_minor": 0
      },
      "text/plain": [
       "  0%|          | 0/2384 [00:00<?, ?it/s]"
      ]
     },
     "metadata": {},
     "output_type": "display_data"
    },
    {
     "name": "stdout",
     "output_type": "stream",
     "text": [
      "Copying TEMP_class/2\n"
     ]
    },
    {
     "data": {
      "application/vnd.jupyter.widget-view+json": {
       "model_id": "80f313c5a4d244358d6e2f7010142701",
       "version_major": 2,
       "version_minor": 0
      },
      "text/plain": [
       "  0%|          | 0/4686 [00:00<?, ?it/s]"
      ]
     },
     "metadata": {},
     "output_type": "display_data"
    },
    {
     "name": "stdout",
     "output_type": "stream",
     "text": [
      "Copying TEMP_class/3\n"
     ]
    },
    {
     "data": {
      "application/vnd.jupyter.widget-view+json": {
       "model_id": "64a3f6478f5647f18644127cdf2345be",
       "version_major": 2,
       "version_minor": 0
      },
      "text/plain": [
       "  0%|          | 0/1951 [00:00<?, ?it/s]"
      ]
     },
     "metadata": {},
     "output_type": "display_data"
    },
    {
     "name": "stdout",
     "output_type": "stream",
     "text": [
      "Copying WDSP_class/0\n"
     ]
    },
    {
     "data": {
      "application/vnd.jupyter.widget-view+json": {
       "model_id": "7944180b4ac642119d5f2d83e5fc3528",
       "version_major": 2,
       "version_minor": 0
      },
      "text/plain": [
       "  0%|          | 0/2466 [00:00<?, ?it/s]"
      ]
     },
     "metadata": {},
     "output_type": "display_data"
    },
    {
     "name": "stdout",
     "output_type": "stream",
     "text": [
      "Copying WDSP_class/1\n"
     ]
    },
    {
     "data": {
      "application/vnd.jupyter.widget-view+json": {
       "model_id": "f261d5ff8b0941a6b3ab2312c799c8d1",
       "version_major": 2,
       "version_minor": 0
      },
      "text/plain": [
       "  0%|          | 0/5114 [00:00<?, ?it/s]"
      ]
     },
     "metadata": {},
     "output_type": "display_data"
    },
    {
     "name": "stdout",
     "output_type": "stream",
     "text": [
      "Copying WDSP_class/2\n"
     ]
    },
    {
     "data": {
      "application/vnd.jupyter.widget-view+json": {
       "model_id": "89cd76536d474bbb8d0271281e4a09c5",
       "version_major": 2,
       "version_minor": 0
      },
      "text/plain": [
       "  0%|          | 0/3249 [00:00<?, ?it/s]"
      ]
     },
     "metadata": {},
     "output_type": "display_data"
    },
    {
     "name": "stdout",
     "output_type": "stream",
     "text": [
      "Copying DEWP_class/0\n"
     ]
    },
    {
     "data": {
      "application/vnd.jupyter.widget-view+json": {
       "model_id": "3c9d466de2994c338b362872e2df8d7e",
       "version_major": 2,
       "version_minor": 0
      },
      "text/plain": [
       "  0%|          | 0/2375 [00:00<?, ?it/s]"
      ]
     },
     "metadata": {},
     "output_type": "display_data"
    },
    {
     "name": "stdout",
     "output_type": "stream",
     "text": [
      "Copying DEWP_class/1\n"
     ]
    },
    {
     "data": {
      "application/vnd.jupyter.widget-view+json": {
       "model_id": "d2fd8c8d33fe4d379ac6ab6c1b3a27bd",
       "version_major": 2,
       "version_minor": 0
      },
      "text/plain": [
       "  0%|          | 0/4789 [00:00<?, ?it/s]"
      ]
     },
     "metadata": {},
     "output_type": "display_data"
    },
    {
     "name": "stdout",
     "output_type": "stream",
     "text": [
      "Copying DEWP_class/2\n"
     ]
    },
    {
     "data": {
      "application/vnd.jupyter.widget-view+json": {
       "model_id": "c4b063a85fd842aea2dbfe233a244d79",
       "version_major": 2,
       "version_minor": 0
      },
      "text/plain": [
       "  0%|          | 0/3722 [00:00<?, ?it/s]"
      ]
     },
     "metadata": {},
     "output_type": "display_data"
    },
    {
     "name": "stdout",
     "output_type": "stream",
     "text": [
      "Copying VISIB_class/0\n"
     ]
    },
    {
     "data": {
      "application/vnd.jupyter.widget-view+json": {
       "model_id": "ffa7a002af6248caad117bc7fae45c1e",
       "version_major": 2,
       "version_minor": 0
      },
      "text/plain": [
       "  0%|          | 0/5299 [00:00<?, ?it/s]"
      ]
     },
     "metadata": {},
     "output_type": "display_data"
    },
    {
     "name": "stdout",
     "output_type": "stream",
     "text": [
      "Copying VISIB_class/1\n"
     ]
    },
    {
     "data": {
      "application/vnd.jupyter.widget-view+json": {
       "model_id": "95b488dadd574086b17481646bf9bf33",
       "version_major": 2,
       "version_minor": 0
      },
      "text/plain": [
       "  0%|          | 0/3154 [00:00<?, ?it/s]"
      ]
     },
     "metadata": {},
     "output_type": "display_data"
    },
    {
     "name": "stdout",
     "output_type": "stream",
     "text": [
      "Copying VISIB_class/2\n"
     ]
    },
    {
     "data": {
      "application/vnd.jupyter.widget-view+json": {
       "model_id": "6ec061a527d24a7ba8241f8cee97b40d",
       "version_major": 2,
       "version_minor": 0
      },
      "text/plain": [
       "  0%|          | 0/1310 [00:00<?, ?it/s]"
      ]
     },
     "metadata": {},
     "output_type": "display_data"
    }
   ],
   "source": [
    "#Move 10% images for testing\n",
    "for class_group, class_group_labels  in zip(class_groups, class_groups_labels):\n",
    "    for label in class_group_labels:\n",
    "        print(f\"Copying {class_group}/{label}\")\n",
    "        files = [f for f in os.listdir(f\"../../../data/training/{class_group}/{label}\") if os.path.isfile(os.path.join(f\"../../../data/training/{class_group}/{label}\", f))]\n",
    "        val_size = len(files)//(100//10)\n",
    "        val_files = random.sample(files, val_size)\n",
    "        for file in tqdm(val_files):\n",
    "            shutil.move(f\"../../../data/training/{class_group}/{label}/{file}\", f\"../../../data/test/{class_group}/{label}/{file}\")\n",
    "        \n"
   ]
  },
  {
   "cell_type": "code",
   "execution_count": 5,
   "id": "694f3ba5-aa37-4abe-9e94-97b6f65bd22a",
   "metadata": {
    "tags": []
   },
   "outputs": [
    {
     "name": "stdout",
     "output_type": "stream",
     "text": [
      "Copying TEMP_class/0\n"
     ]
    },
    {
     "data": {
      "application/vnd.jupyter.widget-view+json": {
       "model_id": "f0d9b676096849fcbe8e7b9fdb1e327f",
       "version_major": 2,
       "version_minor": 0
      },
      "text/plain": [
       "  0%|          | 0/10 [00:00<?, ?it/s]"
      ]
     },
     "metadata": {},
     "output_type": "display_data"
    },
    {
     "name": "stdout",
     "output_type": "stream",
     "text": [
      "Copying TEMP_class/1\n"
     ]
    },
    {
     "data": {
      "application/vnd.jupyter.widget-view+json": {
       "model_id": "58c7416f65414f479cd961ced60c51fd",
       "version_major": 2,
       "version_minor": 0
      },
      "text/plain": [
       "  0%|          | 0/10 [00:00<?, ?it/s]"
      ]
     },
     "metadata": {},
     "output_type": "display_data"
    },
    {
     "name": "stdout",
     "output_type": "stream",
     "text": [
      "Copying TEMP_class/2\n"
     ]
    },
    {
     "data": {
      "application/vnd.jupyter.widget-view+json": {
       "model_id": "c7806cf3b71d4e8ca1db4f3d92392481",
       "version_major": 2,
       "version_minor": 0
      },
      "text/plain": [
       "  0%|          | 0/10 [00:00<?, ?it/s]"
      ]
     },
     "metadata": {},
     "output_type": "display_data"
    },
    {
     "name": "stdout",
     "output_type": "stream",
     "text": [
      "Copying TEMP_class/3\n"
     ]
    },
    {
     "data": {
      "application/vnd.jupyter.widget-view+json": {
       "model_id": "cca5d41c6dd349518b99581a0ffc8e01",
       "version_major": 2,
       "version_minor": 0
      },
      "text/plain": [
       "  0%|          | 0/10 [00:00<?, ?it/s]"
      ]
     },
     "metadata": {},
     "output_type": "display_data"
    },
    {
     "name": "stdout",
     "output_type": "stream",
     "text": [
      "Copying WDSP_class/0\n"
     ]
    },
    {
     "data": {
      "application/vnd.jupyter.widget-view+json": {
       "model_id": "2a2011699eea42fe974f08e6c6004550",
       "version_major": 2,
       "version_minor": 0
      },
      "text/plain": [
       "  0%|          | 0/10 [00:00<?, ?it/s]"
      ]
     },
     "metadata": {},
     "output_type": "display_data"
    },
    {
     "name": "stdout",
     "output_type": "stream",
     "text": [
      "Copying WDSP_class/1\n"
     ]
    },
    {
     "data": {
      "application/vnd.jupyter.widget-view+json": {
       "model_id": "3ce005243e86438b9144a3abfc6fab79",
       "version_major": 2,
       "version_minor": 0
      },
      "text/plain": [
       "  0%|          | 0/10 [00:00<?, ?it/s]"
      ]
     },
     "metadata": {},
     "output_type": "display_data"
    },
    {
     "name": "stdout",
     "output_type": "stream",
     "text": [
      "Copying WDSP_class/2\n"
     ]
    },
    {
     "data": {
      "application/vnd.jupyter.widget-view+json": {
       "model_id": "cd2a3937bc2141658e3ddcaec0068341",
       "version_major": 2,
       "version_minor": 0
      },
      "text/plain": [
       "  0%|          | 0/10 [00:00<?, ?it/s]"
      ]
     },
     "metadata": {},
     "output_type": "display_data"
    },
    {
     "name": "stdout",
     "output_type": "stream",
     "text": [
      "Copying DEWP_class/0\n"
     ]
    },
    {
     "data": {
      "application/vnd.jupyter.widget-view+json": {
       "model_id": "a89d408cdda9431b8ad52442a3093055",
       "version_major": 2,
       "version_minor": 0
      },
      "text/plain": [
       "  0%|          | 0/10 [00:00<?, ?it/s]"
      ]
     },
     "metadata": {},
     "output_type": "display_data"
    },
    {
     "name": "stdout",
     "output_type": "stream",
     "text": [
      "Copying DEWP_class/1\n"
     ]
    },
    {
     "data": {
      "application/vnd.jupyter.widget-view+json": {
       "model_id": "0f8dad082f8642b0aec6e7d1ae9c2924",
       "version_major": 2,
       "version_minor": 0
      },
      "text/plain": [
       "  0%|          | 0/10 [00:00<?, ?it/s]"
      ]
     },
     "metadata": {},
     "output_type": "display_data"
    },
    {
     "name": "stdout",
     "output_type": "stream",
     "text": [
      "Copying DEWP_class/2\n"
     ]
    },
    {
     "data": {
      "application/vnd.jupyter.widget-view+json": {
       "model_id": "e8f9e1c999664d33ba129f9819da1438",
       "version_major": 2,
       "version_minor": 0
      },
      "text/plain": [
       "  0%|          | 0/10 [00:00<?, ?it/s]"
      ]
     },
     "metadata": {},
     "output_type": "display_data"
    },
    {
     "name": "stdout",
     "output_type": "stream",
     "text": [
      "Copying VISIB_class/0\n"
     ]
    },
    {
     "data": {
      "application/vnd.jupyter.widget-view+json": {
       "model_id": "8e5bbbc67d40444b96b11047d534883c",
       "version_major": 2,
       "version_minor": 0
      },
      "text/plain": [
       "  0%|          | 0/10 [00:00<?, ?it/s]"
      ]
     },
     "metadata": {},
     "output_type": "display_data"
    },
    {
     "name": "stdout",
     "output_type": "stream",
     "text": [
      "Copying VISIB_class/1\n"
     ]
    },
    {
     "data": {
      "application/vnd.jupyter.widget-view+json": {
       "model_id": "94de845f21094f8db51cc76b59b1d274",
       "version_major": 2,
       "version_minor": 0
      },
      "text/plain": [
       "  0%|          | 0/10 [00:00<?, ?it/s]"
      ]
     },
     "metadata": {},
     "output_type": "display_data"
    },
    {
     "name": "stdout",
     "output_type": "stream",
     "text": [
      "Copying VISIB_class/2\n"
     ]
    },
    {
     "data": {
      "application/vnd.jupyter.widget-view+json": {
       "model_id": "5142a42a2c8144b4b379aaae4277bb84",
       "version_major": 2,
       "version_minor": 0
      },
      "text/plain": [
       "  0%|          | 0/10 [00:00<?, ?it/s]"
      ]
     },
     "metadata": {},
     "output_type": "display_data"
    }
   ],
   "source": [
    "#Copy 10 images from each class to final validation\n",
    "for class_group, class_group_labels  in zip(class_groups, class_groups_labels):\n",
    "    for label in class_group_labels:\n",
    "        print(f\"Copying {class_group}/{label}\")\n",
    "        files = os.listdir(f\"../../../data/test/{class_group}/{label}\")\n",
    "        val_size = 10\n",
    "        val_files = random.sample(files, val_size)\n",
    "        for file in tqdm(val_files):\n",
    "            shutil.copy(f\"../../../data/test/{class_group}/{label}/{file}\", f\"../../../data/final_test/all/{file}\")\n",
    "        \n"
   ]
  },
  {
   "cell_type": "code",
   "execution_count": null,
   "id": "8bc01937-37fe-4bf9-832c-0d12238ef802",
   "metadata": {},
   "outputs": [],
   "source": []
  },
  {
   "cell_type": "code",
   "execution_count": 6,
   "id": "59723bef-e4e3-483d-ac97-e8d6f21c2495",
   "metadata": {},
   "outputs": [
    {
     "name": "stdout",
     "output_type": "stream",
     "text": [
      "{'TEMP_class': {0: 17848, 1: 21458, 2: 42177, 3: 17568}, 'WDSP_class': {0: 22194, 1: 46026, 2: 29244}, 'DEWP_class': {0: 21382, 1: 43101, 2: 33498}, 'VISIB_class': {0: 47693, 1: 28392, 2: 11792}} {'TEMP_class': 42177, 'WDSP_class': 46026, 'DEWP_class': 43101, 'VISIB_class': 47693}\n"
     ]
    },
    {
     "data": {
      "application/vnd.jupyter.widget-view+json": {
       "model_id": "1e478fafee784c0a825253373d276d3f",
       "version_major": 2,
       "version_minor": 0
      },
      "text/plain": [
       "Augmenting class 0 images:   0%|          | 0/24329 [00:00<?, ?it/s]"
      ]
     },
     "metadata": {},
     "output_type": "display_data"
    },
    {
     "data": {
      "application/vnd.jupyter.widget-view+json": {
       "model_id": "f2f08a7a99634104b5e80b3360133ce6",
       "version_major": 2,
       "version_minor": 0
      },
      "text/plain": [
       "Augmenting class 1 images:   0%|          | 0/20719 [00:00<?, ?it/s]"
      ]
     },
     "metadata": {},
     "output_type": "display_data"
    },
    {
     "data": {
      "application/vnd.jupyter.widget-view+json": {
       "model_id": "f7df18a2e6e64eb8ae9da9b1d40b212e",
       "version_major": 2,
       "version_minor": 0
      },
      "text/plain": [
       "Augmenting class 3 images:   0%|          | 0/24609 [00:00<?, ?it/s]"
      ]
     },
     "metadata": {},
     "output_type": "display_data"
    },
    {
     "data": {
      "application/vnd.jupyter.widget-view+json": {
       "model_id": "705f399f5541406c91c85429587bef6f",
       "version_major": 2,
       "version_minor": 0
      },
      "text/plain": [
       "Augmenting class 0 images:   0%|          | 0/23832 [00:00<?, ?it/s]"
      ]
     },
     "metadata": {},
     "output_type": "display_data"
    },
    {
     "data": {
      "application/vnd.jupyter.widget-view+json": {
       "model_id": "40ae6365145d4b25857db4a2748d0acd",
       "version_major": 2,
       "version_minor": 0
      },
      "text/plain": [
       "Augmenting class 2 images:   0%|          | 0/16782 [00:00<?, ?it/s]"
      ]
     },
     "metadata": {},
     "output_type": "display_data"
    },
    {
     "data": {
      "application/vnd.jupyter.widget-view+json": {
       "model_id": "81fe98523d53497d996ab0ecfe6a4aac",
       "version_major": 2,
       "version_minor": 0
      },
      "text/plain": [
       "Augmenting class 0 images:   0%|          | 0/21719 [00:00<?, ?it/s]"
      ]
     },
     "metadata": {},
     "output_type": "display_data"
    },
    {
     "data": {
      "application/vnd.jupyter.widget-view+json": {
       "model_id": "b0e5e78d0d4f47b8ad2de09763dafa8b",
       "version_major": 2,
       "version_minor": 0
      },
      "text/plain": [
       "Augmenting class 2 images:   0%|          | 0/9603 [00:00<?, ?it/s]"
      ]
     },
     "metadata": {},
     "output_type": "display_data"
    },
    {
     "data": {
      "application/vnd.jupyter.widget-view+json": {
       "model_id": "cfe1c8962d4b4fd68779b2645ae362c3",
       "version_major": 2,
       "version_minor": 0
      },
      "text/plain": [
       "Augmenting class 1 images:   0%|          | 0/19301 [00:00<?, ?it/s]"
      ]
     },
     "metadata": {},
     "output_type": "display_data"
    },
    {
     "data": {
      "application/vnd.jupyter.widget-view+json": {
       "model_id": "7998a9fb6dc843089685f6a9c82a061a",
       "version_major": 2,
       "version_minor": 0
      },
      "text/plain": [
       "Augmenting class 2 images:   0%|          | 0/35901 [00:00<?, ?it/s]"
      ]
     },
     "metadata": {},
     "output_type": "display_data"
    }
   ],
   "source": [
    "from PIL import Image\n",
    "from torchvision.io import read_image\n",
    "from torchvision.utils import save_image\n",
    "import torchvision.transforms as transforms\n",
    "\n",
    "augment = transforms.TrivialAugmentWide()\n",
    "\n",
    "def get_files_count(path):\n",
    "    return len(os.listdir(path))\n",
    "\n",
    "def get_counts():\n",
    "    sets = {}\n",
    "    maxes = {}\n",
    "\n",
    "    for class_group, class_group_labels  in zip(class_groups, class_groups_labels):\n",
    "        sets[class_group] = {}\n",
    "        for label in class_group_labels:\n",
    "            sets[class_group][label]  = get_files_count(f\"../../../data/training/{class_group}/{label}\")\n",
    "        maxes[class_group] = np.max(list(sets[class_group].values()))\n",
    "    return sets,maxes\n",
    "\n",
    "def get_dir(group,cls):\n",
    "    return os.path.join(TRAIN_DIR if group == 'train' else VAL_DIR,cls)\n",
    "\n",
    "sets,maxes = get_counts()\n",
    "print(sets,maxes)\n",
    "\n",
    "for class_group, class_group_labels  in zip(class_groups, class_groups_labels):\n",
    "    for label in class_group_labels:\n",
    "        img_count = sets[class_group][label]\n",
    "        img_max = maxes[class_group]\n",
    "        \n",
    "        if img_count != img_max:\n",
    "            img_dir = f\"../../../data/training/{class_group}/{label}\"\n",
    "            listing = os.listdir(img_dir)\n",
    "            #Check for _ char in filename - we don't want to re-augment our augmented images\n",
    "            listing = [file for file in listing if \"_\" not in file]\n",
    "            for count in tqdm(range(img_count,img_max),desc=f\"Augmenting class {label} images\"):        \n",
    "                path = os.path.join(img_dir,random.choice(listing))\n",
    "                image = read_image(path).cuda()\n",
    "                #Augment expects a ByteTensor but saving requires a 0-1-scaled FloatTensor, so convert via division\n",
    "                image_out = augment(image)/255\n",
    "                save_image(image_out,path.replace(\".jpg\",f\"_{count}.jpg\"))"
   ]
  },
  {
   "cell_type": "code",
   "execution_count": 7,
   "id": "5e56d8ac-454d-4d7a-89f5-f2389bdc7408",
   "metadata": {
    "tags": []
   },
   "outputs": [
    {
     "data": {
      "text/plain": [
       "({'TEMP_class': {0: 42177, 1: 42177, 2: 42177, 3: 42177},\n",
       "  'WDSP_class': {0: 46026, 1: 46026, 2: 46026},\n",
       "  'DEWP_class': {0: 43101, 1: 43101, 2: 43101},\n",
       "  'VISIB_class': {0: 47693, 1: 47693, 2: 47693}},\n",
       " {'TEMP_class': 42177,\n",
       "  'WDSP_class': 46026,\n",
       "  'DEWP_class': 43101,\n",
       "  'VISIB_class': 47693})"
      ]
     },
     "execution_count": 7,
     "metadata": {},
     "output_type": "execute_result"
    }
   ],
   "source": [
    "get_counts()"
   ]
  }
 ],
 "metadata": {
  "kernelspec": {
   "display_name": "Python 3 (ipykernel)",
   "language": "python",
   "name": "python3"
  },
  "language_info": {
   "codemirror_mode": {
    "name": "ipython",
    "version": 3
   },
   "file_extension": ".py",
   "mimetype": "text/x-python",
   "name": "python",
   "nbconvert_exporter": "python",
   "pygments_lexer": "ipython3",
   "version": "3.9.16"
  }
 },
 "nbformat": 4,
 "nbformat_minor": 5
}
