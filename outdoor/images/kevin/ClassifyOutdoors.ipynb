{
 "cells": [
  {
   "cell_type": "markdown",
   "id": "9766d3b6",
   "metadata": {},
   "source": [
    "# Kevin"
   ]
  },
  {
   "cell_type": "code",
   "execution_count": 11,
   "id": "916bb4a6",
   "metadata": {},
   "outputs": [],
   "source": [
    "import os\n",
    "from PIL import Image\n",
    "import pandas as pd\n",
    "from matplotlib import pyplot as plt\n",
    "from IPython.display import clear_output"
   ]
  },
  {
   "cell_type": "code",
   "execution_count": 12,
   "id": "44b4cb91",
   "metadata": {},
   "outputs": [],
   "source": [
    "IMAGES_DIR = \".\"\n",
    "\n",
    "###From: https://towardsdatascience.com/label-your-images-easily-using-this-jupyter-notebook-code-4102037b7821\n",
    "\n",
    "def create_labels(path):\n",
    "\n",
    "    labels = []\n",
    "    path = path + '/'\n",
    "    val_for = ['jpg', 'jpeg', 'png']\n",
    "    img_list = os.listdir(path)\n",
    "    img_list = [i for i in img_list if i.split('.')[-1] in val_for][1822:]\n",
    "    \n",
    "    num_images = len(img_list)\n",
    "    index = 0\n",
    "    \n",
    "    for i in img_list:\n",
    "        print(f'{index}/{num_images} (continued from 1822)')\n",
    "        im = Image.open(path + i)\n",
    "        plt.imshow(im)\n",
    "        plt.show()\n",
    "        inp = input()\n",
    "        labels.append(int(inp))\n",
    "        \n",
    "        data = {'Image':img_list[0:index+1], 'Label':labels}\n",
    "        df = pd.DataFrame(data)\n",
    "        df.to_csv(f\"{path}/labels_continued.csv\") \n",
    "        \n",
    "        clear_output(wait=True)\n",
    "        index += 1\n",
    "    \n",
    "    print('\\nlabels.csv saved!')\n",
    "    return (df)"
   ]
  },
  {
   "cell_type": "markdown",
   "id": "0b1f758a",
   "metadata": {},
   "source": [
    "# For each image, input a number for whether the image is indoors/outdoors\n",
    "## 0 = indoors\n",
    "## 1 = outdoors, day\n",
    "## 2 = outdoors, night"
   ]
  },
  {
   "cell_type": "code",
   "execution_count": 13,
   "id": "ca696343",
   "metadata": {},
   "outputs": [
    {
     "name": "stdout",
     "output_type": "stream",
     "text": [
      "\n",
      "labels.csv saved!\n"
     ]
    },
    {
     "data": {
      "text/html": [
       "<div>\n",
       "<style scoped>\n",
       "    .dataframe tbody tr th:only-of-type {\n",
       "        vertical-align: middle;\n",
       "    }\n",
       "\n",
       "    .dataframe tbody tr th {\n",
       "        vertical-align: top;\n",
       "    }\n",
       "\n",
       "    .dataframe thead th {\n",
       "        text-align: right;\n",
       "    }\n",
       "</style>\n",
       "<table border=\"1\" class=\"dataframe\">\n",
       "  <thead>\n",
       "    <tr style=\"text-align: right;\">\n",
       "      <th></th>\n",
       "      <th>Image</th>\n",
       "      <th>Label</th>\n",
       "    </tr>\n",
       "  </thead>\n",
       "  <tbody>\n",
       "    <tr>\n",
       "      <th>0</th>\n",
       "      <td>1286071189.jpg</td>\n",
       "      <td>1</td>\n",
       "    </tr>\n",
       "    <tr>\n",
       "      <th>1</th>\n",
       "      <td>457337766.jpg</td>\n",
       "      <td>1</td>\n",
       "    </tr>\n",
       "    <tr>\n",
       "      <th>2</th>\n",
       "      <td>145654079.jpg</td>\n",
       "      <td>1</td>\n",
       "    </tr>\n",
       "    <tr>\n",
       "      <th>3</th>\n",
       "      <td>4616183423.jpg</td>\n",
       "      <td>1</td>\n",
       "    </tr>\n",
       "    <tr>\n",
       "      <th>4</th>\n",
       "      <td>1439866786.jpg</td>\n",
       "      <td>0</td>\n",
       "    </tr>\n",
       "    <tr>\n",
       "      <th>...</th>\n",
       "      <td>...</td>\n",
       "      <td>...</td>\n",
       "    </tr>\n",
       "    <tr>\n",
       "      <th>673</th>\n",
       "      <td>4580354709.jpg</td>\n",
       "      <td>0</td>\n",
       "    </tr>\n",
       "    <tr>\n",
       "      <th>674</th>\n",
       "      <td>4556453005.jpg</td>\n",
       "      <td>2</td>\n",
       "    </tr>\n",
       "    <tr>\n",
       "      <th>675</th>\n",
       "      <td>1102453652.jpg</td>\n",
       "      <td>1</td>\n",
       "    </tr>\n",
       "    <tr>\n",
       "      <th>676</th>\n",
       "      <td>4543758233.jpg</td>\n",
       "      <td>0</td>\n",
       "    </tr>\n",
       "    <tr>\n",
       "      <th>677</th>\n",
       "      <td>4647900226.jpg</td>\n",
       "      <td>1</td>\n",
       "    </tr>\n",
       "  </tbody>\n",
       "</table>\n",
       "<p>678 rows × 2 columns</p>\n",
       "</div>"
      ],
      "text/plain": [
       "              Image  Label\n",
       "0    1286071189.jpg      1\n",
       "1     457337766.jpg      1\n",
       "2     145654079.jpg      1\n",
       "3    4616183423.jpg      1\n",
       "4    1439866786.jpg      0\n",
       "..              ...    ...\n",
       "673  4580354709.jpg      0\n",
       "674  4556453005.jpg      2\n",
       "675  1102453652.jpg      1\n",
       "676  4543758233.jpg      0\n",
       "677  4647900226.jpg      1\n",
       "\n",
       "[678 rows x 2 columns]"
      ]
     },
     "execution_count": 13,
     "metadata": {},
     "output_type": "execute_result"
    }
   ],
   "source": [
    "create_labels(f\"{IMAGES_DIR}\")"
   ]
  },
  {
   "cell_type": "code",
   "execution_count": null,
   "id": "f793f1ee",
   "metadata": {},
   "outputs": [],
   "source": []
  }
 ],
 "metadata": {
  "kernelspec": {
   "display_name": "Python 3 (ipykernel)",
   "language": "python",
   "name": "python3"
  },
  "language_info": {
   "codemirror_mode": {
    "name": "ipython",
    "version": 3
   },
   "file_extension": ".py",
   "mimetype": "text/x-python",
   "name": "python",
   "nbconvert_exporter": "python",
   "pygments_lexer": "ipython3",
   "version": "3.8.10"
  }
 },
 "nbformat": 4,
 "nbformat_minor": 5
}
