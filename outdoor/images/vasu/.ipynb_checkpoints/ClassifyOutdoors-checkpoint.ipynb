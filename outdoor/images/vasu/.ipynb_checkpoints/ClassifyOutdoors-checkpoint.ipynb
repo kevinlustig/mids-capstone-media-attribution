{
 "cells": [
  {
   "cell_type": "markdown",
   "id": "416f8e1c",
   "metadata": {},
   "source": [
    "# Vasu"
   ]
  },
  {
   "cell_type": "code",
   "execution_count": 5,
   "id": "3f42857f",
   "metadata": {},
   "outputs": [],
   "source": [
    "import os\n",
    "from PIL import Image\n",
    "import pandas as pd\n",
    "from matplotlib import pyplot as plt\n",
    "from IPython.display import clear_output"
   ]
  },
  {
   "cell_type": "code",
   "execution_count": 6,
   "id": "20844952",
   "metadata": {},
   "outputs": [],
   "source": [
    "IMAGES_DIR = \".\"\n",
    "\n",
    "###From: https://towardsdatascience.com/label-your-images-easily-using-this-jupyter-notebook-code-4102037b7821\n",
    "\n",
    "def create_labels(path):\n",
    "\n",
    "    labels = []\n",
    "    path = path + '/'\n",
    "    val_for = ['jpg', 'jpeg', 'png']\n",
    "    img_list = os.listdir(path)\n",
    "    img_list = [i for i in img_list if i.split('.')[-1] in val_for]\n",
    "    \n",
    "    for i in img_list:\n",
    "        im = Image.open(path + i)\n",
    "        plt.imshow(im)\n",
    "        plt.show()\n",
    "        inp = input()\n",
    "        labels.append(int(inp))\n",
    "        clear_output(wait=True)\n",
    "        \n",
    "    data = {'Image':img_list, 'Label':labels}\n",
    "    df = pd.DataFrame(data)\n",
    "    df.to_csv(f\"{path}/labels.csv\") \n",
    "    \n",
    "    print('\\nlabels.csv saved!')\n",
    "    return (df)"
   ]
  },
  {
   "cell_type": "markdown",
   "id": "1d19b706",
   "metadata": {},
   "source": [
    "# For each image, input a number for whether the image is indoors/outdoors\n",
    "## 0 = indoors\n",
    "## 1 = outdoors"
   ]
  },
  {
   "cell_type": "code",
   "execution_count": 7,
   "id": "aa40a3e8",
   "metadata": {},
   "outputs": [
    {
     "ename": "FileNotFoundError",
     "evalue": "[Errno 2] No such file or directory: './vasu/'",
     "output_type": "error",
     "traceback": [
      "\u001b[0;31m---------------------------------------------------------------------------\u001b[0m",
      "\u001b[0;31mFileNotFoundError\u001b[0m                         Traceback (most recent call last)",
      "Cell \u001b[0;32mIn[7], line 1\u001b[0m\n\u001b[0;32m----> 1\u001b[0m \u001b[43mcreate_labels\u001b[49m\u001b[43m(\u001b[49m\u001b[38;5;124;43mf\u001b[39;49m\u001b[38;5;124;43m\"\u001b[39;49m\u001b[38;5;132;43;01m{\u001b[39;49;00m\u001b[43mIMAGES_DIR\u001b[49m\u001b[38;5;132;43;01m}\u001b[39;49;00m\u001b[38;5;124;43m/vasu\u001b[39;49m\u001b[38;5;124;43m\"\u001b[39;49m\u001b[43m)\u001b[49m\n",
      "Cell \u001b[0;32mIn[6], line 10\u001b[0m, in \u001b[0;36mcreate_labels\u001b[0;34m(path)\u001b[0m\n\u001b[1;32m      8\u001b[0m path \u001b[38;5;241m=\u001b[39m path \u001b[38;5;241m+\u001b[39m \u001b[38;5;124m'\u001b[39m\u001b[38;5;124m/\u001b[39m\u001b[38;5;124m'\u001b[39m\n\u001b[1;32m      9\u001b[0m val_for \u001b[38;5;241m=\u001b[39m [\u001b[38;5;124m'\u001b[39m\u001b[38;5;124mjpg\u001b[39m\u001b[38;5;124m'\u001b[39m, \u001b[38;5;124m'\u001b[39m\u001b[38;5;124mjpeg\u001b[39m\u001b[38;5;124m'\u001b[39m, \u001b[38;5;124m'\u001b[39m\u001b[38;5;124mpng\u001b[39m\u001b[38;5;124m'\u001b[39m]\n\u001b[0;32m---> 10\u001b[0m img_list \u001b[38;5;241m=\u001b[39m \u001b[43mos\u001b[49m\u001b[38;5;241;43m.\u001b[39;49m\u001b[43mlistdir\u001b[49m\u001b[43m(\u001b[49m\u001b[43mpath\u001b[49m\u001b[43m)\u001b[49m\n\u001b[1;32m     11\u001b[0m img_list \u001b[38;5;241m=\u001b[39m [i \u001b[38;5;28;01mfor\u001b[39;00m i \u001b[38;5;129;01min\u001b[39;00m img_list \u001b[38;5;28;01mif\u001b[39;00m i\u001b[38;5;241m.\u001b[39msplit(\u001b[38;5;124m'\u001b[39m\u001b[38;5;124m.\u001b[39m\u001b[38;5;124m'\u001b[39m)[\u001b[38;5;241m-\u001b[39m\u001b[38;5;241m1\u001b[39m] \u001b[38;5;129;01min\u001b[39;00m val_for]\n\u001b[1;32m     13\u001b[0m \u001b[38;5;28;01mfor\u001b[39;00m i \u001b[38;5;129;01min\u001b[39;00m img_list:\n",
      "\u001b[0;31mFileNotFoundError\u001b[0m: [Errno 2] No such file or directory: './vasu/'"
     ]
    }
   ],
   "source": [
    "create_labels(f\"{IMAGES_DIR}\")"
   ]
  },
  {
   "cell_type": "code",
   "execution_count": null,
   "id": "d4de8914",
   "metadata": {},
   "outputs": [],
   "source": []
  }
 ],
 "metadata": {
  "kernelspec": {
   "display_name": "Python 3 (ipykernel)",
   "language": "python",
   "name": "python3"
  },
  "language_info": {
   "codemirror_mode": {
    "name": "ipython",
    "version": 3
   },
   "file_extension": ".py",
   "mimetype": "text/x-python",
   "name": "python",
   "nbconvert_exporter": "python",
   "pygments_lexer": "ipython3",
   "version": "3.8.10"
  }
 },
 "nbformat": 4,
 "nbformat_minor": 5
}
