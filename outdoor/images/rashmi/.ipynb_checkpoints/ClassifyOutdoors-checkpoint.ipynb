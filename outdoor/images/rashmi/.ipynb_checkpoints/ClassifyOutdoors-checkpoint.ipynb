{
 "cells": [
  {
   "cell_type": "markdown",
   "id": "4d60f1a8",
   "metadata": {},
   "source": [
    "# Rashmi"
   ]
  },
  {
   "cell_type": "code",
   "execution_count": 1,
   "id": "3f42857f",
   "metadata": {},
   "outputs": [],
   "source": [
    "import os\n",
    "from PIL import Image\n",
    "import pandas as pd\n",
    "from matplotlib import pyplot as plt\n",
    "from IPython.display import clear_output"
   ]
  },
  {
   "cell_type": "markdown",
   "id": "1d19b706",
   "metadata": {},
   "source": [
    "# For each image, input a number for whether the image is indoors/outdoors\n",
    "## 0 = indoors\n",
    "## 1 = outdoors"
   ]
  },
  {
   "cell_type": "code",
   "execution_count": null,
   "id": "d4de8914",
   "metadata": {},
   "outputs": [],
   "source": [
    "path = \".\"\n",
    "\n",
    "###From: https://towardsdatascience.com/label-your-images-easily-using-this-jupyter-notebook-code-4102037b7821\n",
    "\n",
    "\n",
    "\n",
    "labels = []\n",
    "path = path + '/'\n",
    "val_for = ['jpg', 'jpeg', 'png']\n",
    "valid_img_list = os.listdir(path)\n",
    "valid_img_list = [i for i in valid_img_list if i.split('.')[-1] in val_for]\n",
    "\n",
    "print(\"Total File:\", len(valid_img_list))\n"
   ]
  },
  {
   "cell_type": "code",
   "execution_count": 25,
   "id": "c9374268",
   "metadata": {},
   "outputs": [
    {
     "name": "stdout",
     "output_type": "stream",
     "text": [
      "1480 1501 21 1020\n",
      "{'Image': [], 'Label': [1, 0, 1, 1, 0, 1, 1, 1, 1, 2, 1, 1, 1, 1, 1, 0, 1, 0, 1, 1, 1]}\n"
     ]
    },
    {
     "ename": "ValueError",
     "evalue": "All arrays must be of the same length",
     "output_type": "error",
     "traceback": [
      "\u001b[0;31m---------------------------------------------------------------------------\u001b[0m",
      "\u001b[0;31mValueError\u001b[0m                                Traceback (most recent call last)",
      "Cell \u001b[0;32mIn[25], line 20\u001b[0m\n\u001b[1;32m     18\u001b[0m data \u001b[38;5;241m=\u001b[39m {\u001b[38;5;124m'\u001b[39m\u001b[38;5;124mImage\u001b[39m\u001b[38;5;124m'\u001b[39m:img_list[pre_save:pre_save\u001b[38;5;241m+\u001b[39m\u001b[38;5;28mlen\u001b[39m(labels)], \u001b[38;5;124m'\u001b[39m\u001b[38;5;124mLabel\u001b[39m\u001b[38;5;124m'\u001b[39m:labels}\n\u001b[1;32m     19\u001b[0m \u001b[38;5;28mprint\u001b[39m(data)\n\u001b[0;32m---> 20\u001b[0m df \u001b[38;5;241m=\u001b[39m \u001b[43mpd\u001b[49m\u001b[38;5;241;43m.\u001b[39;49m\u001b[43mDataFrame\u001b[49m\u001b[43m(\u001b[49m\u001b[43mdata\u001b[49m\u001b[43m)\u001b[49m\n\u001b[1;32m     21\u001b[0m df\u001b[38;5;241m.\u001b[39mto_csv(\u001b[38;5;124mf\u001b[39m\u001b[38;5;124m\"\u001b[39m\u001b[38;5;132;01m{\u001b[39;00mpath\u001b[38;5;132;01m}\u001b[39;00m\u001b[38;5;124m/labels-\u001b[39m\u001b[38;5;132;01m{\u001b[39;00mpre_save\u001b[38;5;241m/\u001b[39m\u001b[38;5;241m/\u001b[39mbatch_size\u001b[38;5;132;01m}\u001b[39;00m\u001b[38;5;124m.csv\u001b[39m\u001b[38;5;124m\"\u001b[39m) \n\u001b[1;32m     22\u001b[0m \u001b[38;5;28mprint\u001b[39m(\u001b[38;5;124m\"\u001b[39m\u001b[38;5;124mSaved output #\u001b[39m\u001b[38;5;124m\"\u001b[39m, pre_save\u001b[38;5;241m/\u001b[39m\u001b[38;5;241m/\u001b[39mbatch_size)\n",
      "File \u001b[0;32m~/.local/lib/python3.8/site-packages/pandas/core/frame.py:664\u001b[0m, in \u001b[0;36mDataFrame.__init__\u001b[0;34m(self, data, index, columns, dtype, copy)\u001b[0m\n\u001b[1;32m    658\u001b[0m     mgr \u001b[38;5;241m=\u001b[39m \u001b[38;5;28mself\u001b[39m\u001b[38;5;241m.\u001b[39m_init_mgr(\n\u001b[1;32m    659\u001b[0m         data, axes\u001b[38;5;241m=\u001b[39m{\u001b[38;5;124m\"\u001b[39m\u001b[38;5;124mindex\u001b[39m\u001b[38;5;124m\"\u001b[39m: index, \u001b[38;5;124m\"\u001b[39m\u001b[38;5;124mcolumns\u001b[39m\u001b[38;5;124m\"\u001b[39m: columns}, dtype\u001b[38;5;241m=\u001b[39mdtype, copy\u001b[38;5;241m=\u001b[39mcopy\n\u001b[1;32m    660\u001b[0m     )\n\u001b[1;32m    662\u001b[0m \u001b[38;5;28;01melif\u001b[39;00m \u001b[38;5;28misinstance\u001b[39m(data, \u001b[38;5;28mdict\u001b[39m):\n\u001b[1;32m    663\u001b[0m     \u001b[38;5;66;03m# GH#38939 de facto copy defaults to False only in non-dict cases\u001b[39;00m\n\u001b[0;32m--> 664\u001b[0m     mgr \u001b[38;5;241m=\u001b[39m \u001b[43mdict_to_mgr\u001b[49m\u001b[43m(\u001b[49m\u001b[43mdata\u001b[49m\u001b[43m,\u001b[49m\u001b[43m \u001b[49m\u001b[43mindex\u001b[49m\u001b[43m,\u001b[49m\u001b[43m \u001b[49m\u001b[43mcolumns\u001b[49m\u001b[43m,\u001b[49m\u001b[43m \u001b[49m\u001b[43mdtype\u001b[49m\u001b[38;5;241;43m=\u001b[39;49m\u001b[43mdtype\u001b[49m\u001b[43m,\u001b[49m\u001b[43m \u001b[49m\u001b[43mcopy\u001b[49m\u001b[38;5;241;43m=\u001b[39;49m\u001b[43mcopy\u001b[49m\u001b[43m,\u001b[49m\u001b[43m \u001b[49m\u001b[43mtyp\u001b[49m\u001b[38;5;241;43m=\u001b[39;49m\u001b[43mmanager\u001b[49m\u001b[43m)\u001b[49m\n\u001b[1;32m    665\u001b[0m \u001b[38;5;28;01melif\u001b[39;00m \u001b[38;5;28misinstance\u001b[39m(data, ma\u001b[38;5;241m.\u001b[39mMaskedArray):\n\u001b[1;32m    666\u001b[0m     \u001b[38;5;28;01mimport\u001b[39;00m \u001b[38;5;21;01mnumpy\u001b[39;00m\u001b[38;5;21;01m.\u001b[39;00m\u001b[38;5;21;01mma\u001b[39;00m\u001b[38;5;21;01m.\u001b[39;00m\u001b[38;5;21;01mmrecords\u001b[39;00m \u001b[38;5;28;01mas\u001b[39;00m \u001b[38;5;21;01mmrecords\u001b[39;00m\n",
      "File \u001b[0;32m~/.local/lib/python3.8/site-packages/pandas/core/internals/construction.py:493\u001b[0m, in \u001b[0;36mdict_to_mgr\u001b[0;34m(data, index, columns, dtype, typ, copy)\u001b[0m\n\u001b[1;32m    489\u001b[0m     \u001b[38;5;28;01melse\u001b[39;00m:\n\u001b[1;32m    490\u001b[0m         \u001b[38;5;66;03m# dtype check to exclude e.g. range objects, scalars\u001b[39;00m\n\u001b[1;32m    491\u001b[0m         arrays \u001b[38;5;241m=\u001b[39m [x\u001b[38;5;241m.\u001b[39mcopy() \u001b[38;5;28;01mif\u001b[39;00m \u001b[38;5;28mhasattr\u001b[39m(x, \u001b[38;5;124m\"\u001b[39m\u001b[38;5;124mdtype\u001b[39m\u001b[38;5;124m\"\u001b[39m) \u001b[38;5;28;01melse\u001b[39;00m x \u001b[38;5;28;01mfor\u001b[39;00m x \u001b[38;5;129;01min\u001b[39;00m arrays]\n\u001b[0;32m--> 493\u001b[0m \u001b[38;5;28;01mreturn\u001b[39;00m \u001b[43marrays_to_mgr\u001b[49m\u001b[43m(\u001b[49m\u001b[43marrays\u001b[49m\u001b[43m,\u001b[49m\u001b[43m \u001b[49m\u001b[43mcolumns\u001b[49m\u001b[43m,\u001b[49m\u001b[43m \u001b[49m\u001b[43mindex\u001b[49m\u001b[43m,\u001b[49m\u001b[43m \u001b[49m\u001b[43mdtype\u001b[49m\u001b[38;5;241;43m=\u001b[39;49m\u001b[43mdtype\u001b[49m\u001b[43m,\u001b[49m\u001b[43m \u001b[49m\u001b[43mtyp\u001b[49m\u001b[38;5;241;43m=\u001b[39;49m\u001b[43mtyp\u001b[49m\u001b[43m,\u001b[49m\u001b[43m \u001b[49m\u001b[43mconsolidate\u001b[49m\u001b[38;5;241;43m=\u001b[39;49m\u001b[43mcopy\u001b[49m\u001b[43m)\u001b[49m\n",
      "File \u001b[0;32m~/.local/lib/python3.8/site-packages/pandas/core/internals/construction.py:118\u001b[0m, in \u001b[0;36marrays_to_mgr\u001b[0;34m(arrays, columns, index, dtype, verify_integrity, typ, consolidate)\u001b[0m\n\u001b[1;32m    115\u001b[0m \u001b[38;5;28;01mif\u001b[39;00m verify_integrity:\n\u001b[1;32m    116\u001b[0m     \u001b[38;5;66;03m# figure out the index, if necessary\u001b[39;00m\n\u001b[1;32m    117\u001b[0m     \u001b[38;5;28;01mif\u001b[39;00m index \u001b[38;5;129;01mis\u001b[39;00m \u001b[38;5;28;01mNone\u001b[39;00m:\n\u001b[0;32m--> 118\u001b[0m         index \u001b[38;5;241m=\u001b[39m \u001b[43m_extract_index\u001b[49m\u001b[43m(\u001b[49m\u001b[43marrays\u001b[49m\u001b[43m)\u001b[49m\n\u001b[1;32m    119\u001b[0m     \u001b[38;5;28;01melse\u001b[39;00m:\n\u001b[1;32m    120\u001b[0m         index \u001b[38;5;241m=\u001b[39m ensure_index(index)\n",
      "File \u001b[0;32m~/.local/lib/python3.8/site-packages/pandas/core/internals/construction.py:666\u001b[0m, in \u001b[0;36m_extract_index\u001b[0;34m(data)\u001b[0m\n\u001b[1;32m    664\u001b[0m lengths \u001b[38;5;241m=\u001b[39m \u001b[38;5;28mlist\u001b[39m(\u001b[38;5;28mset\u001b[39m(raw_lengths))\n\u001b[1;32m    665\u001b[0m \u001b[38;5;28;01mif\u001b[39;00m \u001b[38;5;28mlen\u001b[39m(lengths) \u001b[38;5;241m>\u001b[39m \u001b[38;5;241m1\u001b[39m:\n\u001b[0;32m--> 666\u001b[0m     \u001b[38;5;28;01mraise\u001b[39;00m \u001b[38;5;167;01mValueError\u001b[39;00m(\u001b[38;5;124m\"\u001b[39m\u001b[38;5;124mAll arrays must be of the same length\u001b[39m\u001b[38;5;124m\"\u001b[39m)\n\u001b[1;32m    668\u001b[0m \u001b[38;5;28;01mif\u001b[39;00m have_dicts:\n\u001b[1;32m    669\u001b[0m     \u001b[38;5;28;01mraise\u001b[39;00m \u001b[38;5;167;01mValueError\u001b[39;00m(\n\u001b[1;32m    670\u001b[0m         \u001b[38;5;124m\"\u001b[39m\u001b[38;5;124mMixing dicts with non-Series may lead to ambiguous ordering.\u001b[39m\u001b[38;5;124m\"\u001b[39m\n\u001b[1;32m    671\u001b[0m     )\n",
      "\u001b[0;31mValueError\u001b[0m: All arrays must be of the same length"
     ]
    }
   ],
   "source": [
    "start = 1480\n",
    "pre_save = start\n",
    "labels = []\n",
    "batch_size = 20\n",
    "img_list = valid_img_list[start:]\n",
    "\n",
    "for idx, i in zip(range(len(img_list)),img_list):\n",
    "    print(\"Image #\", start+idx)\n",
    "    im = Image.open(path + i)\n",
    "    plt.imshow(im)\n",
    "    plt.show()\n",
    "    inp = input()\n",
    "    labels.append(int(inp))\n",
    "    clear_output(wait=True)\n",
    "    \n",
    "    if(idx>0 and idx%batch_size==0):\n",
    "        print(pre_save, pre_save+len(labels), len(labels), len(img_list))\n",
    "        data = {'Image':valid_img_list[pre_save:pre_save+len(labels)], 'Label':labels}\n",
    "        print(data)\n",
    "        df = pd.DataFrame(data)\n",
    "        df.to_csv(f\"{path}/labels-{pre_save//batch_size}.csv\") \n",
    "        print(\"Saved output #\", pre_save//batch_size)\n",
    "        labels = []\n",
    "        pre_save = start+idx+1\n",
    "\n",
    "if len(labels)>0:\n",
    "    data = {'Image':valid_img_list[pre_save:pre_save+len(labels)], 'Label':labels}\n",
    "    df = pd.DataFrame(data)\n",
    "    df.to_csv(f\"{path}/labels-last.csv\") \n",
    "\n"
   ]
  },
  {
   "cell_type": "code",
   "execution_count": 27,
   "id": "4af37851",
   "metadata": {},
   "outputs": [
    {
     "data": {
      "text/plain": [
       "['./labels-1.csv',\n",
       " './labels-2.csv',\n",
       " './labels-3.csv',\n",
       " './labels-4.csv',\n",
       " './labels-5.csv',\n",
       " './labels-6.csv',\n",
       " './labels-7.csv',\n",
       " './labels-8.csv',\n",
       " './labels-9.csv',\n",
       " './labels-10.csv',\n",
       " './labels-11.csv',\n",
       " './labels-12.csv',\n",
       " './labels-13.csv',\n",
       " './labels-14.csv',\n",
       " './labels-15.csv',\n",
       " './labels-16.csv',\n",
       " './labels-17.csv',\n",
       " './labels-18.csv',\n",
       " './labels-19.csv',\n",
       " './labels-20.csv',\n",
       " './labels-21.csv',\n",
       " './labels-22.csv',\n",
       " './labels-23.csv',\n",
       " './labels-24.csv',\n",
       " './labels-25.csv',\n",
       " './labels-26.csv',\n",
       " './labels-27.csv',\n",
       " './labels-28.csv',\n",
       " './labels-29.csv',\n",
       " './labels-30.csv',\n",
       " './labels-31.csv',\n",
       " './labels-32.csv',\n",
       " './labels-33.csv',\n",
       " './labels-34.csv',\n",
       " './labels-35.csv',\n",
       " './labels-36.csv',\n",
       " './labels-37.csv',\n",
       " './labels-38.csv',\n",
       " './labels-39.csv',\n",
       " './labels-40.csv',\n",
       " './labels-41.csv',\n",
       " './labels-42.csv',\n",
       " './labels-43.csv',\n",
       " './labels-44.csv',\n",
       " './labels-45.csv',\n",
       " './labels-46.csv',\n",
       " './labels-47.csv',\n",
       " './labels-48.csv',\n",
       " './labels-49.csv',\n",
       " './labels-50.csv',\n",
       " './labels-51.csv',\n",
       " './labels-52.csv',\n",
       " './labels-53.csv',\n",
       " './labels-54.csv',\n",
       " './labels-55.csv',\n",
       " './labels-56.csv',\n",
       " './labels-57.csv',\n",
       " './labels-58.csv',\n",
       " './labels-59.csv',\n",
       " './labels-60.csv',\n",
       " './labels-61.csv',\n",
       " './labels-62.csv',\n",
       " './labels-63.csv',\n",
       " './labels-64.csv',\n",
       " './labels-65.csv',\n",
       " './labels-66.csv',\n",
       " './labels-67.csv',\n",
       " './labels-68.csv',\n",
       " './labels-69.csv',\n",
       " './labels-70.csv',\n",
       " './labels-71.csv',\n",
       " './labels-72.csv',\n",
       " './labels-73.csv',\n",
       " './labels-74.csv']"
      ]
     },
     "execution_count": 27,
     "metadata": {},
     "output_type": "execute_result"
    }
   ],
   "source": [
    "import glob\n",
    "files = glob.glob('./*.csv')\n",
    "files.sort(key=os.path.getmtime)\n",
    "files"
   ]
  },
  {
   "cell_type": "code",
   "execution_count": 28,
   "id": "88207da5",
   "metadata": {},
   "outputs": [
    {
     "name": "stdout",
     "output_type": "stream",
     "text": [
      "      Unnamed: 0           Image  Label\n",
      "0              0  1444139556.jpg      1\n",
      "1              1  4589729844.jpg      0\n",
      "2              2   117582730.jpg      1\n",
      "3              3  4539373592.jpg      1\n",
      "4              4  4579692883.jpg      0\n",
      "...          ...             ...    ...\n",
      "1477          15  1326782829.jpg      1\n",
      "1478          16  1393496199.jpg      0\n",
      "1479          17  4530044207.jpg      1\n",
      "1480          18  4601338922.jpg      1\n",
      "1481          19  4538933133.jpg      1\n",
      "\n",
      "[1482 rows x 3 columns]\n"
     ]
    }
   ],
   "source": [
    "\n",
    "# importing libraries\n",
    "import pandas as pd\n",
    "import glob\n",
    "import os\n",
    "  \n",
    "# A list of all joined files is returned\n",
    "files = glob.glob('./*.csv')\n",
    "files.sort(key=os.path.getmtime)\n",
    "\n",
    "# Finally, the files are joined\n",
    "df = pd.concat(map(pd.read_csv, files), ignore_index=True)\n",
    "print(df)"
   ]
  },
  {
   "cell_type": "code",
   "execution_count": null,
   "id": "1c3c03cd",
   "metadata": {},
   "outputs": [],
   "source": []
  }
 ],
 "metadata": {
  "kernelspec": {
   "display_name": "Python 3 (ipykernel)",
   "language": "python",
   "name": "python3"
  },
  "language_info": {
   "codemirror_mode": {
    "name": "ipython",
    "version": 3
   },
   "file_extension": ".py",
   "mimetype": "text/x-python",
   "name": "python",
   "nbconvert_exporter": "python",
   "pygments_lexer": "ipython3",
   "version": "3.8.10"
  }
 },
 "nbformat": 4,
 "nbformat_minor": 5
}
